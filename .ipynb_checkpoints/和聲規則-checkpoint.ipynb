{
 "cells": [
  {
   "cell_type": "markdown",
   "metadata": {},
   "source": [
    "# import package"
   ]
  },
  {
   "cell_type": "code",
   "execution_count": 1,
   "metadata": {},
   "outputs": [],
   "source": [
    "import os\n",
    "import numpy as np\n",
    "import matplotlib.pyplot as plt\n",
    "import pandas as pd\n",
    "#import librosa\n",
    "#import librosa.display\n",
    "#import pretty_midi\n",
    "import mido\n",
    "import music21\n",
    "import mir_eval"
   ]
  },
  {
   "cell_type": "code",
   "execution_count": 8,
   "metadata": {},
   "outputs": [],
   "source": [
    "us = music21.environment.UserSettings()\n",
    "us['musicxmlPath'] = r\"C:\\Program Files\\MuseScore 3\\bin\\MuseScore3.exe\"\n",
    "us['musescoreDirectPNGPath'] = r\"C:\\Program Files\\MuseScore 3\\bin\\MuseScore3.exe\""
   ]
  },
  {
   "cell_type": "markdown",
   "metadata": {},
   "source": [
    "# 和聲規則"
   ]
  },
  {
   "cell_type": "code",
   "execution_count": null,
   "metadata": {},
   "outputs": [],
   "source": []
  },
  {
   "cell_type": "markdown",
   "metadata": {},
   "source": [
    "# example"
   ]
  },
  {
   "cell_type": "code",
   "execution_count": 45,
   "metadata": {},
   "outputs": [],
   "source": [
    "path = './harmony_sample_midi/harmony_sample_1.mid'"
   ]
  },
  {
   "cell_type": "code",
   "execution_count": 46,
   "metadata": {},
   "outputs": [],
   "source": [
    "mf = music21.midi.MidiFile()\n",
    "mf.open(path)\n",
    "mf.read()\n",
    "mf.close()"
   ]
  },
  {
   "cell_type": "code",
   "execution_count": 47,
   "metadata": {},
   "outputs": [
    {
     "data": {
      "text/plain": [
       "<music21.midi.MidiFile 4 tracks>"
      ]
     },
     "execution_count": 47,
     "metadata": {},
     "output_type": "execute_result"
    }
   ],
   "source": [
    "mf"
   ]
  },
  {
   "cell_type": "code",
   "execution_count": 49,
   "metadata": {},
   "outputs": [
    {
     "data": {
      "text/plain": [
       "1"
      ]
     },
     "execution_count": 49,
     "metadata": {},
     "output_type": "execute_result"
    }
   ],
   "source": [
    "mf.format"
   ]
  },
  {
   "cell_type": "code",
   "execution_count": 25,
   "metadata": {},
   "outputs": [
    {
     "data": {
      "text/plain": [
       "[<music21.midi.MidiTrack 0 -- 120 events>,\n",
       " <music21.midi.MidiTrack 1 -- 116 events>,\n",
       " <music21.midi.MidiTrack 2 -- 116 events>,\n",
       " <music21.midi.MidiTrack 3 -- 116 events>]"
      ]
     },
     "execution_count": 25,
     "metadata": {},
     "output_type": "execute_result"
    }
   ],
   "source": [
    "mf.tracks"
   ]
  },
  {
   "cell_type": "code",
   "execution_count": 54,
   "metadata": {},
   "outputs": [],
   "source": [
    "mt = mf.tracks[0]"
   ]
  },
  {
   "cell_type": "code",
   "execution_count": 55,
   "metadata": {},
   "outputs": [
    {
     "data": {
      "text/plain": [
       "[<music21.midi.DeltaTime (empty) track=0, channel=None>,\n",
       " <music21.midi.MidiEvent SEQUENCE_TRACK_NAME, track=0, channel=None, data=b'Soprano\\x00'>,\n",
       " <music21.midi.DeltaTime (empty) track=0, channel=None>,\n",
       " <music21.midi.MidiEvent TIME_SIGNATURE, track=0, channel=None, data=b'\\x03\\x02\\x18\\x08'>,\n",
       " <music21.midi.DeltaTime (empty) track=0, channel=None>,\n",
       " <music21.midi.MidiEvent KEY_SIGNATURE, track=0, channel=None, data=b'\\x03\\x00'>,\n",
       " <music21.midi.DeltaTime (empty) track=0, channel=None>,\n",
       " <music21.midi.MidiEvent SET_TEMPO, track=0, channel=None, data=b'\\x07\\xa1 '>,\n",
       " <music21.midi.DeltaTime (empty) track=0, channel=None>,\n",
       " <music21.midi.MidiEvent RESET_ALL_CONTROLLERS, track=0, channel=1, parameter1=121, parameter2=0>,\n",
       " <music21.midi.DeltaTime (empty) track=0, channel=None>,\n",
       " <music21.midi.MidiEvent PROGRAM_CHANGE, track=0, channel=1, data=52>,\n",
       " <music21.midi.DeltaTime (empty) track=0, channel=None>,\n",
       " <music21.midi.MidiEvent CONTROLLER_CHANGE, track=0, channel=1, parameter1=7, parameter2=100>,\n",
       " <music21.midi.DeltaTime (empty) track=0, channel=None>,\n",
       " <music21.midi.MidiEvent CONTROLLER_CHANGE, track=0, channel=1, parameter1=10, parameter2=64>,\n",
       " <music21.midi.DeltaTime (empty) track=0, channel=None>,\n",
       " <music21.midi.MidiEvent CONTROLLER_CHANGE, track=0, channel=1, parameter1=91, parameter2=0>,\n",
       " <music21.midi.DeltaTime (empty) track=0, channel=None>,\n",
       " <music21.midi.MidiEvent CONTROLLER_CHANGE, track=0, channel=1, parameter1=93, parameter2=0>,\n",
       " <music21.midi.DeltaTime (empty) track=0, channel=None>,\n",
       " <music21.midi.MidiEvent MIDI_PORT, track=0, channel=None, data=b'\\x00'>,\n",
       " <music21.midi.DeltaTime (empty) track=0, channel=None>,\n",
       " <music21.midi.MidiEvent NOTE_ON, track=0, channel=1, pitch=73, velocity=80>,\n",
       " <music21.midi.DeltaTime (empty) track=0, channel=None>,\n",
       " <music21.midi.MidiEvent CONTROLLER_CHANGE, track=0, channel=1, parameter1=2, parameter2=80>,\n",
       " <music21.midi.DeltaTime t=959, track=0, channel=None>,\n",
       " <music21.midi.MidiEvent NOTE_ON, track=0, channel=1, pitch=73, velocity=0>,\n",
       " <music21.midi.DeltaTime t=1, track=0, channel=None>,\n",
       " <music21.midi.MidiEvent NOTE_ON, track=0, channel=1, pitch=69, velocity=80>,\n",
       " <music21.midi.DeltaTime (empty) track=0, channel=None>,\n",
       " <music21.midi.MidiEvent CONTROLLER_CHANGE, track=0, channel=1, parameter1=2, parameter2=80>,\n",
       " <music21.midi.DeltaTime t=479, track=0, channel=None>,\n",
       " <music21.midi.MidiEvent NOTE_ON, track=0, channel=1, pitch=69, velocity=0>,\n",
       " <music21.midi.DeltaTime t=1, track=0, channel=None>,\n",
       " <music21.midi.MidiEvent NOTE_ON, track=0, channel=1, pitch=71, velocity=80>,\n",
       " <music21.midi.DeltaTime (empty) track=0, channel=None>,\n",
       " <music21.midi.MidiEvent CONTROLLER_CHANGE, track=0, channel=1, parameter1=2, parameter2=80>,\n",
       " <music21.midi.DeltaTime t=959, track=0, channel=None>,\n",
       " <music21.midi.MidiEvent NOTE_ON, track=0, channel=1, pitch=71, velocity=0>,\n",
       " <music21.midi.DeltaTime t=1, track=0, channel=None>,\n",
       " <music21.midi.MidiEvent NOTE_ON, track=0, channel=1, pitch=71, velocity=80>,\n",
       " <music21.midi.DeltaTime (empty) track=0, channel=None>,\n",
       " <music21.midi.MidiEvent CONTROLLER_CHANGE, track=0, channel=1, parameter1=2, parameter2=80>,\n",
       " <music21.midi.DeltaTime t=479, track=0, channel=None>,\n",
       " <music21.midi.MidiEvent NOTE_ON, track=0, channel=1, pitch=71, velocity=0>,\n",
       " <music21.midi.DeltaTime t=1, track=0, channel=None>,\n",
       " <music21.midi.MidiEvent NOTE_ON, track=0, channel=1, pitch=73, velocity=80>,\n",
       " <music21.midi.DeltaTime (empty) track=0, channel=None>,\n",
       " <music21.midi.MidiEvent CONTROLLER_CHANGE, track=0, channel=1, parameter1=2, parameter2=80>,\n",
       " <music21.midi.DeltaTime t=479, track=0, channel=None>,\n",
       " <music21.midi.MidiEvent NOTE_ON, track=0, channel=1, pitch=73, velocity=0>,\n",
       " <music21.midi.DeltaTime t=1, track=0, channel=None>,\n",
       " <music21.midi.MidiEvent NOTE_ON, track=0, channel=1, pitch=69, velocity=80>,\n",
       " <music21.midi.DeltaTime (empty) track=0, channel=None>,\n",
       " <music21.midi.MidiEvent CONTROLLER_CHANGE, track=0, channel=1, parameter1=2, parameter2=80>,\n",
       " <music21.midi.DeltaTime t=479, track=0, channel=None>,\n",
       " <music21.midi.MidiEvent NOTE_ON, track=0, channel=1, pitch=69, velocity=0>,\n",
       " <music21.midi.DeltaTime t=1, track=0, channel=None>,\n",
       " <music21.midi.MidiEvent NOTE_ON, track=0, channel=1, pitch=73, velocity=80>,\n",
       " <music21.midi.DeltaTime (empty) track=0, channel=None>,\n",
       " <music21.midi.MidiEvent CONTROLLER_CHANGE, track=0, channel=1, parameter1=2, parameter2=80>,\n",
       " <music21.midi.DeltaTime t=479, track=0, channel=None>,\n",
       " <music21.midi.MidiEvent NOTE_ON, track=0, channel=1, pitch=73, velocity=0>,\n",
       " <music21.midi.DeltaTime t=1, track=0, channel=None>,\n",
       " <music21.midi.MidiEvent NOTE_ON, track=0, channel=1, pitch=71, velocity=80>,\n",
       " <music21.midi.DeltaTime (empty) track=0, channel=None>,\n",
       " <music21.midi.MidiEvent CONTROLLER_CHANGE, track=0, channel=1, parameter1=2, parameter2=80>,\n",
       " <music21.midi.DeltaTime t=1439, track=0, channel=None>,\n",
       " <music21.midi.MidiEvent NOTE_ON, track=0, channel=1, pitch=71, velocity=0>,\n",
       " <music21.midi.DeltaTime t=1, track=0, channel=None>,\n",
       " <music21.midi.MidiEvent NOTE_ON, track=0, channel=1, pitch=73, velocity=80>,\n",
       " <music21.midi.DeltaTime (empty) track=0, channel=None>,\n",
       " <music21.midi.MidiEvent CONTROLLER_CHANGE, track=0, channel=1, parameter1=2, parameter2=80>,\n",
       " <music21.midi.DeltaTime t=959, track=0, channel=None>,\n",
       " <music21.midi.MidiEvent NOTE_ON, track=0, channel=1, pitch=73, velocity=0>,\n",
       " <music21.midi.DeltaTime t=1, track=0, channel=None>,\n",
       " <music21.midi.MidiEvent NOTE_ON, track=0, channel=1, pitch=69, velocity=80>,\n",
       " <music21.midi.DeltaTime (empty) track=0, channel=None>,\n",
       " <music21.midi.MidiEvent CONTROLLER_CHANGE, track=0, channel=1, parameter1=2, parameter2=80>,\n",
       " <music21.midi.DeltaTime t=479, track=0, channel=None>,\n",
       " <music21.midi.MidiEvent NOTE_ON, track=0, channel=1, pitch=69, velocity=0>,\n",
       " <music21.midi.DeltaTime t=1, track=0, channel=None>,\n",
       " <music21.midi.MidiEvent NOTE_ON, track=0, channel=1, pitch=71, velocity=80>,\n",
       " <music21.midi.DeltaTime (empty) track=0, channel=None>,\n",
       " <music21.midi.MidiEvent CONTROLLER_CHANGE, track=0, channel=1, parameter1=2, parameter2=80>,\n",
       " <music21.midi.DeltaTime t=959, track=0, channel=None>,\n",
       " <music21.midi.MidiEvent NOTE_ON, track=0, channel=1, pitch=71, velocity=0>,\n",
       " <music21.midi.DeltaTime t=1, track=0, channel=None>,\n",
       " <music21.midi.MidiEvent NOTE_ON, track=0, channel=1, pitch=73, velocity=80>,\n",
       " <music21.midi.DeltaTime (empty) track=0, channel=None>,\n",
       " <music21.midi.MidiEvent CONTROLLER_CHANGE, track=0, channel=1, parameter1=2, parameter2=80>,\n",
       " <music21.midi.DeltaTime t=479, track=0, channel=None>,\n",
       " <music21.midi.MidiEvent NOTE_ON, track=0, channel=1, pitch=73, velocity=0>,\n",
       " <music21.midi.DeltaTime t=1, track=0, channel=None>,\n",
       " <music21.midi.MidiEvent NOTE_ON, track=0, channel=1, pitch=76, velocity=80>,\n",
       " <music21.midi.DeltaTime (empty) track=0, channel=None>,\n",
       " <music21.midi.MidiEvent CONTROLLER_CHANGE, track=0, channel=1, parameter1=2, parameter2=80>,\n",
       " <music21.midi.DeltaTime t=479, track=0, channel=None>,\n",
       " <music21.midi.MidiEvent NOTE_ON, track=0, channel=1, pitch=76, velocity=0>,\n",
       " <music21.midi.DeltaTime t=1, track=0, channel=None>,\n",
       " <music21.midi.MidiEvent NOTE_ON, track=0, channel=1, pitch=74, velocity=80>,\n",
       " <music21.midi.DeltaTime (empty) track=0, channel=None>,\n",
       " <music21.midi.MidiEvent CONTROLLER_CHANGE, track=0, channel=1, parameter1=2, parameter2=80>,\n",
       " <music21.midi.DeltaTime t=479, track=0, channel=None>,\n",
       " <music21.midi.MidiEvent NOTE_ON, track=0, channel=1, pitch=74, velocity=0>,\n",
       " <music21.midi.DeltaTime t=1, track=0, channel=None>,\n",
       " <music21.midi.MidiEvent NOTE_ON, track=0, channel=1, pitch=74, velocity=80>,\n",
       " <music21.midi.DeltaTime (empty) track=0, channel=None>,\n",
       " <music21.midi.MidiEvent CONTROLLER_CHANGE, track=0, channel=1, parameter1=2, parameter2=80>,\n",
       " <music21.midi.DeltaTime t=479, track=0, channel=None>,\n",
       " <music21.midi.MidiEvent NOTE_ON, track=0, channel=1, pitch=74, velocity=0>,\n",
       " <music21.midi.DeltaTime t=1, track=0, channel=None>,\n",
       " <music21.midi.MidiEvent NOTE_ON, track=0, channel=1, pitch=73, velocity=80>,\n",
       " <music21.midi.DeltaTime (empty) track=0, channel=None>,\n",
       " <music21.midi.MidiEvent CONTROLLER_CHANGE, track=0, channel=1, parameter1=2, parameter2=80>,\n",
       " <music21.midi.DeltaTime t=1439, track=0, channel=None>,\n",
       " <music21.midi.MidiEvent NOTE_ON, track=0, channel=1, pitch=73, velocity=0>,\n",
       " <music21.midi.DeltaTime t=1, track=0, channel=None>,\n",
       " <music21.midi.MidiEvent END_OF_TRACK, track=0, channel=None, data=b''>]"
      ]
     },
     "execution_count": 55,
     "metadata": {},
     "output_type": "execute_result"
    }
   ],
   "source": [
    "mt.events"
   ]
  },
  {
   "cell_type": "code",
   "execution_count": 57,
   "metadata": {},
   "outputs": [
    {
     "data": {
      "text/plain": [
       "[1]"
      ]
     },
     "execution_count": 57,
     "metadata": {},
     "output_type": "execute_result"
    }
   ],
   "source": [
    "mt.getChannels()"
   ]
  },
  {
   "cell_type": "code",
   "execution_count": 63,
   "metadata": {},
   "outputs": [],
   "source": [
    "me = mt.events"
   ]
  },
  {
   "cell_type": "code",
   "execution_count": 65,
   "metadata": {},
   "outputs": [
    {
     "data": {
      "text/plain": [
       "<music21.midi.DeltaTime (empty) track=0, channel=None>"
      ]
     },
     "execution_count": 65,
     "metadata": {},
     "output_type": "execute_result"
    }
   ],
   "source": [
    "me[0]"
   ]
  },
  {
   "cell_type": "code",
   "execution_count": 64,
   "metadata": {},
   "outputs": [
    {
     "data": {
      "text/plain": [
       "<music21.midi.MidiEvent SEQUENCE_TRACK_NAME, track=0, channel=None, data=b'Soprano\\x00'>"
      ]
     },
     "execution_count": 64,
     "metadata": {},
     "output_type": "execute_result"
    }
   ],
   "source": [
    "me[1]"
   ]
  },
  {
   "cell_type": "code",
   "execution_count": 62,
   "metadata": {},
   "outputs": [],
   "source": [
    "me.pitch"
   ]
  },
  {
   "cell_type": "code",
   "execution_count": null,
   "metadata": {},
   "outputs": [],
   "source": []
  },
  {
   "cell_type": "code",
   "execution_count": null,
   "metadata": {},
   "outputs": [],
   "source": []
  },
  {
   "cell_type": "code",
   "execution_count": 16,
   "metadata": {
    "scrolled": true
   },
   "outputs": [
    {
     "data": {
      "image/png": "[encoded data removed]",
      "text/plain": [
       "<IPython.core.display.Image object>"
      ]
     },
     "metadata": {
      "image/png": {
       "height": 268,
       "width": 708
      }
     },
     "output_type": "display_data"
    }
   ],
   "source": [
    "parsed = music21.converter.parse(path, format='midi')\n",
    "parsed.show()"
   ]
  }
 ],
 "metadata": {
  "kernelspec": {
   "display_name": "Python 3",
   "language": "python",
   "name": "python3"
  },
  "language_info": {
   "codemirror_mode": {
    "name": "ipython",
    "version": 3
   },
   "file_extension": ".py",
   "mimetype": "text/x-python",
   "name": "python",
   "nbconvert_exporter": "python",
   "pygments_lexer": "ipython3",
   "version": "3.8.5"
  }
 },
 "nbformat": 4,
 "nbformat_minor": 4
}
