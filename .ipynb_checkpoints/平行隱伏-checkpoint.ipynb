{
 "cells": [
  {
   "cell_type": "code",
   "execution_count": 205,
   "metadata": {},
   "outputs": [],
   "source": [
    "import os\n",
    "import sys\n",
    "import numpy as np\n",
    "import pandas as pd\n",
    "import music21 as m21\n",
    "from itertools import combinations"
   ]
  },
  {
   "cell_type": "code",
   "execution_count": 206,
   "metadata": {
    "scrolled": true
   },
   "outputs": [],
   "source": [
    "file_path = r'./harmony_sample_xlsx/harmony_sample_0.xlsx'\n",
    "df_info = pd.read_excel(file_path, sheet_name='Info')\n",
    "df_score = pd.read_excel(file_path, sheet_name='Score')"
   ]
  },
  {
   "cell_type": "code",
   "execution_count": 207,
   "metadata": {},
   "outputs": [
    {
     "data": {
      "text/html": [
       "<div>\n",
       "<style scoped>\n",
       "    .dataframe tbody tr th:only-of-type {\n",
       "        vertical-align: middle;\n",
       "    }\n",
       "\n",
       "    .dataframe tbody tr th {\n",
       "        vertical-align: top;\n",
       "    }\n",
       "\n",
       "    .dataframe thead th {\n",
       "        text-align: right;\n",
       "    }\n",
       "</style>\n",
       "<table border=\"1\" class=\"dataframe\">\n",
       "  <thead>\n",
       "    <tr style=\"text-align: right;\">\n",
       "      <th></th>\n",
       "      <th>Time signature</th>\n",
       "      <th>Key signature</th>\n",
       "      <th>Key</th>\n",
       "    </tr>\n",
       "  </thead>\n",
       "  <tbody>\n",
       "    <tr>\n",
       "      <th>0</th>\n",
       "      <td>2/2</td>\n",
       "      <td>3</td>\n",
       "      <td>A</td>\n",
       "    </tr>\n",
       "  </tbody>\n",
       "</table>\n",
       "</div>"
      ],
      "text/plain": [
       "  Time signature  Key signature Key\n",
       "0            2/2              3   A"
      ]
     },
     "execution_count": 207,
     "metadata": {},
     "output_type": "execute_result"
    }
   ],
   "source": [
    "df_info"
   ]
  },
  {
   "cell_type": "code",
   "execution_count": 208,
   "metadata": {},
   "outputs": [
    {
     "data": {
      "text/html": [
       "<div>\n",
       "<style scoped>\n",
       "    .dataframe tbody tr th:only-of-type {\n",
       "        vertical-align: middle;\n",
       "    }\n",
       "\n",
       "    .dataframe tbody tr th {\n",
       "        vertical-align: top;\n",
       "    }\n",
       "\n",
       "    .dataframe thead th {\n",
       "        text-align: right;\n",
       "    }\n",
       "</style>\n",
       "<table border=\"1\" class=\"dataframe\">\n",
       "  <thead>\n",
       "    <tr style=\"text-align: right;\">\n",
       "      <th></th>\n",
       "      <th>S</th>\n",
       "      <th>A</th>\n",
       "      <th>T</th>\n",
       "      <th>B</th>\n",
       "      <th>scale degree</th>\n",
       "    </tr>\n",
       "  </thead>\n",
       "  <tbody>\n",
       "    <tr>\n",
       "      <th>0</th>\n",
       "      <td>A4</td>\n",
       "      <td>E4</td>\n",
       "      <td>C#4</td>\n",
       "      <td>A3</td>\n",
       "      <td>I</td>\n",
       "    </tr>\n",
       "    <tr>\n",
       "      <th>1</th>\n",
       "      <td>G#4</td>\n",
       "      <td>E4</td>\n",
       "      <td>B3</td>\n",
       "      <td>G#3</td>\n",
       "      <td>V</td>\n",
       "    </tr>\n",
       "  </tbody>\n",
       "</table>\n",
       "</div>"
      ],
      "text/plain": [
       "     S   A    T    B scale degree\n",
       "0   A4  E4  C#4   A3            I\n",
       "1  G#4  E4   B3  G#3            V"
      ]
     },
     "execution_count": 208,
     "metadata": {},
     "output_type": "execute_result"
    }
   ],
   "source": [
    "df_score.head(2)"
   ]
  },
  {
   "cell_type": "markdown",
   "metadata": {},
   "source": [
    "## `music21.Interval`\n",
    "### `class music21.interval.Interval(*arguments, **keywords)`\n",
    "https://web.mit.edu/music21/doc/moduleReference/moduleInterval.html#interval\n",
    "\n",
    "### `class music21.interval.Direction(value)`\n",
    "https://web.mit.edu/music21/doc/moduleReference/moduleInterval.html#direction\n"
   ]
  },
  {
   "cell_type": "code",
   "execution_count": 209,
   "metadata": {},
   "outputs": [],
   "source": [
    "#@title functions for detecting parallel intervals and hidden intervals\n",
    "def simple_interval(original_interval):\n",
    "    # in music analysis, we distinguish perfect octave (including double-octave,...) from perfect union\n",
    "    if original_interval.simpleName=='P1':\n",
    "        if original_interval.name=='P1':\n",
    "            return 'P1'\n",
    "        else:\n",
    "            return 'P8'\n",
    "    else:\n",
    "        return original_interval.simpleName\n",
    "\n",
    "def parallel_detection(df, voice_1, voice_2):\n",
    "    parallel_detector = []\n",
    "    interval_should_avoid = ['P1', 'P5']  # simpleName, P8==P1\n",
    "    \n",
    "    for i in df.index[:-1]:\n",
    "        vertical_interval_1 =  m21.interval.Interval(noteStart=m21.note.Note(nameWithOctave=df[voice_1][i]),\n",
    "                                 noteEnd=m21.note.Note(nameWithOctave=df[voice_2][i]))   \n",
    "        vertical_interval_2 =  m21.interval.Interval(noteStart=m21.note.Note(nameWithOctave=df[voice_1][i+1]),\n",
    "                                 noteEnd=m21.note.Note(nameWithOctave=df[voice_2][i+1])) \n",
    "        horizontal_interval_voice_1 = m21.interval.Interval(noteStart=m21.note.Note(nameWithOctave=df[voice_1][i]),\n",
    "                                    noteEnd=m21.note.Note(nameWithOctave=df[voice_1][i+1]))\n",
    "        horizontal_interval_voice_2 = m21.interval.Interval(noteStart=m21.note.Note(nameWithOctave=df[voice_2][i]),\n",
    "                                    noteEnd=m21.note.Note(nameWithOctave=df[voice_2][i+1]))\n",
    "        \n",
    "        # do two voices go same direction?\n",
    "        if horizontal_interval_voice_1.direction.name!=horizontal_interval_voice_2.direction.name:\n",
    "            continue\n",
    "        # are they consecutive intervals?\n",
    "        if vertical_interval_1.directedName!=vertical_interval_2.directedName:\n",
    "            continue\n",
    "        # are the consecutive intervals P1, P5 (P8,...)?\n",
    "        if vertical_interval_1.simpleName in interval_should_avoid:\n",
    "            parallel_detector.append(pd.Series({\n",
    "                'Voice 1': voice_1,\n",
    "                'Voice 2': voice_2,\n",
    "                'Place type': 'Horizontal',\n",
    "                'Place': (i,i+1),\n",
    "                'Wrong type': 'Parallel',\n",
    "                'Interval': vertical_interval_1.niceName,\n",
    "                'Interval (in simpleName)': simple_interval(vertical_interval_1)\n",
    "            }))\n",
    "    if parallel_detector:\n",
    "        return pd.concat(parallel_detector, axis=1).T\n",
    "    \n",
    "def hidden_detection(df, soprano, bass):\n",
    "    hidden_detector = []\n",
    "    interval_should_avoid = ['P1', 'P5']  # simpleName, P8==P1\n",
    "    \n",
    "    for i in df.index[:-1]:\n",
    "        vertical_interval_1 =  m21.interval.Interval(noteStart=m21.note.Note(nameWithOctave=df[bass][i]),\n",
    "                                noteEnd=m21.note.Note(nameWithOctave=df[soprano][i])) \n",
    "        vertical_interval_2 =  m21.interval.Interval(noteStart=m21.note.Note(nameWithOctave=df[bass][i+1]),\n",
    "                                 noteEnd=m21.note.Note(nameWithOctave=df[soprano][i+1])) \n",
    "        horizontal_interval_bass = m21.interval.Interval(noteStart=m21.note.Note(nameWithOctave=df[bass][i]),\n",
    "                                   noteEnd=m21.note.Note(nameWithOctave=df[bass][i+1]))\n",
    "        horizontal_interval_soprano = m21.interval.Interval(noteStart=m21.note.Note(nameWithOctave=df[soprano][i]),\n",
    "                                   noteEnd=m21.note.Note(nameWithOctave=df[soprano][i+1]))\n",
    "        # do two voices go same direction?\n",
    "        if horizontal_interval_bass.direction.name!=horizontal_interval_soprano.direction.name:\n",
    "            continue\n",
    "        # are they consecutive intervals?\n",
    "        if vertical_interval_1.directedName==vertical_interval_2.directedName:\n",
    "            continue\n",
    "        # does soprano go stepwise?\n",
    "        if horizontal_interval_soprano.isStep:\n",
    "            continue\n",
    "        # do the voices go into a interval should avoid?\n",
    "        if vertical_interval_2.simpleName in interval_should_avoid:\n",
    "            hidden_detector.append(pd.Series({\n",
    "            'Voice 1': soprano,\n",
    "            'Voice 2': bass,\n",
    "            'Place type': 'Horizontal',\n",
    "            'Place': (i,i+1),\n",
    "            'Wrong type': 'Hidden',\n",
    "            'Interval': vertical_interval_2.niceName,\n",
    "            'Interval (in simpleName)': simple_interval(vertical_interval_2)\n",
    "        }))\n",
    "    if hidden_detector:\n",
    "        return pd.concat(hidden_detector, axis=1).T\n"
   ]
  },
  {
   "cell_type": "code",
   "execution_count": 210,
   "metadata": {
    "scrolled": true
   },
   "outputs": [],
   "source": [
    "VOICES = ['S', 'A', 'T', 'B']\n",
    "parallel_and_hidden = []\n",
    "# parallel intervals detection\n",
    "for voice_1, voice_2 in list(combinations(VOICES, 2)):\n",
    "    parallel_and_hidden.append(parallel_detection(df_score, voice_1, voice_2))\n",
    "# hidden intervals detection\n",
    "# we only concern hidden intervals between soprano and bass\n",
    "parallel_and_hidden.append(hidden_detection(df_score, 'S', 'B'))\n",
    "\n",
    "if parallel_and_hidden:\n",
    "    parallel_and_hidden = pd.concat(parallel_and_hidden).reset_index(drop=True)"
   ]
  },
  {
   "cell_type": "code",
   "execution_count": 214,
   "metadata": {},
   "outputs": [
    {
     "data": {
      "text/plain": [
       "[('S', 'A'), ('S', 'T'), ('S', 'B'), ('A', 'T'), ('A', 'B'), ('T', 'B')]"
      ]
     },
     "execution_count": 214,
     "metadata": {},
     "output_type": "execute_result"
    }
   ],
   "source": [
    "list(combinations(VOICES, 2))"
   ]
  },
  {
   "cell_type": "code",
   "execution_count": 212,
   "metadata": {},
   "outputs": [
    {
     "data": {
      "text/html": [
       "<div>\n",
       "<style scoped>\n",
       "    .dataframe tbody tr th:only-of-type {\n",
       "        vertical-align: middle;\n",
       "    }\n",
       "\n",
       "    .dataframe tbody tr th {\n",
       "        vertical-align: top;\n",
       "    }\n",
       "\n",
       "    .dataframe thead th {\n",
       "        text-align: right;\n",
       "    }\n",
       "</style>\n",
       "<table border=\"1\" class=\"dataframe\">\n",
       "  <thead>\n",
       "    <tr style=\"text-align: right;\">\n",
       "      <th></th>\n",
       "      <th>Voice 1</th>\n",
       "      <th>Voice 2</th>\n",
       "      <th>Place type</th>\n",
       "      <th>Place</th>\n",
       "      <th>Wrong type</th>\n",
       "      <th>Interval</th>\n",
       "      <th>Interval (in simpleName)</th>\n",
       "    </tr>\n",
       "  </thead>\n",
       "  <tbody>\n",
       "    <tr>\n",
       "      <th>0</th>\n",
       "      <td>S</td>\n",
       "      <td>B</td>\n",
       "      <td>Horizontal</td>\n",
       "      <td>(0, 1)</td>\n",
       "      <td>Parallel</td>\n",
       "      <td>Perfect Octave</td>\n",
       "      <td>P8</td>\n",
       "    </tr>\n",
       "    <tr>\n",
       "      <th>1</th>\n",
       "      <td>S</td>\n",
       "      <td>B</td>\n",
       "      <td>Horizontal</td>\n",
       "      <td>(2, 3)</td>\n",
       "      <td>Parallel</td>\n",
       "      <td>Perfect Twelfth</td>\n",
       "      <td>P5</td>\n",
       "    </tr>\n",
       "    <tr>\n",
       "      <th>2</th>\n",
       "      <td>S</td>\n",
       "      <td>B</td>\n",
       "      <td>Horizontal</td>\n",
       "      <td>(9, 10)</td>\n",
       "      <td>Parallel</td>\n",
       "      <td>Perfect Double-octave</td>\n",
       "      <td>P8</td>\n",
       "    </tr>\n",
       "    <tr>\n",
       "      <th>3</th>\n",
       "      <td>A</td>\n",
       "      <td>T</td>\n",
       "      <td>Horizontal</td>\n",
       "      <td>(4, 5)</td>\n",
       "      <td>Parallel</td>\n",
       "      <td>Perfect Unison</td>\n",
       "      <td>P1</td>\n",
       "    </tr>\n",
       "    <tr>\n",
       "      <th>4</th>\n",
       "      <td>A</td>\n",
       "      <td>T</td>\n",
       "      <td>Horizontal</td>\n",
       "      <td>(8, 9)</td>\n",
       "      <td>Parallel</td>\n",
       "      <td>Perfect Fifth</td>\n",
       "      <td>P5</td>\n",
       "    </tr>\n",
       "    <tr>\n",
       "      <th>5</th>\n",
       "      <td>A</td>\n",
       "      <td>B</td>\n",
       "      <td>Horizontal</td>\n",
       "      <td>(6, 7)</td>\n",
       "      <td>Parallel</td>\n",
       "      <td>Perfect Twelfth</td>\n",
       "      <td>P5</td>\n",
       "    </tr>\n",
       "    <tr>\n",
       "      <th>6</th>\n",
       "      <td>A</td>\n",
       "      <td>B</td>\n",
       "      <td>Horizontal</td>\n",
       "      <td>(7, 8)</td>\n",
       "      <td>Parallel</td>\n",
       "      <td>Perfect Twelfth</td>\n",
       "      <td>P5</td>\n",
       "    </tr>\n",
       "    <tr>\n",
       "      <th>7</th>\n",
       "      <td>A</td>\n",
       "      <td>B</td>\n",
       "      <td>Horizontal</td>\n",
       "      <td>(13, 14)</td>\n",
       "      <td>Parallel</td>\n",
       "      <td>Perfect Octave</td>\n",
       "      <td>P8</td>\n",
       "    </tr>\n",
       "    <tr>\n",
       "      <th>8</th>\n",
       "      <td>T</td>\n",
       "      <td>B</td>\n",
       "      <td>Horizontal</td>\n",
       "      <td>(11, 12)</td>\n",
       "      <td>Parallel</td>\n",
       "      <td>Perfect Twelfth</td>\n",
       "      <td>P5</td>\n",
       "    </tr>\n",
       "    <tr>\n",
       "      <th>9</th>\n",
       "      <td>S</td>\n",
       "      <td>B</td>\n",
       "      <td>Horizontal</td>\n",
       "      <td>(3, 4)</td>\n",
       "      <td>Hidden</td>\n",
       "      <td>Perfect Double-octave</td>\n",
       "      <td>P8</td>\n",
       "    </tr>\n",
       "    <tr>\n",
       "      <th>10</th>\n",
       "      <td>S</td>\n",
       "      <td>B</td>\n",
       "      <td>Horizontal</td>\n",
       "      <td>(5, 6)</td>\n",
       "      <td>Hidden</td>\n",
       "      <td>Perfect Double-octave</td>\n",
       "      <td>P8</td>\n",
       "    </tr>\n",
       "  </tbody>\n",
       "</table>\n",
       "</div>"
      ],
      "text/plain": [
       "   Voice 1 Voice 2  Place type     Place Wrong type               Interval  \\\n",
       "0        S       B  Horizontal    (0, 1)   Parallel         Perfect Octave   \n",
       "1        S       B  Horizontal    (2, 3)   Parallel        Perfect Twelfth   \n",
       "2        S       B  Horizontal   (9, 10)   Parallel  Perfect Double-octave   \n",
       "3        A       T  Horizontal    (4, 5)   Parallel         Perfect Unison   \n",
       "4        A       T  Horizontal    (8, 9)   Parallel          Perfect Fifth   \n",
       "5        A       B  Horizontal    (6, 7)   Parallel        Perfect Twelfth   \n",
       "6        A       B  Horizontal    (7, 8)   Parallel        Perfect Twelfth   \n",
       "7        A       B  Horizontal  (13, 14)   Parallel         Perfect Octave   \n",
       "8        T       B  Horizontal  (11, 12)   Parallel        Perfect Twelfth   \n",
       "9        S       B  Horizontal    (3, 4)     Hidden  Perfect Double-octave   \n",
       "10       S       B  Horizontal    (5, 6)     Hidden  Perfect Double-octave   \n",
       "\n",
       "   Interval (in simpleName)  \n",
       "0                        P8  \n",
       "1                        P5  \n",
       "2                        P8  \n",
       "3                        P1  \n",
       "4                        P5  \n",
       "5                        P5  \n",
       "6                        P5  \n",
       "7                        P8  \n",
       "8                        P5  \n",
       "9                        P8  \n",
       "10                       P8  "
      ]
     },
     "execution_count": 212,
     "metadata": {},
     "output_type": "execute_result"
    }
   ],
   "source": [
    "# 檢查結果\n",
    "parallel_and_hidden"
   ]
  },
  {
   "cell_type": "markdown",
   "metadata": {},
   "source": [
    "### draft"
   ]
  },
  {
   "cell_type": "code",
   "execution_count": 264,
   "metadata": {},
   "outputs": [],
   "source": [
    "interval_should_avoid = ['P1', 'P5']\n",
    "# parallel detection draft\n",
    "s0 = m21.note.Note(nameWithOctave=df_score.S[0])  # s0.nameWithOctave: 'A4'\n",
    "s1 = m21.note.Note(nameWithOctave=df_score.S[1])  # s1.nameWithOctave: 'G#4'\n",
    "b0 = m21.note.Note(nameWithOctave=df_score.B[0])  # b0.nameWithOctave: 'A3'\n",
    "b1 = m21.note.Note(nameWithOctave=df_score.B[1])  # b1.nameWithOctave: 'G#3'\n",
    "# vertical interval\n",
    "v = m21.interval.Interval(noteStart=s0, noteEnd=b0)   # v.directedName: 'P-8', v.direction: Direction.DESCENDING: -1\n",
    "v0 = m21.interval.Interval(noteStart=b0, noteEnd=s0)  #  A3~ A4, v0.name: 'p8', v0.simpleName: 'P1', v0.directedName: 'P8'\n",
    "v1 = m21.interval.Interval(noteStart=b1, noteEnd=s1)  # G#3~G#4, v1.name: 'p8', v1.simpleName: 'P1', \n",
    "# horizontal interval\n",
    "hs0 = m21.interval.Interval(noteStart=s0, noteEnd=s1)\n",
    "hb0 = m21.interval.Interval(noteStart=b0, noteEnd=b1)\n",
    "# 同向進行?\n",
    "hs0.direction.name  == hb0.direction.name  # True\n",
    "# 連續音程?\n",
    "v0.directedName == v1.directedName  # True\n",
    "# 已確認是連續音程, 只需要檢查其中一個是否為 完全1度/5度/..., 故可化簡\n",
    "v0.simpleName in interval_should_avoid  # True\n",
    "\n",
    "# v0和v1 為平行\n",
    "# parallel_detector\n",
    "parallel_detector = []\n",
    "\n",
    "#pd.concat(parallel_detector, axis=1)"
   ]
  },
  {
   "cell_type": "code",
   "execution_count": 298,
   "metadata": {},
   "outputs": [],
   "source": [
    "s0 = m21.note.Note(nameWithOctave='C4')"
   ]
  },
  {
   "cell_type": "code",
   "execution_count": 299,
   "metadata": {},
   "outputs": [],
   "source": [
    "s1 = m21.note.Note(nameWithOctave='Gb2')"
   ]
  },
  {
   "cell_type": "code",
   "execution_count": 300,
   "metadata": {},
   "outputs": [],
   "source": [
    "i = m21.interval.Interval(noteStart=s0, noteEnd=s1)"
   ]
  },
  {
   "cell_type": "code",
   "execution_count": 301,
   "metadata": {},
   "outputs": [
    {
     "data": {
      "text/plain": [
       "'A4'"
      ]
     },
     "execution_count": 301,
     "metadata": {},
     "output_type": "execute_result"
    }
   ],
   "source": [
    "i.simpleName"
   ]
  },
  {
   "cell_type": "code",
   "execution_count": 302,
   "metadata": {},
   "outputs": [
    {
     "data": {
      "text/plain": [
       "'A'"
      ]
     },
     "execution_count": 302,
     "metadata": {},
     "output_type": "execute_result"
    }
   ],
   "source": [
    "i.diatonic.specifierAbbreviation"
   ]
  },
  {
   "cell_type": "code",
   "execution_count": 303,
   "metadata": {},
   "outputs": [
    {
     "data": {
      "text/plain": [
       "'DESCENDING'"
      ]
     },
     "execution_count": 303,
     "metadata": {},
     "output_type": "execute_result"
    }
   ],
   "source": [
    "i.direction.name"
   ]
  },
  {
   "cell_type": "code",
   "execution_count": 304,
   "metadata": {},
   "outputs": [
    {
     "data": {
      "text/plain": [
       "<music21.interval.GenericInterval -11>"
      ]
     },
     "execution_count": 304,
     "metadata": {},
     "output_type": "execute_result"
    }
   ],
   "source": [
    "i.generic"
   ]
  },
  {
   "cell_type": "code",
   "execution_count": 305,
   "metadata": {},
   "outputs": [
    {
     "data": {
      "text/plain": [
       "-11"
      ]
     },
     "execution_count": 305,
     "metadata": {},
     "output_type": "execute_result"
    }
   ],
   "source": [
    "i.generic.directed"
   ]
  },
  {
   "cell_type": "code",
   "execution_count": 306,
   "metadata": {},
   "outputs": [
    {
     "data": {
      "text/plain": [
       "5"
      ]
     },
     "execution_count": 306,
     "metadata": {},
     "output_type": "execute_result"
    }
   ],
   "source": [
    "i.generic.mod7"
   ]
  },
  {
   "cell_type": "code",
   "execution_count": null,
   "metadata": {},
   "outputs": [],
   "source": [
    "1. 怎麼跳\n",
    "\n",
    "if 大跳: 檢查後面有沒有反向\n",
    "\n",
    "\n"
   ]
  },
  {
   "cell_type": "code",
   "execution_count": 308,
   "metadata": {},
   "outputs": [
    {
     "data": {
      "text/plain": [
       "True"
      ]
     },
     "execution_count": 308,
     "metadata": {},
     "output_type": "execute_result"
    }
   ],
   "source": [
    "# hidden detection draft\n",
    "s0 = m21.note.Note(nameWithOctave=df_score.S[0])  # s0.nameWithOctave: 'A4'\n",
    "s1 = m21.note.Note(nameWithOctave=df_score.S[1])  # s1.nameWithOctave: 'G#4'\n",
    "b0 = m21.note.Note(nameWithOctave=df_score.B[0])  # b0.nameWithOctave: 'A3'\n",
    "b1 = m21.note.Note(nameWithOctave=df_score.B[1])  # b1.nameWithOctave: 'G#3'\n",
    "# vertical interval\n",
    "v1 = m21.interval.Interval(noteStart=b1, noteEnd=s1)  # G#3~G#4, v1.name: 'p8', v1.simpleName: 'P1', \n",
    "# horizontal interval\n",
    "hs0 = m21.interval.Interval(noteStart=s0, noteEnd=s1)\n",
    "hb0 = m21.interval.Interval(noteStart=b0, noteEnd=b1)\n",
    "# 同向進行?\n",
    "hs0.direction.name  == hb0.direction.name  # True\n",
    "# Soprano 級進?\n",
    "hs0.isStep\n",
    "# 進入 P5, P8?\n",
    "v1.simpleName in interval_should_avoid"
   ]
  },
  {
   "cell_type": "code",
   "execution_count": 310,
   "metadata": {},
   "outputs": [
    {
     "data": {
      "text/plain": [
       "'ASCENDING'"
      ]
     },
     "execution_count": 310,
     "metadata": {},
     "output_type": "execute_result"
    }
   ],
   "source": [
    "v1.direction.name"
   ]
  },
  {
   "cell_type": "code",
   "execution_count": 311,
   "metadata": {},
   "outputs": [
    {
     "data": {
      "text/html": [
       "<div>\n",
       "<style scoped>\n",
       "    .dataframe tbody tr th:only-of-type {\n",
       "        vertical-align: middle;\n",
       "    }\n",
       "\n",
       "    .dataframe tbody tr th {\n",
       "        vertical-align: top;\n",
       "    }\n",
       "\n",
       "    .dataframe thead th {\n",
       "        text-align: right;\n",
       "    }\n",
       "</style>\n",
       "<table border=\"1\" class=\"dataframe\">\n",
       "  <thead>\n",
       "    <tr style=\"text-align: right;\">\n",
       "      <th></th>\n",
       "      <th>S</th>\n",
       "      <th>A</th>\n",
       "      <th>T</th>\n",
       "      <th>B</th>\n",
       "      <th>scale degree</th>\n",
       "    </tr>\n",
       "  </thead>\n",
       "  <tbody>\n",
       "    <tr>\n",
       "      <th>0</th>\n",
       "      <td>A4</td>\n",
       "      <td>E4</td>\n",
       "      <td>C#4</td>\n",
       "      <td>A3</td>\n",
       "      <td>I</td>\n",
       "    </tr>\n",
       "    <tr>\n",
       "      <th>1</th>\n",
       "      <td>G#4</td>\n",
       "      <td>E4</td>\n",
       "      <td>B3</td>\n",
       "      <td>G#3</td>\n",
       "      <td>V</td>\n",
       "    </tr>\n",
       "    <tr>\n",
       "      <th>2</th>\n",
       "      <td>B4</td>\n",
       "      <td>E4</td>\n",
       "      <td>B3</td>\n",
       "      <td>E3</td>\n",
       "      <td>V</td>\n",
       "    </tr>\n",
       "    <tr>\n",
       "      <th>3</th>\n",
       "      <td>C#5</td>\n",
       "      <td>C#4</td>\n",
       "      <td>A3</td>\n",
       "      <td>F#3</td>\n",
       "      <td>vi</td>\n",
       "    </tr>\n",
       "    <tr>\n",
       "      <th>4</th>\n",
       "      <td>A4</td>\n",
       "      <td>C#4</td>\n",
       "      <td>C#4</td>\n",
       "      <td>A2</td>\n",
       "      <td>I</td>\n",
       "    </tr>\n",
       "    <tr>\n",
       "      <th>5</th>\n",
       "      <td>G#4</td>\n",
       "      <td>D4</td>\n",
       "      <td>D4</td>\n",
       "      <td>B2</td>\n",
       "      <td>vii/o6</td>\n",
       "    </tr>\n",
       "    <tr>\n",
       "      <th>6</th>\n",
       "      <td>E5</td>\n",
       "      <td>B4</td>\n",
       "      <td>G#3</td>\n",
       "      <td>E3</td>\n",
       "      <td>v</td>\n",
       "    </tr>\n",
       "    <tr>\n",
       "      <th>7</th>\n",
       "      <td>E5</td>\n",
       "      <td>G#4</td>\n",
       "      <td>G#3</td>\n",
       "      <td>C#3</td>\n",
       "      <td>iii</td>\n",
       "    </tr>\n",
       "    <tr>\n",
       "      <th>8</th>\n",
       "      <td>E5</td>\n",
       "      <td>E4</td>\n",
       "      <td>A3</td>\n",
       "      <td>A2</td>\n",
       "      <td>I</td>\n",
       "    </tr>\n",
       "    <tr>\n",
       "      <th>9</th>\n",
       "      <td>D5</td>\n",
       "      <td>F#4</td>\n",
       "      <td>B3</td>\n",
       "      <td>D3</td>\n",
       "      <td>ii6</td>\n",
       "    </tr>\n",
       "    <tr>\n",
       "      <th>10</th>\n",
       "      <td>C#5</td>\n",
       "      <td>E4</td>\n",
       "      <td>G#3</td>\n",
       "      <td>C#3</td>\n",
       "      <td>iii</td>\n",
       "    </tr>\n",
       "    <tr>\n",
       "      <th>11</th>\n",
       "      <td>C#5</td>\n",
       "      <td>C#4</td>\n",
       "      <td>E4</td>\n",
       "      <td>A2</td>\n",
       "      <td>I</td>\n",
       "    </tr>\n",
       "    <tr>\n",
       "      <th>12</th>\n",
       "      <td>B4</td>\n",
       "      <td>D4</td>\n",
       "      <td>F#4</td>\n",
       "      <td>B2</td>\n",
       "      <td>ii</td>\n",
       "    </tr>\n",
       "    <tr>\n",
       "      <th>13</th>\n",
       "      <td>G#4</td>\n",
       "      <td>E4</td>\n",
       "      <td>G#4</td>\n",
       "      <td>E3</td>\n",
       "      <td>V</td>\n",
       "    </tr>\n",
       "    <tr>\n",
       "      <th>14</th>\n",
       "      <td>A4</td>\n",
       "      <td>A3</td>\n",
       "      <td>E4</td>\n",
       "      <td>A2</td>\n",
       "      <td>I</td>\n",
       "    </tr>\n",
       "  </tbody>\n",
       "</table>\n",
       "</div>"
      ],
      "text/plain": [
       "      S    A    T    B scale degree\n",
       "0    A4   E4  C#4   A3            I\n",
       "1   G#4   E4   B3  G#3            V\n",
       "2    B4   E4   B3   E3            V\n",
       "3   C#5  C#4   A3  F#3           vi\n",
       "4    A4  C#4  C#4   A2            I\n",
       "5   G#4   D4   D4   B2       vii/o6\n",
       "6    E5   B4  G#3   E3            v\n",
       "7    E5  G#4  G#3  C#3          iii\n",
       "8    E5   E4   A3   A2            I\n",
       "9    D5  F#4   B3   D3          ii6\n",
       "10  C#5   E4  G#3  C#3          iii\n",
       "11  C#5  C#4   E4   A2            I\n",
       "12   B4   D4  F#4   B2           ii\n",
       "13  G#4   E4  G#4   E3            V\n",
       "14   A4   A3   E4   A2            I"
      ]
     },
     "execution_count": 311,
     "metadata": {},
     "output_type": "execute_result"
    }
   ],
   "source": [
    "df_score"
   ]
  },
  {
   "cell_type": "code",
   "execution_count": null,
   "metadata": {},
   "outputs": [],
   "source": []
  }
 ],
 "metadata": {
  "kernelspec": {
   "display_name": "Python 3",
   "language": "python",
   "name": "python3"
  },
  "language_info": {
   "codemirror_mode": {
    "name": "ipython",
    "version": 3
   },
   "file_extension": ".py",
   "mimetype": "text/x-python",
   "name": "python",
   "nbconvert_exporter": "python",
   "pygments_lexer": "ipython3",
   "version": "3.8.5"
  }
 },
 "nbformat": 4,
 "nbformat_minor": 4
}
