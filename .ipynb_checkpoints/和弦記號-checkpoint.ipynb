{
 "cells": [
  {
   "cell_type": "code",
   "execution_count": 10,
   "metadata": {},
   "outputs": [],
   "source": [
    "#import os\n",
    "#import sys\n",
    "import numpy as np\n",
    "import pandas as pd\n",
    "import music21 as m21\n",
    "from itertools import combinations"
   ]
  },
  {
   "cell_type": "code",
   "execution_count": 134,
   "metadata": {},
   "outputs": [],
   "source": [
    "file_path = r'./harmony_sample_xlsx/harmony_sample_1.xlsx'\n",
    "df_info = pd.read_excel(file_path, sheet_name='Info')\n",
    "df_score = pd.read_excel(file_path, sheet_name='Score')\n",
    "VOICES = df_score.columns[:-1]"
   ]
  },
  {
   "cell_type": "code",
   "execution_count": 135,
   "metadata": {},
   "outputs": [
    {
     "data": {
      "text/html": [
       "<div>\n",
       "<style scoped>\n",
       "    .dataframe tbody tr th:only-of-type {\n",
       "        vertical-align: middle;\n",
       "    }\n",
       "\n",
       "    .dataframe tbody tr th {\n",
       "        vertical-align: top;\n",
       "    }\n",
       "\n",
       "    .dataframe thead th {\n",
       "        text-align: right;\n",
       "    }\n",
       "</style>\n",
       "<table border=\"1\" class=\"dataframe\">\n",
       "  <thead>\n",
       "    <tr style=\"text-align: right;\">\n",
       "      <th></th>\n",
       "      <th>Time signature</th>\n",
       "      <th>Key signature</th>\n",
       "      <th>Type</th>\n",
       "      <th>Key</th>\n",
       "    </tr>\n",
       "  </thead>\n",
       "  <tbody>\n",
       "    <tr>\n",
       "      <th>0</th>\n",
       "      <td>2/2</td>\n",
       "      <td>3</td>\n",
       "      <td>S</td>\n",
       "      <td>A</td>\n",
       "    </tr>\n",
       "  </tbody>\n",
       "</table>\n",
       "</div>"
      ],
      "text/plain": [
       "  Time signature  Key signature Type Key\n",
       "0            2/2              3    S   A"
      ]
     },
     "execution_count": 135,
     "metadata": {},
     "output_type": "execute_result"
    }
   ],
   "source": [
    "df_info"
   ]
  },
  {
   "cell_type": "code",
   "execution_count": 156,
   "metadata": {},
   "outputs": [
    {
     "data": {
      "text/html": [
       "<div>\n",
       "<style scoped>\n",
       "    .dataframe tbody tr th:only-of-type {\n",
       "        vertical-align: middle;\n",
       "    }\n",
       "\n",
       "    .dataframe tbody tr th {\n",
       "        vertical-align: top;\n",
       "    }\n",
       "\n",
       "    .dataframe thead th {\n",
       "        text-align: right;\n",
       "    }\n",
       "</style>\n",
       "<table border=\"1\" class=\"dataframe\">\n",
       "  <thead>\n",
       "    <tr style=\"text-align: right;\">\n",
       "      <th></th>\n",
       "      <th>S</th>\n",
       "      <th>A</th>\n",
       "      <th>T</th>\n",
       "      <th>B</th>\n",
       "      <th>scale degree</th>\n",
       "    </tr>\n",
       "  </thead>\n",
       "  <tbody>\n",
       "    <tr>\n",
       "      <th>0</th>\n",
       "      <td>A4</td>\n",
       "      <td>E4</td>\n",
       "      <td>C#4</td>\n",
       "      <td>A3</td>\n",
       "      <td>I6</td>\n",
       "    </tr>\n",
       "    <tr>\n",
       "      <th>1</th>\n",
       "      <td>A4</td>\n",
       "      <td>E4</td>\n",
       "      <td>C#4</td>\n",
       "      <td>C#3</td>\n",
       "      <td>V</td>\n",
       "    </tr>\n",
       "  </tbody>\n",
       "</table>\n",
       "</div>"
      ],
      "text/plain": [
       "    S   A    T    B scale degree\n",
       "0  A4  E4  C#4   A3           I6\n",
       "1  A4  E4  C#4  C#3            V"
      ]
     },
     "execution_count": 156,
     "metadata": {},
     "output_type": "execute_result"
    }
   ],
   "source": [
    "df_score.head(2)"
   ]
  },
  {
   "cell_type": "markdown",
   "metadata": {},
   "source": [
    "### information"
   ]
  },
  {
   "cell_type": "code",
   "execution_count": 158,
   "metadata": {},
   "outputs": [
    {
     "name": "stdout",
     "output_type": "stream",
     "text": [
      "homework_type: S\n"
     ]
    }
   ],
   "source": [
    "# Optional: 高音題 S / 低音題 B\n",
    "homework_type = df_info['Type'][0]  \n",
    "print(f\"homework_type: {homework_type}\")"
   ]
  },
  {
   "cell_type": "code",
   "execution_count": 157,
   "metadata": {
    "scrolled": true
   },
   "outputs": [
    {
     "name": "stdout",
     "output_type": "stream",
     "text": [
      "time_sign: <music21.meter.TimeSignature 2/2>\n"
     ]
    }
   ],
   "source": [
    "time_sign = m21.meter.TimeSignature(df_info['Time signature'][0])\n",
    "print(f\"time_sign: {time_sign}\")"
   ]
  },
  {
   "cell_type": "code",
   "execution_count": 139,
   "metadata": {},
   "outputs": [
    {
     "name": "stdout",
     "output_type": "stream",
     "text": [
      "key signature: <music21.key.KeySignature of 3 sharps>\n",
      "the pitches altered by this key signature: ['F#', 'C#', 'G#']\n"
     ]
    }
   ],
   "source": [
    "key_sign = m21.key.KeySignature(df_info['Key signature'][0])   # absolutely correct\n",
    "print(\"key signature:\", key_sign)\n",
    "print(\"the pitches altered by this key signature:\", [p.name for p in key_sign.alteredPitches]) \n",
    "\n",
    "# Optional: 學生自行填寫的調性\n",
    "key_student = m21.key.Key(df_info['Key'][0])                  # need to check if this matches wtih key_sign and tonic_chord"
   ]
  },
  {
   "cell_type": "code",
   "execution_count": 140,
   "metadata": {},
   "outputs": [
    {
     "data": {
      "image/png": "[encoded data removed]",
      "text/plain": [
       "<IPython.core.display.Image object>"
      ]
     },
     "metadata": {
      "image/png": {
       "height": 51,
       "width": 227
      }
     },
     "output_type": "display_data"
    }
   ],
   "source": [
    "s = m21.stream.Stream()\n",
    "s.append(key_sign)\n",
    "s.append(time_sign)\n",
    "s.show()"
   ]
  },
  {
   "cell_type": "code",
   "execution_count": null,
   "metadata": {},
   "outputs": [],
   "source": [
    "if 低音題\n",
    "elif 高音題\n",
    "else (沒寫)"
   ]
  },
  {
   "cell_type": "code",
   "execution_count": 141,
   "metadata": {
    "scrolled": true
   },
   "outputs": [],
   "source": [
    "# find tonic: 從譜面上只能觀察到 \"調號\" (key signature) 和 高音題/低音題 的音高; 正確的寫作應結束在該調性的一級\n",
    "# 此處以學生寫完的答案(具有SATB)為準  # 若已知高音題或低音題, 要如何判斷?\n",
    "tonic_chord = m21.chord.Chord(df_score[VOICES].iloc[-1,:].values)  # end on tonic\n",
    "# 從調號來猜是大調或小調\n",
    "rn1 = m21.roman.romanNumeralFromChord(tonic_chord, key_sign.asKey())\n",
    "rn2 = m21.roman.romanNumeralFromChord(tonic_chord, key_sign.asKey(mode='minor'))\n",
    "# 如果結束的和弦級數是某調性的一級, 則稱此題之調性為該調\n",
    "if rn1.scaleDegree == 1:\n",
    "    print(\"The key should be\", key_sign.asKey())\n",
    "    key_detected = key_sign.asKey()\n",
    "elif rn2.scaleDegree == 1:\n",
    "    print(\"The key should be\", key_sign.asKey(mode='minor'))\n",
    "    key_detected = key_sign.asKey(mode='minor')"
   ]
  },
  {
   "cell_type": "code",
   "execution_count": 142,
   "metadata": {},
   "outputs": [
    {
     "name": "stdout",
     "output_type": "stream",
     "text": [
      "The student answers a correct key: A major\n"
     ]
    }
   ],
   "source": [
    "if key_student==key_detected:\n",
    "    print('The student answers a correct key:', key_student)\n",
    "    key = key_student\n",
    "else:\n",
    "    print(f'The student answers {key_student}, while key detected should be {key_detected}')\n",
    "    key = key_detected"
   ]
  },
  {
   "cell_type": "code",
   "execution_count": 143,
   "metadata": {},
   "outputs": [
    {
     "name": "stdout",
     "output_type": "stream",
     "text": [
      "key:A major, tonic: A, leading tone: G#\n"
     ]
    }
   ],
   "source": [
    "tonic = key.tonic.name\n",
    "scale = m21.key.Key(key.tonicPitchNameWithCase)\n",
    "seventh = scale.pitches[6].name\n",
    "print(f\"key:{key}, tonic: {tonic}, leading tone: {seventh}\")"
   ]
  },
  {
   "cell_type": "markdown",
   "metadata": {},
   "source": [
    "### 高音題/低音題"
   ]
  },
  {
   "cell_type": "code",
   "execution_count": 144,
   "metadata": {},
   "outputs": [
    {
     "name": "stdout",
     "output_type": "stream",
     "text": [
      "homework type: S\n"
     ]
    }
   ],
   "source": [
    "if homework_type:\n",
    "    print(f\"homework type: {homework_type}\")\n",
    "    absolutely_correct_voice = df_score[homework_type]\n",
    "    rn_not_match_with_type = []\n",
    "    for idx in df_score.index:\n",
    "        ans = df_score.loc[idx,'scale degree']                  #          str: 學生希望的和弦級數\n",
    "        expected_rn = m21.roman.RomanNumeral(ans, key)          # roman object: 學生希望的和弦級數\n",
    "        expected_notes = [p.name for p in expected_rn.pitches]  #         list:學生希望的和弦級數的音名 (按順序, 由低至高)\n",
    "        note = m21.note.Note(absolutely_correct_voice[idx]).name\n",
    "        if note not in expected_notes:\n",
    "            rn_not_match_with_type.append(pd.Series({\n",
    "                'Voice 1': homework_type,\n",
    "                'Voice 2': None,\n",
    "                'Place type': 'Vertical',\n",
    "                'Place': idx,\n",
    "                'Wrong type': 'Roman nuemeral',\n",
    "                'Note': note,\n",
    "                'Remark 1': f'note {note} is not in the Roman numeral {ans} with key {key}',\n",
    "                'Remark 2': f'ans (by student): {ans}',\n",
    "                'Remark 3': f'expected_notes: {expected_notes}'\n",
    "            }))\n",
    "    rn_not_match_with_type = pd.concat(rn_not_match_with_type, axis=1).T"
   ]
  },
  {
   "cell_type": "code",
   "execution_count": 145,
   "metadata": {},
   "outputs": [
    {
     "data": {
      "text/html": [
       "<div>\n",
       "<style scoped>\n",
       "    .dataframe tbody tr th:only-of-type {\n",
       "        vertical-align: middle;\n",
       "    }\n",
       "\n",
       "    .dataframe tbody tr th {\n",
       "        vertical-align: top;\n",
       "    }\n",
       "\n",
       "    .dataframe thead th {\n",
       "        text-align: right;\n",
       "    }\n",
       "</style>\n",
       "<table border=\"1\" class=\"dataframe\">\n",
       "  <thead>\n",
       "    <tr style=\"text-align: right;\">\n",
       "      <th></th>\n",
       "      <th>Voice 1</th>\n",
       "      <th>Voice 2</th>\n",
       "      <th>Place type</th>\n",
       "      <th>Place</th>\n",
       "      <th>Wrong type</th>\n",
       "      <th>Note</th>\n",
       "      <th>Remark 1</th>\n",
       "      <th>Remark 2</th>\n",
       "      <th>Remark 3</th>\n",
       "    </tr>\n",
       "  </thead>\n",
       "  <tbody>\n",
       "    <tr>\n",
       "      <th>0</th>\n",
       "      <td>S</td>\n",
       "      <td>None</td>\n",
       "      <td>Vertical</td>\n",
       "      <td>1</td>\n",
       "      <td>Roman nuemeral</td>\n",
       "      <td>A</td>\n",
       "      <td>note A is not in the Roman numeral V with key ...</td>\n",
       "      <td>ans (by student): V</td>\n",
       "      <td>expected_notes: ['E', 'G#', 'B']</td>\n",
       "    </tr>\n",
       "    <tr>\n",
       "      <th>1</th>\n",
       "      <td>S</td>\n",
       "      <td>None</td>\n",
       "      <td>Vertical</td>\n",
       "      <td>3</td>\n",
       "      <td>Roman nuemeral</td>\n",
       "      <td>D</td>\n",
       "      <td>note D is not in the Roman numeral V with key ...</td>\n",
       "      <td>ans (by student): V</td>\n",
       "      <td>expected_notes: ['E', 'G#', 'B']</td>\n",
       "    </tr>\n",
       "  </tbody>\n",
       "</table>\n",
       "</div>"
      ],
      "text/plain": [
       "  Voice 1 Voice 2 Place type Place      Wrong type Note  \\\n",
       "0       S    None   Vertical     1  Roman nuemeral    A   \n",
       "1       S    None   Vertical     3  Roman nuemeral    D   \n",
       "\n",
       "                                            Remark 1             Remark 2  \\\n",
       "0  note A is not in the Roman numeral V with key ...  ans (by student): V   \n",
       "1  note D is not in the Roman numeral V with key ...  ans (by student): V   \n",
       "\n",
       "                           Remark 3  \n",
       "0  expected_notes: ['E', 'G#', 'B']  \n",
       "1  expected_notes: ['E', 'G#', 'B']  "
      ]
     },
     "metadata": {},
     "output_type": "display_data"
    }
   ],
   "source": [
    "if homework_type:\n",
    "    display(rn_not_match_with_type)"
   ]
  },
  {
   "cell_type": "markdown",
   "metadata": {},
   "source": [
    "### Roman numerals analysis"
   ]
  },
  {
   "cell_type": "code",
   "execution_count": 65,
   "metadata": {},
   "outputs": [],
   "source": [
    "def roman_numerals_analysis(VOICES, df, key):\n",
    "    rna = []\n",
    "    correct = []\n",
    "    mixture_available = []\n",
    "    for i in df.index:\n",
    "        chord = m21.chord.Chord(df.loc[i,VOICES].values)\n",
    "        ans = df.loc[i,'scale degree']\n",
    "        r = m21.roman.romanNumeralFromChord(chord, key).figure\n",
    "        rna.append(r)\n",
    "        if ans==r:\n",
    "            correct.append(True)\n",
    "            mixture_available.append(True)\n",
    "        else:\n",
    "            correct.append(False)\n",
    "            if m21.roman.RomanNumeral(ans, key).isMixture():\n",
    "                mixture_available.append(True)\n",
    "            else:\n",
    "                mixture_available.append(False)\n",
    "    \n",
    "    return rna, correct, mixture_available"
   ]
  },
  {
   "cell_type": "code",
   "execution_count": 66,
   "metadata": {},
   "outputs": [],
   "source": [
    "rna, correct, mixture_available = roman_numerals_analysis(VOICES, df_score, key)\n",
    "\n",
    "df_score['Roman numerals analysis'] = rna          # 從 SATB 判斷應該是什麼和弦級數\n",
    "df_score['Correct'] = correct                      # 學生寫的 scale degree 和 rna 是否一致\n",
    "df_score['Mixture available'] = mixture_available  # 學生寫的 scale degree 是否是該調性允許的級數"
   ]
  },
  {
   "cell_type": "code",
   "execution_count": 67,
   "metadata": {
    "scrolled": true
   },
   "outputs": [
    {
     "data": {
      "text/html": [
       "<div>\n",
       "<style scoped>\n",
       "    .dataframe tbody tr th:only-of-type {\n",
       "        vertical-align: middle;\n",
       "    }\n",
       "\n",
       "    .dataframe tbody tr th {\n",
       "        vertical-align: top;\n",
       "    }\n",
       "\n",
       "    .dataframe thead th {\n",
       "        text-align: right;\n",
       "    }\n",
       "</style>\n",
       "<table border=\"1\" class=\"dataframe\">\n",
       "  <thead>\n",
       "    <tr style=\"text-align: right;\">\n",
       "      <th></th>\n",
       "      <th>S</th>\n",
       "      <th>A</th>\n",
       "      <th>T</th>\n",
       "      <th>B</th>\n",
       "      <th>scale degree</th>\n",
       "      <th>Roman numerals analysis</th>\n",
       "      <th>Correct</th>\n",
       "      <th>Mixture available</th>\n",
       "    </tr>\n",
       "  </thead>\n",
       "  <tbody>\n",
       "    <tr>\n",
       "      <th>0</th>\n",
       "      <td>A4</td>\n",
       "      <td>E4</td>\n",
       "      <td>C#4</td>\n",
       "      <td>A3</td>\n",
       "      <td>I6</td>\n",
       "      <td>I</td>\n",
       "      <td>False</td>\n",
       "      <td>False</td>\n",
       "    </tr>\n",
       "    <tr>\n",
       "      <th>1</th>\n",
       "      <td>A4</td>\n",
       "      <td>E4</td>\n",
       "      <td>C#4</td>\n",
       "      <td>C#3</td>\n",
       "      <td>V</td>\n",
       "      <td>I6</td>\n",
       "      <td>False</td>\n",
       "      <td>False</td>\n",
       "    </tr>\n",
       "    <tr>\n",
       "      <th>2</th>\n",
       "      <td>E4</td>\n",
       "      <td>B3</td>\n",
       "      <td>G#3</td>\n",
       "      <td>E3</td>\n",
       "      <td>v</td>\n",
       "      <td>V</td>\n",
       "      <td>False</td>\n",
       "      <td>True</td>\n",
       "    </tr>\n",
       "    <tr>\n",
       "      <th>3</th>\n",
       "      <td>D4</td>\n",
       "      <td>B3</td>\n",
       "      <td>G#3</td>\n",
       "      <td>E3</td>\n",
       "      <td>V</td>\n",
       "      <td>V7</td>\n",
       "      <td>False</td>\n",
       "      <td>False</td>\n",
       "    </tr>\n",
       "    <tr>\n",
       "      <th>4</th>\n",
       "      <td>E4</td>\n",
       "      <td>D4</td>\n",
       "      <td>B3</td>\n",
       "      <td>G#2</td>\n",
       "      <td>V6</td>\n",
       "      <td>V65</td>\n",
       "      <td>False</td>\n",
       "      <td>False</td>\n",
       "    </tr>\n",
       "    <tr>\n",
       "      <th>5</th>\n",
       "      <td>E4</td>\n",
       "      <td>E4</td>\n",
       "      <td>B3</td>\n",
       "      <td>G#2</td>\n",
       "      <td>V</td>\n",
       "      <td>V6</td>\n",
       "      <td>False</td>\n",
       "      <td>False</td>\n",
       "    </tr>\n",
       "  </tbody>\n",
       "</table>\n",
       "</div>"
      ],
      "text/plain": [
       "    S   A    T    B scale degree Roman numerals analysis  Correct  \\\n",
       "0  A4  E4  C#4   A3           I6                       I    False   \n",
       "1  A4  E4  C#4  C#3            V                      I6    False   \n",
       "2  E4  B3  G#3   E3            v                       V    False   \n",
       "3  D4  B3  G#3   E3            V                      V7    False   \n",
       "4  E4  D4   B3  G#2           V6                     V65    False   \n",
       "5  E4  E4   B3  G#2            V                      V6    False   \n",
       "\n",
       "   Mixture available  \n",
       "0              False  \n",
       "1              False  \n",
       "2               True  \n",
       "3              False  \n",
       "4              False  \n",
       "5              False  "
      ]
     },
     "execution_count": 67,
     "metadata": {},
     "output_type": "execute_result"
    }
   ],
   "source": [
    "df_score"
   ]
  },
  {
   "cell_type": "code",
   "execution_count": 71,
   "metadata": {},
   "outputs": [],
   "source": [
    "def find_inharmonic_notes(VOICES, chord_notes, expected_notes):  # 學生寫的和絃和他寫的和弦級數, 有沒有出現非和弦音\n",
    "    '''only check if there is any inharmonic tone'''\n",
    "    inharmonic_notes = []\n",
    "    for idx,n in enumerate(chord_notes):\n",
    "        if n not in expected_notes:\n",
    "            inharmonic_notes.append((VOICES[idx], n))\n",
    "    return inharmonic_notes"
   ]
  },
  {
   "cell_type": "markdown",
   "metadata": {},
   "source": [
    "### working"
   ]
  },
  {
   "cell_type": "code",
   "execution_count": 146,
   "metadata": {
    "scrolled": true
   },
   "outputs": [
    {
     "name": "stdout",
     "output_type": "stream",
     "text": [
      "--------------------------------------------------\n",
      "idx:0 chord: <music21.chord.Chord A4 E4 C#4 A3>\n",
      "           ans I6\n",
      "true_rn.figure I\n",
      "       true_rn <music21.roman.RomanNumeral V6 in A major>\n",
      "   expected_rn <music21.roman.RomanNumeral I6 in A major>\n",
      "chord_notes   (SATB) ['A', 'E', 'C#', 'A']\n",
      "expected_notes(B->S) ['C#', 'E', 'A']\n",
      "O  all the notes in this chord are chord tone\n",
      "--------------------------------------------------\n",
      "idx:1 chord: <music21.chord.Chord A4 E4 C#4 C#3>\n",
      "           ans V\n",
      "true_rn.figure I6\n",
      "       true_rn <music21.roman.RomanNumeral V6 in A major>\n",
      "   expected_rn <music21.roman.RomanNumeral V in A major>\n",
      "chord_notes   (SATB) ['A', 'E', 'C#', 'C#']\n",
      "expected_notes(B->S) ['E', 'G#', 'B']\n",
      "X  there are inharmonic notes in this chord: [('S', 'A'), ('T', 'C#'), ('B', 'C#')]\n",
      "--------------------------------------------------\n",
      "idx:2 chord: <music21.chord.Chord E4 B3 G#3 E3>\n",
      "           ans v\n",
      "true_rn.figure V\n",
      "       true_rn <music21.roman.RomanNumeral V6 in A major>\n",
      "   expected_rn <music21.roman.RomanNumeral v in A major>\n",
      "chord_notes   (SATB) ['E', 'B', 'G#', 'E']\n",
      "expected_notes(B->S) ['E', 'G', 'B']\n",
      "X  there are inharmonic notes in this chord: [('T', 'G#')]\n",
      "--------------------------------------------------\n",
      "idx:3 chord: <music21.chord.Chord D4 B3 G#3 E3>\n",
      "           ans V\n",
      "true_rn.figure V7\n",
      "       true_rn <music21.roman.RomanNumeral V6 in A major>\n",
      "   expected_rn <music21.roman.RomanNumeral V in A major>\n",
      "chord_notes   (SATB) ['D', 'B', 'G#', 'E']\n",
      "expected_notes(B->S) ['E', 'G#', 'B']\n",
      "X  there are inharmonic notes in this chord: [('S', 'D')]\n",
      "--------------------------------------------------\n",
      "idx:4 chord: <music21.chord.Chord E4 D4 B3 G#2>\n",
      "           ans V6\n",
      "true_rn.figure V65\n",
      "       true_rn <music21.roman.RomanNumeral V6 in A major>\n",
      "   expected_rn <music21.roman.RomanNumeral V6 in A major>\n",
      "chord_notes   (SATB) ['E', 'D', 'B', 'G#']\n",
      "expected_notes(B->S) ['G#', 'B', 'E']\n",
      "X  there are inharmonic notes in this chord: [('A', 'D')]\n",
      "--------------------------------------------------\n",
      "idx:5 chord: <music21.chord.Chord E4 E4 B3 G#2>\n",
      "           ans V\n",
      "true_rn.figure V6\n",
      "       true_rn <music21.roman.RomanNumeral V6 in A major>\n",
      "   expected_rn <music21.roman.RomanNumeral V in A major>\n",
      "chord_notes   (SATB) ['E', 'E', 'B', 'G#']\n",
      "expected_notes(B->S) ['E', 'G#', 'B']\n",
      "O  all the notes in this chord are chord tone\n"
     ]
    }
   ],
   "source": [
    "inharmonic_notes_detector = []\n",
    "for idx in df_score.index:\n",
    "    print(\"-\"*50)\n",
    "    chord = m21.chord.Chord(df_score.loc[idx,VOICES].values)# chord object: 學生寫的和弦\n",
    "    chord_notes = [i.name for i in chord]                   #         list: 該和弦的音名 (按順序, 由高至低, SATB)\n",
    "    true_rn = m21.roman.romanNumeralFromChord(chord, key)         # roman object: 該和弦的和弦級數 (by RNA), r.figure=='V6'\n",
    "    ans = df_score.loc[idx,'scale degree']                  #          str: 學生希望的和弦級數\n",
    "    expected_rn = m21.roman.RomanNumeral(ans, key)          # roman object: 學生希望的和弦級數\n",
    "    expected_notes = [p.name for p in expected_rn.pitches]  #         list:學生希望的和弦級數的音名 (按順序, 由低至高)\n",
    "    \n",
    "    print(f\"idx:{idx} chord: {chord}\")\n",
    "    print('           ans', ans)\n",
    "    print('true_rn.figure', true_rn.figure)\n",
    "    print('       true_rn', r)\n",
    "    print('   expected_rn', expected_rn)\n",
    "    print(\"chord_notes   (SATB)\", chord_notes)\n",
    "    print('expected_notes(B->S)', expected_notes)\n",
    "    \n",
    "    # 檢查是否有非和弦音?\n",
    "    inharmonic_notes = find_inharmonic_notes(VOICES, chord_notes, expected_notes)\n",
    "    if inharmonic_notes:\n",
    "        print(f\"X  there are inharmonic notes in this chord: {inharmonic_notes}\")\n",
    "        for n in inharmonic_notes:\n",
    "            if n[0]==homework_type:\n",
    "                advice = f'Change the Roman numeral {ans} to {avaliable_rn}'\n",
    "            else:\n",
    "                advice = f'Change the '\n",
    "            inharmonic_notes_detector.append(pd.Series({\n",
    "                'Voice 1': n[0],\n",
    "                'Voice 2': None,\n",
    "                'Place type': 'Vertical',\n",
    "                'Place': idx,\n",
    "                'Wrong type': 'Inharmonic note',\n",
    "                'Note': n[1],\n",
    "                'Advice': advice,\n",
    "                'Remark 1': f'note {n[1]} is not in the Roman numeral {ans} with key {key}',\n",
    "                'Remark 2': f'ans (by student): {ans}',\n",
    "                'Remark 3': f'expected_notes: {expected_notes}'\n",
    "            }))\n",
    "    else:\n",
    "        print(\"O  all the notes in this chord are chord tone\")"
   ]
  },
  {
   "cell_type": "code",
   "execution_count": 148,
   "metadata": {},
   "outputs": [
    {
     "data": {
      "text/html": [
       "<div>\n",
       "<style scoped>\n",
       "    .dataframe tbody tr th:only-of-type {\n",
       "        vertical-align: middle;\n",
       "    }\n",
       "\n",
       "    .dataframe tbody tr th {\n",
       "        vertical-align: top;\n",
       "    }\n",
       "\n",
       "    .dataframe thead th {\n",
       "        text-align: right;\n",
       "    }\n",
       "</style>\n",
       "<table border=\"1\" class=\"dataframe\">\n",
       "  <thead>\n",
       "    <tr style=\"text-align: right;\">\n",
       "      <th></th>\n",
       "      <th>Voice 1</th>\n",
       "      <th>Voice 2</th>\n",
       "      <th>Place type</th>\n",
       "      <th>Place</th>\n",
       "      <th>Wrong type</th>\n",
       "      <th>Note</th>\n",
       "      <th>Remark 1</th>\n",
       "      <th>Remark 2</th>\n",
       "      <th>Remark 3</th>\n",
       "    </tr>\n",
       "  </thead>\n",
       "  <tbody>\n",
       "    <tr>\n",
       "      <th>0</th>\n",
       "      <td>S</td>\n",
       "      <td>None</td>\n",
       "      <td>Vertical</td>\n",
       "      <td>1</td>\n",
       "      <td>Inharmonic note</td>\n",
       "      <td>A</td>\n",
       "      <td>note A is not in the Roman numeral V with key ...</td>\n",
       "      <td>ans (by student): V</td>\n",
       "      <td>expected_notes: ['E', 'G#', 'B']</td>\n",
       "    </tr>\n",
       "    <tr>\n",
       "      <th>1</th>\n",
       "      <td>T</td>\n",
       "      <td>None</td>\n",
       "      <td>Vertical</td>\n",
       "      <td>1</td>\n",
       "      <td>Inharmonic note</td>\n",
       "      <td>C#</td>\n",
       "      <td>note C# is not in the Roman numeral V with key...</td>\n",
       "      <td>ans (by student): V</td>\n",
       "      <td>expected_notes: ['E', 'G#', 'B']</td>\n",
       "    </tr>\n",
       "    <tr>\n",
       "      <th>2</th>\n",
       "      <td>B</td>\n",
       "      <td>None</td>\n",
       "      <td>Vertical</td>\n",
       "      <td>1</td>\n",
       "      <td>Inharmonic note</td>\n",
       "      <td>C#</td>\n",
       "      <td>note C# is not in the Roman numeral V with key...</td>\n",
       "      <td>ans (by student): V</td>\n",
       "      <td>expected_notes: ['E', 'G#', 'B']</td>\n",
       "    </tr>\n",
       "    <tr>\n",
       "      <th>3</th>\n",
       "      <td>T</td>\n",
       "      <td>None</td>\n",
       "      <td>Vertical</td>\n",
       "      <td>2</td>\n",
       "      <td>Inharmonic note</td>\n",
       "      <td>G#</td>\n",
       "      <td>note G# is not in the Roman numeral v with key...</td>\n",
       "      <td>ans (by student): v</td>\n",
       "      <td>expected_notes: ['E', 'G', 'B']</td>\n",
       "    </tr>\n",
       "    <tr>\n",
       "      <th>4</th>\n",
       "      <td>S</td>\n",
       "      <td>None</td>\n",
       "      <td>Vertical</td>\n",
       "      <td>3</td>\n",
       "      <td>Inharmonic note</td>\n",
       "      <td>D</td>\n",
       "      <td>note D is not in the Roman numeral V with key ...</td>\n",
       "      <td>ans (by student): V</td>\n",
       "      <td>expected_notes: ['E', 'G#', 'B']</td>\n",
       "    </tr>\n",
       "    <tr>\n",
       "      <th>5</th>\n",
       "      <td>A</td>\n",
       "      <td>None</td>\n",
       "      <td>Vertical</td>\n",
       "      <td>4</td>\n",
       "      <td>Inharmonic note</td>\n",
       "      <td>D</td>\n",
       "      <td>note D is not in the Roman numeral V6 with key...</td>\n",
       "      <td>ans (by student): V6</td>\n",
       "      <td>expected_notes: ['G#', 'B', 'E']</td>\n",
       "    </tr>\n",
       "  </tbody>\n",
       "</table>\n",
       "</div>"
      ],
      "text/plain": [
       "  Voice 1 Voice 2 Place type Place       Wrong type Note  \\\n",
       "0       S    None   Vertical     1  Inharmonic note    A   \n",
       "1       T    None   Vertical     1  Inharmonic note   C#   \n",
       "2       B    None   Vertical     1  Inharmonic note   C#   \n",
       "3       T    None   Vertical     2  Inharmonic note   G#   \n",
       "4       S    None   Vertical     3  Inharmonic note    D   \n",
       "5       A    None   Vertical     4  Inharmonic note    D   \n",
       "\n",
       "                                            Remark 1              Remark 2  \\\n",
       "0  note A is not in the Roman numeral V with key ...   ans (by student): V   \n",
       "1  note C# is not in the Roman numeral V with key...   ans (by student): V   \n",
       "2  note C# is not in the Roman numeral V with key...   ans (by student): V   \n",
       "3  note G# is not in the Roman numeral v with key...   ans (by student): v   \n",
       "4  note D is not in the Roman numeral V with key ...   ans (by student): V   \n",
       "5  note D is not in the Roman numeral V6 with key...  ans (by student): V6   \n",
       "\n",
       "                           Remark 3  \n",
       "0  expected_notes: ['E', 'G#', 'B']  \n",
       "1  expected_notes: ['E', 'G#', 'B']  \n",
       "2  expected_notes: ['E', 'G#', 'B']  \n",
       "3   expected_notes: ['E', 'G', 'B']  \n",
       "4  expected_notes: ['E', 'G#', 'B']  \n",
       "5  expected_notes: ['G#', 'B', 'E']  "
      ]
     },
     "execution_count": 148,
     "metadata": {},
     "output_type": "execute_result"
    }
   ],
   "source": [
    "pd.concat(inharmonic_notes_detector, axis=1).T"
   ]
  },
  {
   "cell_type": "code",
   "execution_count": 69,
   "metadata": {
    "scrolled": true
   },
   "outputs": [],
   "source": [
    "chord = m21.chord.Chord(df_score.loc[1,VOICES].values)  # chord object: 學生寫的和弦\n",
    "chord_notes = [i.name for i in chord]                   #         list: 該和弦的音名 (按順序, 由高至低, SATB)\n",
    "r = m21.roman.romanNumeralFromChord(chord, key)         # roman object: 該和弦的和弦級數 (by RNA), r.figure=='V6'\n",
    "ans = df_score.loc[1,'scale degree']                    #          str: 學生希望的和弦級數\n",
    "expected_rn = m21.roman.RomanNumeral(ans, key)          # roman object: 學生希望的和弦級數\n",
    "expected_notes = [p.name for p in expected_rn.pitches]  #         list:學生希望的和弦級數的音名 (按順序, 由低至高)"
   ]
  },
  {
   "cell_type": "code",
   "execution_count": 70,
   "metadata": {},
   "outputs": [
    {
     "name": "stdout",
     "output_type": "stream",
     "text": [
      "chord <music21.chord.Chord A4 E4 C#4 C#3>\n",
      "chord_notes ['A', 'E', 'C#', 'C#']\n",
      "r <music21.roman.RomanNumeral I6 in A major>\n",
      "ans V\n",
      "expected_rn <music21.roman.RomanNumeral V in A major>\n",
      "expected_notes ['E', 'G#', 'B']\n"
     ]
    }
   ],
   "source": [
    "print(\"chord\", chord)\n",
    "print(\"chord_notes\", chord_notes)\n",
    "print('r', r)\n",
    "print('ans', ans)\n",
    "print('expected_rn', expected_rn)\n",
    "print('expected_notes', expected_notes)"
   ]
  },
  {
   "cell_type": "code",
   "execution_count": 72,
   "metadata": {},
   "outputs": [
    {
     "name": "stdout",
     "output_type": "stream",
     "text": [
      "there are inharmonic notes in this chord: [('S', 'A'), ('T', 'C#'), ('B', 'C#')]\n"
     ]
    }
   ],
   "source": [
    "# 檢查是否有非和弦音?\n",
    "inharmonic_notes = find_inharmonic_notes(VOICES, chord_notes, expected_notes)\n",
    "if inharmonic_notes:\n",
    "    print(f\"there are inharmonic notes in this chord: {inharmonic_notes}\")\n",
    "else:\n",
    "    print(\"all the notes in this chord are chord tone\")"
   ]
  },
  {
   "cell_type": "code",
   "execution_count": 30,
   "metadata": {},
   "outputs": [
    {
     "name": "stdout",
     "output_type": "stream",
     "text": [
      "the Roman numeral cannot fit with the chord, should change the roman numeral to V6\n"
     ]
    }
   ],
   "source": [
    "# 轉位是否正確? \n",
    "if chord[-1].name==expected_notes[0]:  # bass 決定轉位, chord (SATB) 所以取 [-1] 表示 bass\n",
    "    print(\"the chord and Roman numeral are corresponding (in the right inversion)\")\n",
    "else:\n",
    "    print(f\"the Roman numeral cannot fit with the chord, should change the roman numeral to {r.figure}\")"
   ]
  },
  {
   "cell_type": "code",
   "execution_count": 90,
   "metadata": {},
   "outputs": [
    {
     "ename": "NameError",
     "evalue": "name 'chord_set' is not defined",
     "output_type": "error",
     "traceback": [
      "\u001b[1;31m---------------------------------------------------------------------------\u001b[0m",
      "\u001b[1;31mNameError\u001b[0m                                 Traceback (most recent call last)",
      "\u001b[1;32m<ipython-input-90-b856de42ee1b>\u001b[0m in \u001b[0;36m<module>\u001b[1;34m\u001b[0m\n\u001b[0;32m      1\u001b[0m \u001b[1;31m# root? third?\u001b[0m\u001b[1;33m\u001b[0m\u001b[1;33m\u001b[0m\u001b[1;33m\u001b[0m\u001b[0m\n\u001b[1;32m----> 2\u001b[1;33m \u001b[1;32mif\u001b[0m \u001b[0mexpected_rn\u001b[0m\u001b[1;33m.\u001b[0m\u001b[0mroot\u001b[0m\u001b[1;33m(\u001b[0m\u001b[1;33m)\u001b[0m\u001b[1;33m.\u001b[0m\u001b[0mname\u001b[0m \u001b[1;32min\u001b[0m \u001b[0mchord_set\u001b[0m\u001b[1;33m:\u001b[0m\u001b[1;33m\u001b[0m\u001b[1;33m\u001b[0m\u001b[0m\n\u001b[0m\u001b[0;32m      3\u001b[0m     \u001b[0mprint\u001b[0m\u001b[1;33m(\u001b[0m\u001b[1;34m\"we have root in this chord\"\u001b[0m\u001b[1;33m)\u001b[0m\u001b[1;33m\u001b[0m\u001b[1;33m\u001b[0m\u001b[0m\n\u001b[0;32m      4\u001b[0m \u001b[1;32melse\u001b[0m\u001b[1;33m:\u001b[0m\u001b[1;33m\u001b[0m\u001b[1;33m\u001b[0m\u001b[0m\n\u001b[0;32m      5\u001b[0m     \u001b[0mprint\u001b[0m\u001b[1;33m(\u001b[0m\u001b[1;34m\"we miss the root in this chord\"\u001b[0m\u001b[1;33m)\u001b[0m\u001b[1;33m\u001b[0m\u001b[1;33m\u001b[0m\u001b[0m\n",
      "\u001b[1;31mNameError\u001b[0m: name 'chord_set' is not defined"
     ]
    }
   ],
   "source": [
    "# root? third?\n",
    "if expected_rn.root().name in chord_set:\n",
    "    print(\"we have root in this chord\")\n",
    "else:\n",
    "    print(\"we miss the root in this chord\")\n",
    "    \n",
    "if expected_rn.third in chord_set:\n",
    "    print(\"we have third in this chord\")\n",
    "else:\n",
    "    print(\"we miss the third in this chord\")"
   ]
  },
  {
   "cell_type": "code",
   "execution_count": null,
   "metadata": {},
   "outputs": [],
   "source": [
    "chord"
   ]
  },
  {
   "cell_type": "code",
   "execution_count": null,
   "metadata": {},
   "outputs": [],
   "source": [
    "chord_content"
   ]
  },
  {
   "cell_type": "code",
   "execution_count": null,
   "metadata": {},
   "outputs": [],
   "source": [
    "chord[0].name"
   ]
  },
  {
   "cell_type": "code",
   "execution_count": null,
   "metadata": {},
   "outputs": [],
   "source": [
    "expected_notes"
   ]
  },
  {
   "cell_type": "code",
   "execution_count": null,
   "metadata": {},
   "outputs": [],
   "source": [
    "df_score"
   ]
  },
  {
   "cell_type": "code",
   "execution_count": null,
   "metadata": {},
   "outputs": [],
   "source": [
    "m21.roman.RomanNumeral('v', 'F').isMixture()"
   ]
  },
  {
   "cell_type": "code",
   "execution_count": null,
   "metadata": {},
   "outputs": [],
   "source": [
    "m21.roman.RomanNumeral('v', 'F')"
   ]
  },
  {
   "cell_type": "code",
   "execution_count": null,
   "metadata": {},
   "outputs": [],
   "source": []
  },
  {
   "cell_type": "code",
   "execution_count": null,
   "metadata": {},
   "outputs": [],
   "source": []
  },
  {
   "cell_type": "code",
   "execution_count": null,
   "metadata": {},
   "outputs": [],
   "source": [
    "file_xml = r'./harmony_sample_xml/harmony_sample_1.xml'\n",
    "with open(file_xml, 'r', encoding='utf-8') as stream:\n",
    "    xml_str = stream.read()"
   ]
  },
  {
   "cell_type": "code",
   "execution_count": null,
   "metadata": {
    "scrolled": true
   },
   "outputs": [],
   "source": [
    "print(xml_str)"
   ]
  },
  {
   "cell_type": "markdown",
   "metadata": {},
   "source": [
    "### draft"
   ]
  },
  {
   "cell_type": "code",
   "execution_count": null,
   "metadata": {
    "scrolled": true
   },
   "outputs": [],
   "source": [
    "rna = []\n",
    "correct = []\n",
    "mixture_available = []\n",
    "for i in df_score.index:\n",
    "    chord = m21.chord.Chord(df_score.loc[i,VOICES].values)\n",
    "    ans = df_score.loc[i,'scale degree']\n",
    "    r = m21.roman.romanNumeralFromChord(chord, key).figure\n",
    "    rna.append(r)\n",
    "    if ans==r:\n",
    "        correct.append(True)\n",
    "        mixture_available.append(True)\n",
    "    else:\n",
    "        correct.append(False)\n",
    "        if m21.roman.RomanNumeral(ans, key).isMixture():\n",
    "            mixture_available.append(True)\n",
    "        else:\n",
    "            mixture_available.append(False)\n",
    "        \n",
    "df_score['Roman numerals analysis'] = rna          # 從 SATB 判斷應該是什麼和弦級數\n",
    "df_score['Correct'] = correct                      # 學生寫的 scale degree 和 rna 是否一致\n",
    "df_score['Mixture available'] = mixture_available  # 學生寫的 scale degree 是否是該調性允許的級數"
   ]
  },
  {
   "cell_type": "code",
   "execution_count": 128,
   "metadata": {},
   "outputs": [
    {
     "name": "stdout",
     "output_type": "stream",
     "text": [
      "homework type: B\n"
     ]
    }
   ],
   "source": [
    "print(f\"homework type: {homework_type}\")\n",
    "absolutely_correct_voice = df_score[homework_type]"
   ]
  },
  {
   "cell_type": "code",
   "execution_count": 129,
   "metadata": {
    "scrolled": false
   },
   "outputs": [],
   "source": [
    "rn_not_match_with_type = []\n",
    "for idx in df_score.index:\n",
    "    ans = df_score.loc[idx,'scale degree']                  #          str: 學生希望的和弦級數\n",
    "    expected_rn = m21.roman.RomanNumeral(ans, key)          # roman object: 學生希望的和弦級數\n",
    "    expected_notes = [p.name for p in expected_rn.pitches]  #         list:學生希望的和弦級數的音名 (按順序, 由低至高)\n",
    "    note = m21.note.Note(absolutely_correct_voice[idx]).name\n",
    "    if note not in expected_notes:\n",
    "        rn_not_match_with_type.append(pd.Series({\n",
    "            'Voice 1': homework_type,\n",
    "            'Voice 2': None,\n",
    "            'Place type': 'Vertical',\n",
    "            'Place': idx,\n",
    "            'Wrong type': 'Roman nuemeral',\n",
    "            'Note': note,\n",
    "            'Remark 1': f'note {note} is not in the Roman numeral {ans} with key {key}',\n",
    "            'Remark 2': f'ans (by student): {ans}',\n",
    "            'Remark 3': f'expected_notes: {expected_notes}'\n",
    "        }))\n",
    "rn_not_match_with_type = pd.concat(rn_not_match_with_type, axis=1).T"
   ]
  },
  {
   "cell_type": "code",
   "execution_count": 130,
   "metadata": {},
   "outputs": [
    {
     "data": {
      "text/html": [
       "<div>\n",
       "<style scoped>\n",
       "    .dataframe tbody tr th:only-of-type {\n",
       "        vertical-align: middle;\n",
       "    }\n",
       "\n",
       "    .dataframe tbody tr th {\n",
       "        vertical-align: top;\n",
       "    }\n",
       "\n",
       "    .dataframe thead th {\n",
       "        text-align: right;\n",
       "    }\n",
       "</style>\n",
       "<table border=\"1\" class=\"dataframe\">\n",
       "  <thead>\n",
       "    <tr style=\"text-align: right;\">\n",
       "      <th></th>\n",
       "      <th>Voice 1</th>\n",
       "      <th>Voice 2</th>\n",
       "      <th>Place type</th>\n",
       "      <th>Place</th>\n",
       "      <th>Wrong type</th>\n",
       "      <th>Note</th>\n",
       "      <th>Remark 1</th>\n",
       "      <th>Remark 2</th>\n",
       "      <th>Remark 3</th>\n",
       "    </tr>\n",
       "  </thead>\n",
       "  <tbody>\n",
       "    <tr>\n",
       "      <th>0</th>\n",
       "      <td>B</td>\n",
       "      <td>None</td>\n",
       "      <td>Vertical</td>\n",
       "      <td>1</td>\n",
       "      <td>Roman nuemeral</td>\n",
       "      <td>C#</td>\n",
       "      <td>note C# is not in the Roman numeral V with key...</td>\n",
       "      <td>ans (by student): V</td>\n",
       "      <td>expected_notes: ['E', 'G#', 'B']</td>\n",
       "    </tr>\n",
       "  </tbody>\n",
       "</table>\n",
       "</div>"
      ],
      "text/plain": [
       "  Voice 1 Voice 2 Place type Place      Wrong type Note  \\\n",
       "0       B    None   Vertical     1  Roman nuemeral   C#   \n",
       "\n",
       "                                            Remark 1             Remark 2  \\\n",
       "0  note C# is not in the Roman numeral V with key...  ans (by student): V   \n",
       "\n",
       "                           Remark 3  \n",
       "0  expected_notes: ['E', 'G#', 'B']  "
      ]
     },
     "execution_count": 130,
     "metadata": {},
     "output_type": "execute_result"
    }
   ],
   "source": [
    "rn_not_match_with_type"
   ]
  },
  {
   "cell_type": "code",
   "execution_count": 152,
   "metadata": {},
   "outputs": [
    {
     "data": {
      "text/plain": [
       "<music21.roman.RomanNumeral iii in A major>"
      ]
     },
     "execution_count": 152,
     "metadata": {},
     "output_type": "execute_result"
    }
   ],
   "source": [
    "m21.roman.romanNumeralFromChord(m21.chord.Chord('c#3'), 'A')"
   ]
  },
  {
   "cell_type": "markdown",
   "metadata": {},
   "source": [
    "### Roman numeral analysis\n",
    "* https://github.com/w3c/musicxml/issues/295\n",
    "* https://www.w3.org/2021/06/musicxml40/musicxml-reference/elements/function/"
   ]
  },
  {
   "cell_type": "code",
   "execution_count": null,
   "metadata": {},
   "outputs": [],
   "source": [
    "RNA = {\n",
    "    'major': ['I', 'II', 'III', 'IV', 'V', 'VI', 'VII'],\n",
    "    'minor': ['i', 'ii', 'iii', 'iv', 'V', 'vi', 'vii'],\n",
    "    'symbol': ['ø' ('/o'), 'o', '7'],\n",
    "    'inversion': ['6', '65', '43', '42', '2'],\n",
    "}"
   ]
  },
  {
   "cell_type": "code",
   "execution_count": null,
   "metadata": {},
   "outputs": [],
   "source": [
    "df_score['scale degree']"
   ]
  },
  {
   "cell_type": "code",
   "execution_count": null,
   "metadata": {},
   "outputs": [],
   "source": [
    "diminished7th1stInv = m21.roman.RomanNumeral(\n",
    "    'vii/o7', m21.scale.MajorScale('C'))\n",
    "for p in diminished7th1stInv.pitches:\n",
    "    print(p)"
   ]
  },
  {
   "cell_type": "code",
   "execution_count": null,
   "metadata": {},
   "outputs": [],
   "source": [
    "[str(p) for p in m21.roman.RomanNumeral(\"VII\").pitches]"
   ]
  },
  {
   "cell_type": "code",
   "execution_count": null,
   "metadata": {},
   "outputs": [],
   "source": []
  }
 ],
 "metadata": {
  "kernelspec": {
   "display_name": "Python 3",
   "language": "python",
   "name": "python3"
  },
  "language_info": {
   "codemirror_mode": {
    "name": "ipython",
    "version": 3
   },
   "file_extension": ".py",
   "mimetype": "text/x-python",
   "name": "python",
   "nbconvert_exporter": "python",
   "pygments_lexer": "ipython3",
   "version": "3.8.5"
  }
 },
 "nbformat": 4,
 "nbformat_minor": 4
}
