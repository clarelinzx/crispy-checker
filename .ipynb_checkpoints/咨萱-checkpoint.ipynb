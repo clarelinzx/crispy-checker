{
 "cells": [
  {
   "cell_type": "markdown",
   "metadata": {},
   "source": [
    "# Import package"
   ]
  },
  {
   "cell_type": "code",
   "execution_count": 1,
   "metadata": {},
   "outputs": [],
   "source": [
    "import os\n",
    "import sys\n",
    "import numpy as np\n",
    "import pandas as pd\n",
    "import music21 as m21\n",
    "from itertools import combinations"
   ]
  },
  {
   "cell_type": "code",
   "execution_count": 2,
   "metadata": {},
   "outputs": [],
   "source": [
    "pd.set_option(\"display.max_rows\", None, \"display.max_columns\", None)"
   ]
  },
  {
   "cell_type": "markdown",
   "metadata": {},
   "source": [
    "# Read data"
   ]
  },
  {
   "cell_type": "code",
   "execution_count": 3,
   "metadata": {},
   "outputs": [],
   "source": [
    "file_path = r'./harmony_sample_xlsx/harmony_sample_0.xlsx'\n",
    "df_info = pd.read_excel(file_path, sheet_name='Info')\n",
    "df_score = pd.read_excel(file_path, sheet_name='Score')"
   ]
  },
  {
   "cell_type": "code",
   "execution_count": 4,
   "metadata": {},
   "outputs": [
    {
     "data": {
      "text/html": [
       "<div>\n",
       "<style scoped>\n",
       "    .dataframe tbody tr th:only-of-type {\n",
       "        vertical-align: middle;\n",
       "    }\n",
       "\n",
       "    .dataframe tbody tr th {\n",
       "        vertical-align: top;\n",
       "    }\n",
       "\n",
       "    .dataframe thead th {\n",
       "        text-align: right;\n",
       "    }\n",
       "</style>\n",
       "<table border=\"1\" class=\"dataframe\">\n",
       "  <thead>\n",
       "    <tr style=\"text-align: right;\">\n",
       "      <th></th>\n",
       "      <th>Time signature</th>\n",
       "      <th>Key signature</th>\n",
       "      <th>Type</th>\n",
       "      <th>Mode</th>\n",
       "      <th>Key by student</th>\n",
       "    </tr>\n",
       "  </thead>\n",
       "  <tbody>\n",
       "    <tr>\n",
       "      <th>0</th>\n",
       "      <td>2/2</td>\n",
       "      <td>3</td>\n",
       "      <td>NaN</td>\n",
       "      <td>NaN</td>\n",
       "      <td>A</td>\n",
       "    </tr>\n",
       "  </tbody>\n",
       "</table>\n",
       "</div>"
      ],
      "text/plain": [
       "  Time signature  Key signature  Type  Mode Key by student\n",
       "0            2/2              3   NaN   NaN              A"
      ]
     },
     "execution_count": 4,
     "metadata": {},
     "output_type": "execute_result"
    }
   ],
   "source": [
    "df_info"
   ]
  },
  {
   "cell_type": "code",
   "execution_count": 5,
   "metadata": {},
   "outputs": [
    {
     "data": {
      "text/html": [
       "<div>\n",
       "<style scoped>\n",
       "    .dataframe tbody tr th:only-of-type {\n",
       "        vertical-align: middle;\n",
       "    }\n",
       "\n",
       "    .dataframe tbody tr th {\n",
       "        vertical-align: top;\n",
       "    }\n",
       "\n",
       "    .dataframe thead th {\n",
       "        text-align: right;\n",
       "    }\n",
       "</style>\n",
       "<table border=\"1\" class=\"dataframe\">\n",
       "  <thead>\n",
       "    <tr style=\"text-align: right;\">\n",
       "      <th></th>\n",
       "      <th>S</th>\n",
       "      <th>A</th>\n",
       "      <th>T</th>\n",
       "      <th>B</th>\n",
       "      <th>scale degree</th>\n",
       "    </tr>\n",
       "  </thead>\n",
       "  <tbody>\n",
       "    <tr>\n",
       "      <th>0</th>\n",
       "      <td>A4</td>\n",
       "      <td>E4</td>\n",
       "      <td>C#4</td>\n",
       "      <td>A3</td>\n",
       "      <td>I</td>\n",
       "    </tr>\n",
       "    <tr>\n",
       "      <th>1</th>\n",
       "      <td>G#4</td>\n",
       "      <td>E4</td>\n",
       "      <td>B3</td>\n",
       "      <td>G#3</td>\n",
       "      <td>V</td>\n",
       "    </tr>\n",
       "  </tbody>\n",
       "</table>\n",
       "</div>"
      ],
      "text/plain": [
       "     S   A    T    B scale degree\n",
       "0   A4  E4  C#4   A3            I\n",
       "1  G#4  E4   B3  G#3            V"
      ]
     },
     "execution_count": 5,
     "metadata": {},
     "output_type": "execute_result"
    }
   ],
   "source": [
    "df_score.head(2)"
   ]
  },
  {
   "cell_type": "markdown",
   "metadata": {},
   "source": [
    "# 0. 基本資訊"
   ]
  },
  {
   "cell_type": "markdown",
   "metadata": {},
   "source": [
    "### df_info"
   ]
  },
  {
   "cell_type": "code",
   "execution_count": 6,
   "metadata": {
    "scrolled": true
   },
   "outputs": [
    {
     "name": "stdout",
     "output_type": "stream",
     "text": [
      "-------------------- df_info  --------------------\n",
      "[Required]\n",
      "key signature: <music21.key.KeySignature of 3 sharps>\n",
      "the pitches altered by this key signature: ['F#', 'C#', 'G#']\n",
      "[Optional]\n",
      "question_type: nan\n",
      "question_mode: nan\n",
      "key_student: A major\n"
     ]
    }
   ],
   "source": [
    "print(f\"{'-'*20}{'df_info':^10}{'-'*20}\")\n",
    "\n",
    "# Required\n",
    "print(\"[Required]\")\n",
    "time_sign = m21.meter.TimeSignature(df_info['Time signature'][0])\n",
    "key_sign = m21.key.KeySignature(df_info['Key signature'][0])   # absolutely correct\n",
    "print(\"key signature:\", key_sign)\n",
    "print(\"the pitches altered by this key signature:\", [p.name for p in key_sign.alteredPitches]) \n",
    "\n",
    "# Optional\n",
    "print(\"[Optional]\")\n",
    "# Type: 高音題 S / 低音題 B / 無 np.nan\n",
    "question_type = df_info['Type'][0]  \n",
    "print(f\"question_type: {question_type}\")\n",
    "# Key: 題目指定大小調\n",
    "question_mode = df_info['Mode'][0]\n",
    "print(f\"question_mode: {question_mode}\")\n",
    "# Key by student: 學生自行填寫的調性\n",
    "key_student = m21.key.Key(df_info['Key by student'][0])  # need to check if this matches wtih key_sign and tonic_chord\n",
    "print(f\"key_student: {key_student}\")"
   ]
  },
  {
   "cell_type": "code",
   "execution_count": 7,
   "metadata": {},
   "outputs": [
    {
     "data": {
      "image/png": "[encoded data removed]",
      "text/plain": [
       "<IPython.core.display.Image object>"
      ]
     },
     "metadata": {
      "image/png": {
       "height": 51,
       "width": 227
      }
     },
     "output_type": "display_data"
    }
   ],
   "source": [
    "s = m21.stream.Stream()\n",
    "s.append(key_sign)\n",
    "s.append(time_sign)\n",
    "s.show()"
   ]
  },
  {
   "cell_type": "markdown",
   "metadata": {},
   "source": [
    "### df_score"
   ]
  },
  {
   "cell_type": "code",
   "execution_count": 8,
   "metadata": {},
   "outputs": [
    {
     "name": "stdout",
     "output_type": "stream",
     "text": [
      "-------------------- df_score --------------------\n",
      "VOICES: Index(['S', 'A', 'T', 'B'], dtype='object')\n"
     ]
    }
   ],
   "source": [
    "print(f\"{'-'*20}{'df_score':^10}{'-'*20}\")\n",
    "# Required: 此題有幾個聲部\n",
    "VOICES = df_score.columns[:-1]\n",
    "print(f\"VOICES: {VOICES}\")\n",
    "scale_degree = df_score['scale degree']"
   ]
  },
  {
   "cell_type": "code",
   "execution_count": 9,
   "metadata": {
    "scrolled": true
   },
   "outputs": [
    {
     "data": {
      "text/plain": [
       "0     False\n",
       "1     False\n",
       "2     False\n",
       "3     False\n",
       "4     False\n",
       "5     False\n",
       "6     False\n",
       "7     False\n",
       "8     False\n",
       "9     False\n",
       "10    False\n",
       "11    False\n",
       "12    False\n",
       "13    False\n",
       "14    False\n",
       "Name: scale degree, dtype: bool"
      ]
     },
     "execution_count": 9,
     "metadata": {},
     "output_type": "execute_result"
    }
   ],
   "source": [
    "scale_degree.isnull()"
   ]
  },
  {
   "cell_type": "markdown",
   "metadata": {},
   "source": [
    "### 判斷調性"
   ]
  },
  {
   "cell_type": "code",
   "execution_count": 10,
   "metadata": {},
   "outputs": [],
   "source": [
    "def detect_key_by_key_sign(key_sign, question_type, VOICES, df, key_student):\n",
    "    '''從調號推測'''\n",
    "    possible_key_major = key_sign.asKey()\n",
    "    #major_leading_tone = possible_key_major.pitchFromDegree(7).name\n",
    "    possible_key_minor = key_sign.asKey(mode='minor')  # natural form\n",
    "    possible_key_minor.abstract = m21.scale.AbstractHarmonicMinorScale()  # turn to harmonic scale\n",
    "    minor_leading_tone = possible_key_minor.pitchesFromScaleDegrees([7])[0].name  # 導音\n",
    "    print(f\"possible_key_major: {possible_key_major}\")  #, major_leading_tone: {major_leading_tone}\")  \n",
    "    print(f\"possible_key_minor: {possible_key_minor}, minor_leading_tone: {minor_leading_tone}\")\n",
    "    \n",
    "    if pd.notna(question_type):  # 題目有提供高音題 or 低音題\n",
    "        if question_type=='B':   # 低音題: 因為必結束在一級原位, 直接看最後一個音即可\n",
    "            ending_note = m21.note.Note(df.iloc[-1,:][question_type]).name\n",
    "            if ending_note==possible_key_major.tonic:\n",
    "                key = possible_key_major\n",
    "            elif ending_note==possible_key_minor.tonic:\n",
    "                key = possible_key_minor\n",
    "            else:\n",
    "                sys.stderr.write(f\"something wrong with question_type {question_type} and the ending note {ending_note}\")\n",
    "                # 從寫作內容判斷調性\n",
    "                key = detect_key_by_ending_chord(df, VOICES, key_sign, minor_leading_tone, key_student,\n",
    "                                                  possible_key_major, possible_key_minor)\n",
    "\n",
    "        elif question_type=='S': # 高音題: 不一定在音級1\n",
    "            ending_note = m21.note.Note(df.iloc[-1,:][question_type]).name\n",
    "            if ending_note==possible_key_major.pitchFromDegree(5).name:  # 大調 音級5\n",
    "                key = possible_key_major\n",
    "            elif ending_note==possible_key_minor.tonic:                  # 小調 音級1\n",
    "                key = possible_key_minor\n",
    "            else:                                                         # 大調 音級 1,3 == 小調音級 3,5\n",
    "                # 看 S 旋律中有沒有導音升高 -> 有: 小調, 沒有: 大調. 預設未知\n",
    "                key = detect_key_by_melody(None, df, VOICES, minor_leading_tone, possible_key_minor)\n",
    "                # 從寫作內容判斷調性: 看最後一個和弦\n",
    "                if not key:\n",
    "                    key = detect_key_by_ending_chord(df, VOICES, key_sign, minor_leading_tone, \n",
    "                                                  possible_key_major, possible_key_minor)\n",
    "        \n",
    "        else:  # question_type 讀取異常 (只允許 np.nan, 'S', 'B')\n",
    "            sys.stderr.write(f\"something wrong with question_type {question_type}\")\n",
    "            # 從寫作內容判斷調性: 看最後一個和弦\n",
    "            key = detect_key_by_ending_chord(df, VOICES, key_sign, minor_leading_tone, key_student,\n",
    "                                                  possible_key_major, possible_key_minor)\n",
    "            \n",
    "    else:  # 題目沒有提供高音題 or 低音題, 從寫作內容判斷調性: 看最後一個和弦\n",
    "        key = detect_key_by_ending_chord(df, VOICES, key_sign, minor_leading_tone,  key_student,\n",
    "                                                  possible_key_major, possible_key_minor)\n",
    "    \n",
    "    return key"
   ]
  },
  {
   "cell_type": "code",
   "execution_count": 11,
   "metadata": {},
   "outputs": [],
   "source": [
    "def detect_key_by_melody(key_detected, df, VOICES, minor_leading_tone, possible_key_minor):\n",
    "    '''看旋律中有沒有導音升高 -> 有: 小調, 沒有: 大調'''\n",
    "    for n in df[VOICES].to_numpy().flatten():\n",
    "        if m21.note.Note(n).name == minor_leading_tone:\n",
    "            key_detected = possible_key_minor\n",
    "            break\n",
    "    return key_detected"
   ]
  },
  {
   "cell_type": "code",
   "execution_count": 12,
   "metadata": {},
   "outputs": [],
   "source": [
    "def detect_key_by_ending_chord(df, VOICES, key_sign, minor_leading_tone, key_student,\n",
    "                               possible_key_major, possible_key_minor):\n",
    "    '''從寫作內容判斷調性: 看最後一個和弦'''\n",
    "    ending_chord = m21.chord.Chord(df[VOICES].iloc[-1,:].values)  # end on tonic\n",
    "    possible_scale_degree_major = m21.roman.romanNumeralFromChord(ending_chord, possible_key_major).scaleDegree\n",
    "    possible_scale_degree_minor = m21.roman.romanNumeralFromChord(ending_chord, possible_key_minor).scaleDegree\n",
    "    if possible_scale_degree_major == 1:\n",
    "        key_detected = possible_key_major\n",
    "    elif possible_scale_degree_minor == 1:\n",
    "        key_detected = possible_key_minor\n",
    "    else:\n",
    "        sys.stderr.write(f\"something wrong with detecting key by matching key signature {key_sign} and the ending chord {ending_chord}\")\n",
    "        # e.g. C大調 4聲部都停在音級3\n",
    "        # 看旋律中有沒有導音升高 -> 有: 小調, 沒有: 大調. 預設大調\n",
    "        key_detected = detect_key_by_melody(possible_key_major, df, VOICES, minor_leading_tone, possible_key_minor)\n",
    "    \n",
    "    print(\"The key should be\", key_detected)\n",
    "        \n",
    "    if key_student==key_detected:\n",
    "        print('The student answers a correct key:', key_student)\n",
    "        key = key_student\n",
    "    else:\n",
    "        print(f'The student answers {key_student}, while key detected should be {key_detected}')\n",
    "        key = key_detected\n",
    "    \n",
    "    return key"
   ]
  },
  {
   "cell_type": "code",
   "execution_count": 13,
   "metadata": {},
   "outputs": [
    {
     "name": "stdout",
     "output_type": "stream",
     "text": [
      "possible_key_major: A major\n",
      "possible_key_minor: f# minor, minor_leading_tone: E#\n",
      "The key should be A major\n",
      "The student answers a correct key: A major\n"
     ]
    }
   ],
   "source": [
    "if pd.notna(question_mode):  # 題目有提供大調或小調\n",
    "    try:\n",
    "        key = key_sign.asKey(mode=question_mode)\n",
    "    except Error as err:\n",
    "        sys.stderr.write(f\"something wrong with question_mode {question_mode}: {err}\")\n",
    "        # 需要從調號推測\n",
    "        key = detect_key_by_key_sign(key_sign, question_type, VOICES, df_score, key_student)\n",
    "else:  # 從調號推測\n",
    "    key = detect_key_by_key_sign(key_sign, question_type, VOICES, df_score, key_student)"
   ]
  },
  {
   "cell_type": "markdown",
   "metadata": {},
   "source": [
    "### 音程"
   ]
  },
  {
   "cell_type": "code",
   "execution_count": 14,
   "metadata": {},
   "outputs": [],
   "source": [
    "def simple_interval(original_interval):\n",
    "    '''in music analysis, we distinguish perfect octave (including double-octave,...) from perfect union'''\n",
    "    if original_interval.simpleName=='P1':\n",
    "        if original_interval.name=='P1':\n",
    "            return 'P1'\n",
    "        else:\n",
    "            return 'P8'\n",
    "    else:\n",
    "        return original_interval.simpleName"
   ]
  },
  {
   "cell_type": "markdown",
   "metadata": {},
   "source": [
    "# 1. 音域方面\n"
   ]
  },
  {
   "cell_type": "markdown",
   "metadata": {},
   "source": [
    "### 個別音域 (Vocal Range)"
   ]
  },
  {
   "cell_type": "code",
   "execution_count": 15,
   "metadata": {},
   "outputs": [],
   "source": [
    "def vocal_range_detection(VOICES, ALLOWABLE_EXTENSIONS, df):\n",
    "    vocal_range_detector = []\n",
    "    for v in VOICES:\n",
    "        lower_note = m21.note.Note(ALLOWABLE_EXTENSIONS[v]['lower_note'])\n",
    "        higher_note = m21.note.Note(ALLOWABLE_EXTENSIONS[v]['higher_note'])\n",
    "        for idx,n in enumerate(df[v]):\n",
    "            current_note = m21.note.Note(n)\n",
    "            compared_with_lower_note = m21.interval.Interval(noteStart=lower_note, noteEnd=current_note)\n",
    "            if compared_with_lower_note.direction.value < 0:  # 超過下限\n",
    "                vocal_range_detector.append(pd.Series({\n",
    "                    'Voice 1': v,\n",
    "                    'Voice 2': None,\n",
    "                    'Place type': 'Vertical',\n",
    "                    'Place': i,\n",
    "                    'Wrong type': 'Vocal range',\n",
    "                    'Remark': f\"note {current_note} lower than lower bound {lower_note}\"\n",
    "                }))\n",
    "\n",
    "            compared_with_higher_note = m21.interval.Interval(noteStart=current_note, noteEnd=higher_note)\n",
    "            if compared_with_higher_note.direction.value < 0:  # 超過上限\n",
    "                vocal_range_detector.append(pd.Series({\n",
    "                    'Voice 1': v,\n",
    "                    'Voice 2': None,\n",
    "                    'Place type': 'Vertical',\n",
    "                    'Place': i,\n",
    "                    'Wrong type': 'Vocal range',\n",
    "                    'Remark': f\"note {current_note} higher than upper bound {higher_note}\"\n",
    "                }))\n",
    "\n",
    "    if vocal_range_detector:\n",
    "        return pd.concat(vocal_range_detector, axis=1)"
   ]
  },
  {
   "cell_type": "code",
   "execution_count": 16,
   "metadata": {},
   "outputs": [],
   "source": [
    "ALLOWABLE_EXTENSIONS = {\n",
    "    'S': {\n",
    "        'lower_note': 'B3',\n",
    "        'higher_note': 'A5'\n",
    "    },\n",
    "    'A': {\n",
    "        'lower_note': 'G3',\n",
    "        'higher_note': 'D5'\n",
    "    },\n",
    "    'T': {\n",
    "        'lower_note': 'C3',\n",
    "        'higher_note': 'A4'\n",
    "    },\n",
    "    'B': {\n",
    "        'lower_note': 'D2',\n",
    "        'higher_note': 'D4'\n",
    "    }\n",
    "}"
   ]
  },
  {
   "cell_type": "code",
   "execution_count": 17,
   "metadata": {},
   "outputs": [],
   "source": [
    "vocal_range_detector = vocal_range_detection(VOICES, ALLOWABLE_EXTENSIONS, df_score)"
   ]
  },
  {
   "cell_type": "code",
   "execution_count": 18,
   "metadata": {},
   "outputs": [],
   "source": [
    "vocal_range_detector"
   ]
  },
  {
   "cell_type": "markdown",
   "metadata": {},
   "source": [
    "### 配置 (Spacing)"
   ]
  },
  {
   "cell_type": "code",
   "execution_count": 19,
   "metadata": {},
   "outputs": [],
   "source": [
    "SPACEING = {\n",
    "    ('S', 'A'): 'P8',\n",
    "    ('A', 'T'): 'P8',\n",
    "    ('T', 'B'): 'P12'\n",
    "}"
   ]
  },
  {
   "cell_type": "code",
   "execution_count": 20,
   "metadata": {},
   "outputs": [],
   "source": [
    "def spacing_detection(VOICES, SPACEING, df):\n",
    "    spacing_detector = []\n",
    "    for v, voice_1 in enumerate(VOICES[:-1]):\n",
    "        voice_2 = VOICES[v+1]\n",
    "        allowable_spacing = m21.interval.Interval(SPACEING[(voice_1, voice_2)])\n",
    "        \n",
    "        for idx in df.index:\n",
    "            higher_note = m21.note.Note(df[voice_1][idx])\n",
    "            lower_note = m21.note.Note(df[voice_2][idx])\n",
    "            vertical_interval = m21.interval.Interval(noteStart=lower_note, noteEnd=higher_note)\n",
    "            if m21.interval.subtract([allowable_spacing,vertical_interval]).direction.value < 0:\n",
    "                spacing_detector.append(pd.Series({\n",
    "                        'Voice 1': voice_1,\n",
    "                        'Voice 2': voice_2,\n",
    "                        'Place type': 'Vertical',\n",
    "                        'Place': idx,\n",
    "                        'Wrong type': 'Spacing',\n",
    "                        'Remark': f\"their interval at place {idx} is {vertical_interval.name}, which is bigger than allowable_spacing {allowable_spacing}\"\n",
    "                    }))\n",
    "    if spacing_detector:\n",
    "        return pd.concat(spacing_detector, axis=1).T"
   ]
  },
  {
   "cell_type": "code",
   "execution_count": 21,
   "metadata": {
    "scrolled": true
   },
   "outputs": [],
   "source": [
    "spacing_detector = spacing_detection(VOICES, SPACEING, df_score)"
   ]
  },
  {
   "cell_type": "code",
   "execution_count": 22,
   "metadata": {},
   "outputs": [
    {
     "data": {
      "text/html": [
       "<div>\n",
       "<style scoped>\n",
       "    .dataframe tbody tr th:only-of-type {\n",
       "        vertical-align: middle;\n",
       "    }\n",
       "\n",
       "    .dataframe tbody tr th {\n",
       "        vertical-align: top;\n",
       "    }\n",
       "\n",
       "    .dataframe thead th {\n",
       "        text-align: right;\n",
       "    }\n",
       "</style>\n",
       "<table border=\"1\" class=\"dataframe\">\n",
       "  <thead>\n",
       "    <tr style=\"text-align: right;\">\n",
       "      <th></th>\n",
       "      <th>Voice 1</th>\n",
       "      <th>Voice 2</th>\n",
       "      <th>Place type</th>\n",
       "      <th>Place</th>\n",
       "      <th>Wrong type</th>\n",
       "      <th>Remark</th>\n",
       "    </tr>\n",
       "  </thead>\n",
       "  <tbody>\n",
       "    <tr>\n",
       "      <th>0</th>\n",
       "      <td>A</td>\n",
       "      <td>T</td>\n",
       "      <td>Vertical</td>\n",
       "      <td>6</td>\n",
       "      <td>Spacing</td>\n",
       "      <td>their interval at place 6 is m10, which is big...</td>\n",
       "    </tr>\n",
       "  </tbody>\n",
       "</table>\n",
       "</div>"
      ],
      "text/plain": [
       "  Voice 1 Voice 2 Place type Place Wrong type  \\\n",
       "0       A       T   Vertical     6    Spacing   \n",
       "\n",
       "                                              Remark  \n",
       "0  their interval at place 6 is m10, which is big...  "
      ]
     },
     "execution_count": 22,
     "metadata": {},
     "output_type": "execute_result"
    }
   ],
   "source": [
    "spacing_detector"
   ]
  },
  {
   "cell_type": "markdown",
   "metadata": {},
   "source": [
    "### 交越 (Voice Crossing)"
   ]
  },
  {
   "cell_type": "code",
   "execution_count": 23,
   "metadata": {},
   "outputs": [],
   "source": [
    "def voice_crossing_detection(VOICES, df):\n",
    "    voice_crossing_detector = []\n",
    "    for v, voice_1 in enumerate(VOICES[:-1]):\n",
    "        voice_2 = VOICES[v+1]\n",
    "        for idx in df.index:\n",
    "            higher_note = m21.note.Note(df[voice_1][idx])\n",
    "            lower_note = m21.note.Note(df[voice_2][idx])\n",
    "            vertical_interval = m21.interval.Interval(noteStart=lower_note, noteEnd=higher_note)\n",
    "\n",
    "            if vertical_interval.direction.value < 0:\n",
    "                voice_crossing_detector.append(pd.Series({\n",
    "                        'Voice 1': voice_1,\n",
    "                        'Voice 2': voice_2,\n",
    "                        'Place type': 'Vertical',\n",
    "                        'Place': idx,\n",
    "                        'Wrong type': 'Voice crossing',\n",
    "                        'Remark': f\"{voice_1}: {higher_note.nameWithOctave} is lower than {voice_2}: {lower_note.nameWithOctave}\"\n",
    "                    }))\n",
    "    if voice_crossing_detector:\n",
    "        return pd.concat(voice_crossing_detector, axis=1).T"
   ]
  },
  {
   "cell_type": "code",
   "execution_count": 26,
   "metadata": {},
   "outputs": [],
   "source": [
    "voice_crossing_detector = voice_crossing_detection(VOICES, df_score)"
   ]
  },
  {
   "cell_type": "code",
   "execution_count": 27,
   "metadata": {},
   "outputs": [
    {
     "data": {
      "text/html": [
       "<div>\n",
       "<style scoped>\n",
       "    .dataframe tbody tr th:only-of-type {\n",
       "        vertical-align: middle;\n",
       "    }\n",
       "\n",
       "    .dataframe tbody tr th {\n",
       "        vertical-align: top;\n",
       "    }\n",
       "\n",
       "    .dataframe thead th {\n",
       "        text-align: right;\n",
       "    }\n",
       "</style>\n",
       "<table border=\"1\" class=\"dataframe\">\n",
       "  <thead>\n",
       "    <tr style=\"text-align: right;\">\n",
       "      <th></th>\n",
       "      <th>Voice 1</th>\n",
       "      <th>Voice 2</th>\n",
       "      <th>Place type</th>\n",
       "      <th>Place</th>\n",
       "      <th>Wrong type</th>\n",
       "      <th>Remark</th>\n",
       "    </tr>\n",
       "  </thead>\n",
       "  <tbody>\n",
       "    <tr>\n",
       "      <th>0</th>\n",
       "      <td>A</td>\n",
       "      <td>T</td>\n",
       "      <td>Vertical</td>\n",
       "      <td>11</td>\n",
       "      <td>Voice crossing</td>\n",
       "      <td>A: C#4 is lower than T: E4</td>\n",
       "    </tr>\n",
       "    <tr>\n",
       "      <th>1</th>\n",
       "      <td>A</td>\n",
       "      <td>T</td>\n",
       "      <td>Vertical</td>\n",
       "      <td>12</td>\n",
       "      <td>Voice crossing</td>\n",
       "      <td>A: D4 is lower than T: F#4</td>\n",
       "    </tr>\n",
       "    <tr>\n",
       "      <th>2</th>\n",
       "      <td>A</td>\n",
       "      <td>T</td>\n",
       "      <td>Vertical</td>\n",
       "      <td>13</td>\n",
       "      <td>Voice crossing</td>\n",
       "      <td>A: E4 is lower than T: G#4</td>\n",
       "    </tr>\n",
       "    <tr>\n",
       "      <th>3</th>\n",
       "      <td>A</td>\n",
       "      <td>T</td>\n",
       "      <td>Vertical</td>\n",
       "      <td>14</td>\n",
       "      <td>Voice crossing</td>\n",
       "      <td>A: A3 is lower than T: E4</td>\n",
       "    </tr>\n",
       "  </tbody>\n",
       "</table>\n",
       "</div>"
      ],
      "text/plain": [
       "  Voice 1 Voice 2 Place type Place      Wrong type                      Remark\n",
       "0       A       T   Vertical    11  Voice crossing  A: C#4 is lower than T: E4\n",
       "1       A       T   Vertical    12  Voice crossing  A: D4 is lower than T: F#4\n",
       "2       A       T   Vertical    13  Voice crossing  A: E4 is lower than T: G#4\n",
       "3       A       T   Vertical    14  Voice crossing   A: A3 is lower than T: E4"
      ]
     },
     "execution_count": 27,
     "metadata": {},
     "output_type": "execute_result"
    }
   ],
   "source": [
    "voice_crossing_detector"
   ]
  },
  {
   "cell_type": "markdown",
   "metadata": {},
   "source": [
    "### 越位 (Overlapping)"
   ]
  },
  {
   "cell_type": "code",
   "execution_count": 28,
   "metadata": {},
   "outputs": [],
   "source": [
    "def overlapping_detection(df, voice_1, voice_2): \n",
    "    '''voice_1 is upper voice, voice_2 is lower voice'''\n",
    "    \n",
    "    overlapping_detector = []\n",
    "\n",
    "    for i in df.index[:-1]:\n",
    "            horizontal_interval_voice_1 = m21.interval.Interval(noteStart=m21.note.Note(nameWithOctave=df[voice_1][i]),\n",
    "                                        noteEnd=m21.note.Note(nameWithOctave=df[voice_1][i+1]))\n",
    "            horizontal_interval_voice_2 = m21.interval.Interval(noteStart=m21.note.Note(nameWithOctave=df[voice_2][i]),\n",
    "                                        noteEnd=m21.note.Note(nameWithOctave=df[voice_2][i+1]))\n",
    "\n",
    "            # do two voices go same direction?\n",
    "            if horizontal_interval_voice_1.direction.name==horizontal_interval_voice_2.direction.name:\n",
    "                if (horizontal_interval_voice_1.direction.value>0) or (horizontal_interval_voice_2.direction>0):    # 上行\n",
    "                    expected_higher_note = m21.note.Note(df[voice_1][i])\n",
    "                    expected_lower_note = m21.note.Note(df[voice_2][i+1])\n",
    "                    interval = m21.interval.Interval(noteStart=expected_lower_note, noteEnd=expected_higher_note)\n",
    "                    if interval.direction.value < 0:\n",
    "                        overlapping_detector.append(pd.Series({\n",
    "                            'Voice 1': voice_1,\n",
    "                            'Voice 2': voice_2,\n",
    "                            'Place type': 'Horizontal',\n",
    "                            'Place': (i, i+1),\n",
    "                            'Wrong type': 'Overlapping',\n",
    "                            'Remark': f\"{voice_2}: {expected_lower_note.nameWithOctave} at {i+1} is higher than {voice_1}: {expected_higher_note.nameWithOctave} at {i}\"\n",
    "                        }))\n",
    "\n",
    "                elif (horizontal_interval_voice_1.direction.value>0) or (horizontal_interval_voice_2.direction>0):  # 下行\n",
    "                    expected_higher_note = m21.note.Note(df[voice_1][i+1])\n",
    "                    expected_lower_note = m21.note.Note(df[voice_2][i])\n",
    "                    interval = m21.interval.Interval(noteStart=expected_lower_note, noteEnd=expected_higher_note)\n",
    "                    if interval.direction.value < 0:\n",
    "                        overlapping_detector.append(pd.Series({\n",
    "                            'Voice 1': voice_1,\n",
    "                            'Voice 2': voice_2,\n",
    "                            'Place type': 'Horizontal',\n",
    "                            'Place': (i, i+1),\n",
    "                            'Wrong type': 'Overlapping',\n",
    "                            'Remark': f\"{voice_1}: {expected_higher_note.nameWithOctave} at {i+1} is lower than {voice_2}: {expected_lower_note.nameWithOctave} at {i}\"\n",
    "                        }))\n",
    "                else:  # 有一聲部沒有移動. 如果越位, 必定交越, 所以不用檢查.\n",
    "                    continue\n",
    "\n",
    "    if overlapping_detector:\n",
    "        return pd.concat(overlapping_detector, axis=1).T"
   ]
  },
  {
   "cell_type": "code",
   "execution_count": 29,
   "metadata": {
    "scrolled": true
   },
   "outputs": [],
   "source": [
    "overlapping_detector = []\n",
    "for v, voice_1 in enumerate(VOICES[:-1]):\n",
    "    voice_2 = VOICES[v+1]\n",
    "    overlapping_detector.append(overlapping_detection(df_score, voice_1, voice_2))\n",
    "\n",
    "if overlapping_detector:\n",
    "    overlapping_detector = pd.concat(overlapping_detector).reset_index(drop=True)"
   ]
  },
  {
   "cell_type": "code",
   "execution_count": 30,
   "metadata": {},
   "outputs": [
    {
     "data": {
      "text/html": [
       "<div>\n",
       "<style scoped>\n",
       "    .dataframe tbody tr th:only-of-type {\n",
       "        vertical-align: middle;\n",
       "    }\n",
       "\n",
       "    .dataframe tbody tr th {\n",
       "        vertical-align: top;\n",
       "    }\n",
       "\n",
       "    .dataframe thead th {\n",
       "        text-align: right;\n",
       "    }\n",
       "</style>\n",
       "<table border=\"1\" class=\"dataframe\">\n",
       "  <thead>\n",
       "    <tr style=\"text-align: right;\">\n",
       "      <th></th>\n",
       "      <th>Voice 1</th>\n",
       "      <th>Voice 2</th>\n",
       "      <th>Place type</th>\n",
       "      <th>Place</th>\n",
       "      <th>Wrong type</th>\n",
       "      <th>Remark</th>\n",
       "    </tr>\n",
       "  </thead>\n",
       "  <tbody>\n",
       "    <tr>\n",
       "      <th>0</th>\n",
       "      <td>S</td>\n",
       "      <td>A</td>\n",
       "      <td>Horizontal</td>\n",
       "      <td>(5, 6)</td>\n",
       "      <td>Overlapping</td>\n",
       "      <td>A: B4 at 6 is higher than S: G#4 at 5</td>\n",
       "    </tr>\n",
       "    <tr>\n",
       "      <th>1</th>\n",
       "      <td>A</td>\n",
       "      <td>T</td>\n",
       "      <td>Horizontal</td>\n",
       "      <td>(4, 5)</td>\n",
       "      <td>Overlapping</td>\n",
       "      <td>T: D4 at 5 is higher than A: C#4 at 4</td>\n",
       "    </tr>\n",
       "    <tr>\n",
       "      <th>2</th>\n",
       "      <td>A</td>\n",
       "      <td>T</td>\n",
       "      <td>Horizontal</td>\n",
       "      <td>(11, 12)</td>\n",
       "      <td>Overlapping</td>\n",
       "      <td>T: F#4 at 12 is higher than A: C#4 at 11</td>\n",
       "    </tr>\n",
       "    <tr>\n",
       "      <th>3</th>\n",
       "      <td>A</td>\n",
       "      <td>T</td>\n",
       "      <td>Horizontal</td>\n",
       "      <td>(12, 13)</td>\n",
       "      <td>Overlapping</td>\n",
       "      <td>T: G#4 at 13 is higher than A: D4 at 12</td>\n",
       "    </tr>\n",
       "  </tbody>\n",
       "</table>\n",
       "</div>"
      ],
      "text/plain": [
       "  Voice 1 Voice 2  Place type     Place   Wrong type  \\\n",
       "0       S       A  Horizontal    (5, 6)  Overlapping   \n",
       "1       A       T  Horizontal    (4, 5)  Overlapping   \n",
       "2       A       T  Horizontal  (11, 12)  Overlapping   \n",
       "3       A       T  Horizontal  (12, 13)  Overlapping   \n",
       "\n",
       "                                     Remark  \n",
       "0     A: B4 at 6 is higher than S: G#4 at 5  \n",
       "1     T: D4 at 5 is higher than A: C#4 at 4  \n",
       "2  T: F#4 at 12 is higher than A: C#4 at 11  \n",
       "3   T: G#4 at 13 is higher than A: D4 at 12  "
      ]
     },
     "execution_count": 30,
     "metadata": {},
     "output_type": "execute_result"
    }
   ],
   "source": [
    "overlapping_detector"
   ]
  },
  {
   "cell_type": "markdown",
   "metadata": {},
   "source": [
    "# 2. 旋律方面"
   ]
  },
  {
   "cell_type": "markdown",
   "metadata": {},
   "source": [
    "### 單一聲部橫向進行不可有增減音程, A4,d5 除外"
   ]
  },
  {
   "cell_type": "code",
   "execution_count": 38,
   "metadata": {},
   "outputs": [],
   "source": [
    "def melody_interval_detection(VOICES, df):\n",
    "    melody_interval_detector = []\n",
    "\n",
    "    for v in VOICES:\n",
    "        for idx in df.index[:-1]:\n",
    "            horizontal_interval =  m21.interval.Interval(noteStart=m21.note.Note(nameWithOctave=df[v][idx]),\n",
    "                                                         noteEnd=m21.note.Note(nameWithOctave=df[v][idx+1]))\n",
    "\n",
    "            if horizontal_interval.diatonic.specifierAbbreviation == 'A':\n",
    "                if abs(horizontal_interval.generic.directed) != 4:\n",
    "                    melody_interval_detector.append(pd.Series({\n",
    "                        'Voice 1': i,\n",
    "                        'Voice 2': None,\n",
    "                        'Place type': 'Horizontal',\n",
    "                        'Place': (idx,idx+1),\n",
    "                        'Wrong type': 'Melody interval',\n",
    "                        'Remark': f\"Interval {horizontal_interval.niceName}\",\n",
    "                        'Remark 2': f\"Interval (in simpleName) {simple_interval(horizontal_interval)}\"\n",
    "                    }))\n",
    "\n",
    "            elif horizontal_interval.diatonic.specifierAbbreviation == 'd':\n",
    "                if abs(horizontal_interval.generic.directed) != 5:\n",
    "                    melody_interval_detector.append(pd.Series({\n",
    "                        'Voice 1': i,\n",
    "                        'Voice 2': None,\n",
    "                        'Place type': 'Horizontal',\n",
    "                        'Place': (idx,idx+1),\n",
    "                        'Wrong type': 'Melody interval',\n",
    "                        'Remark': f\"Interval {horizontal_interval.niceName}\",\n",
    "                        'Remark 2': f\"Interval (in simpleName) {simple_interval(horizontal_interval)}\"\n",
    "                    }))\n",
    "            \n",
    "    if melody_interval_detector:\n",
    "        return pd.concat(melody_interval_detector, axis=1).T"
   ]
  },
  {
   "cell_type": "code",
   "execution_count": 39,
   "metadata": {},
   "outputs": [],
   "source": [
    "melody_interval_detector = melody_interval_detection(VOICES, df_score)"
   ]
  },
  {
   "cell_type": "code",
   "execution_count": 40,
   "metadata": {},
   "outputs": [],
   "source": [
    "melody_interval_detector"
   ]
  },
  {
   "cell_type": "markdown",
   "metadata": {},
   "source": [
    "### 大跳後需反向級進或小跳"
   ]
  },
  {
   "cell_type": "code",
   "execution_count": 49,
   "metadata": {},
   "outputs": [],
   "source": [
    "def melody_jump_detection(VOICES, OUTTER_VOICES, INNER_VOICES, df):\n",
    "    jump_detector = []\n",
    "    for v in VOICES:\n",
    "        for idx in df.index[1:-1]:\n",
    "            horizontal_interval_1 =  m21.interval.Interval(noteStart=m21.note.Note(nameWithOctave=df[v][idx-1]),\n",
    "                                      noteEnd=m21.note.Note(nameWithOctave=df[v][idx])) \n",
    "            horizontal_interval_2 =  m21.interval.Interval(noteStart=m21.note.Note(nameWithOctave=df[v][idx]),\n",
    "                                    noteEnd=m21.note.Note(nameWithOctave=df[v][idx+1]))\n",
    "\n",
    "            if v in OUTTER_VOICES:\n",
    "                if abs(horizontal_interval_1.generic.directed) < 6:  # 不是大跳\n",
    "                      continue\n",
    "                elif abs(horizontal_interval_1.generic.directed)<=8 and abs(horizontal_interval_1.generic.directed) >= 6:\n",
    "                    if horizontal_interval_1.direction.name != horizontal_interval_2.direction.name:  # 反向\n",
    "                        if abs(horizontal_interval_2.generic.directed) >= 6:  # 反向後沒有小跳\n",
    "                            jump_detector.append(pd.Series({\n",
    "                                'Voice 1': v,\n",
    "                                'Voice 2': None,\n",
    "                                'Place type': 'Horizontal',\n",
    "                                'Place': (idx,idx+1),\n",
    "                                'Wrong type': 'Melody_violate_error_jump',\n",
    "                                'Remark': f\"Interval {horizontal_interval_2.niceName}\",\n",
    "                                'Remark 2': f\"Interval (in simpleName) {simple_interval(horizontal_interval_2)}\"\n",
    "                            }))\n",
    "                    else:  # 沒有反向\n",
    "                        jump_detector.append(pd.Series({\n",
    "                            'Voice 1': v,\n",
    "                            'Voice 2': None,\n",
    "                            'Place type': 'Horizontal',\n",
    "                            'Place': (idx,idx+1),\n",
    "                            'Wrong type': 'Melody_violate_error_direction',\n",
    "                            'Remark': f\"Interval {horizontal_interval_2.niceName}\",\n",
    "                            'Remark 2': f\"Interval (in simpleName) {simple_interval(horizontal_interval_2)}\"\n",
    "                        }))\n",
    "                else:  # 跳超過八度\n",
    "                    jump_detector.append(pd.Series({\n",
    "                        'Voice 1': v,\n",
    "                        'Voice 2': None,\n",
    "                        'Place type': 'Horizontal',\n",
    "                        'Place': (idx-1,idx),\n",
    "                        'Wrong type': 'Melody_violate_big_jump',\n",
    "                        'Remark': f\"Interval {horizontal_interval_1.niceName}\",\n",
    "                        'Remark 2': f\"Interval (in simpleName) {simple_interval(horizontal_interval_1)}\"\n",
    "                    }))\n",
    "                    \n",
    "            elif v in INNER_VOICES:\n",
    "                if abs(horizontal_interval_1.generic.directed) > 5:  # 內聲部不可跳超過5度\n",
    "                    jump_detector.append(pd.Series({\n",
    "                        'Voice 1': v,\n",
    "                        'Voice 2': None,\n",
    "                        'Place type': 'Horizontal',\n",
    "                        'Place': (idx-1,idx),\n",
    "                        'Wrong type': 'Melody_violate_big_jump_P',\n",
    "                        'Remark': f\"Interval {horizontal_interval_1.niceName}\",\n",
    "                        'Remark 2': f\"Interval (in simpleName) {simple_interval(horizontal_interval_1)}\"\n",
    "                    }))\n",
    "                    \n",
    "    if jump_detector:\n",
    "        return pd.concat(jump_detector, axis=1).T\n"
   ]
  },
  {
   "cell_type": "code",
   "execution_count": null,
   "metadata": {},
   "outputs": [],
   "source": [
    "OUTTER_VOICES = ['S', 'B']\n",
    "INNER_VOICES = ['A', 'T']"
   ]
  },
  {
   "cell_type": "code",
   "execution_count": 50,
   "metadata": {},
   "outputs": [],
   "source": [
    "jump_detector = melody_jump_detection(VOICES, OUTTER_VOICES, INNER_VOICES, df_score)"
   ]
  },
  {
   "cell_type": "code",
   "execution_count": 51,
   "metadata": {},
   "outputs": [
    {
     "data": {
      "text/html": [
       "<div>\n",
       "<style scoped>\n",
       "    .dataframe tbody tr th:only-of-type {\n",
       "        vertical-align: middle;\n",
       "    }\n",
       "\n",
       "    .dataframe tbody tr th {\n",
       "        vertical-align: top;\n",
       "    }\n",
       "\n",
       "    .dataframe thead th {\n",
       "        text-align: right;\n",
       "    }\n",
       "</style>\n",
       "<table border=\"1\" class=\"dataframe\">\n",
       "  <thead>\n",
       "    <tr style=\"text-align: right;\">\n",
       "      <th></th>\n",
       "      <th>Voice 1</th>\n",
       "      <th>Voice 2</th>\n",
       "      <th>Place type</th>\n",
       "      <th>Place</th>\n",
       "      <th>Wrong type</th>\n",
       "      <th>Remark</th>\n",
       "      <th>Remark 2</th>\n",
       "    </tr>\n",
       "  </thead>\n",
       "  <tbody>\n",
       "    <tr>\n",
       "      <th>0</th>\n",
       "      <td>A</td>\n",
       "      <td>None</td>\n",
       "      <td>Horizontal</td>\n",
       "      <td>(5, 6)</td>\n",
       "      <td>Melody_violate_big_jump_P</td>\n",
       "      <td>Interval Major Sixth</td>\n",
       "      <td>Interval (in simpleName) M6</td>\n",
       "    </tr>\n",
       "    <tr>\n",
       "      <th>1</th>\n",
       "      <td>T</td>\n",
       "      <td>None</td>\n",
       "      <td>Horizontal</td>\n",
       "      <td>(10, 11)</td>\n",
       "      <td>Melody_violate_big_jump_P</td>\n",
       "      <td>Interval Minor Sixth</td>\n",
       "      <td>Interval (in simpleName) m6</td>\n",
       "    </tr>\n",
       "  </tbody>\n",
       "</table>\n",
       "</div>"
      ],
      "text/plain": [
       "  Voice 1 Voice 2  Place type     Place                 Wrong type  \\\n",
       "0       A    None  Horizontal    (5, 6)  Melody_violate_big_jump_P   \n",
       "1       T    None  Horizontal  (10, 11)  Melody_violate_big_jump_P   \n",
       "\n",
       "                 Remark                     Remark 2  \n",
       "0  Interval Major Sixth  Interval (in simpleName) M6  \n",
       "1  Interval Minor Sixth  Interval (in simpleName) m6  "
      ]
     },
     "execution_count": 51,
     "metadata": {},
     "output_type": "execute_result"
    }
   ],
   "source": [
    "jump_detector"
   ]
  },
  {
   "cell_type": "markdown",
   "metadata": {},
   "source": [
    "# 3. 和聲方面"
   ]
  },
  {
   "cell_type": "code",
   "execution_count": null,
   "metadata": {},
   "outputs": [],
   "source": []
  },
  {
   "cell_type": "markdown",
   "metadata": {},
   "source": [
    "# 4. 平行與隱伏"
   ]
  },
  {
   "cell_type": "code",
   "execution_count": 31,
   "metadata": {},
   "outputs": [],
   "source": [
    "def parallel_detection(df, voice_1, voice_2):\n",
    "    parallel_detector = []\n",
    "    interval_should_avoid = ['P1', 'P5']  # simpleName, P8==P1\n",
    "    \n",
    "    for i in df.index[:-1]:\n",
    "        vertical_interval_1 =  m21.interval.Interval(noteStart=m21.note.Note(nameWithOctave=df[voice_1][i]),\n",
    "                                 noteEnd=m21.note.Note(nameWithOctave=df[voice_2][i]))   \n",
    "        vertical_interval_2 =  m21.interval.Interval(noteStart=m21.note.Note(nameWithOctave=df[voice_1][i+1]),\n",
    "                                 noteEnd=m21.note.Note(nameWithOctave=df[voice_2][i+1])) \n",
    "        horizontal_interval_voice_1 = m21.interval.Interval(noteStart=m21.note.Note(nameWithOctave=df[voice_1][i]),\n",
    "                                    noteEnd=m21.note.Note(nameWithOctave=df[voice_1][i+1]))\n",
    "        horizontal_interval_voice_2 = m21.interval.Interval(noteStart=m21.note.Note(nameWithOctave=df[voice_2][i]),\n",
    "                                    noteEnd=m21.note.Note(nameWithOctave=df[voice_2][i+1]))\n",
    "        \n",
    "        # do two voices go same direction?\n",
    "        if horizontal_interval_voice_1.direction.name!=horizontal_interval_voice_2.direction.name:\n",
    "            continue\n",
    "        # are they consecutive intervals?\n",
    "        if vertical_interval_1.directedName!=vertical_interval_2.directedName:\n",
    "            continue\n",
    "        # are the consecutive intervals P1, P5 (P8,...)?\n",
    "        if vertical_interval_1.simpleName in interval_should_avoid:\n",
    "            parallel_detector.append(pd.Series({\n",
    "                'Voice 1': voice_1,\n",
    "                'Voice 2': voice_2,\n",
    "                'Place type': 'Horizontal',\n",
    "                'Place': (i,i+1),\n",
    "                'Wrong type': 'Parallel',\n",
    "                'Remark': f\"Interval {vertical_interval_1.niceName}\",\n",
    "                'Remark 2': f\"Interval (in simpleName) {simple_interval(vertical_interval_1)}\"\n",
    "            }))\n",
    "    if parallel_detector:\n",
    "        return pd.concat(parallel_detector, axis=1).T\n",
    "    \n",
    "def hidden_detection(df, soprano, bass):\n",
    "    hidden_detector = []\n",
    "    interval_should_avoid = ['P1', 'P5']  # simpleName, P8==P1\n",
    "    \n",
    "    for i in df.index[:-1]:\n",
    "        vertical_interval_1 =  m21.interval.Interval(noteStart=m21.note.Note(nameWithOctave=df[bass][i]),\n",
    "                                noteEnd=m21.note.Note(nameWithOctave=df[soprano][i])) \n",
    "        vertical_interval_2 =  m21.interval.Interval(noteStart=m21.note.Note(nameWithOctave=df[bass][i+1]),\n",
    "                                 noteEnd=m21.note.Note(nameWithOctave=df[soprano][i+1])) \n",
    "        horizontal_interval_bass = m21.interval.Interval(noteStart=m21.note.Note(nameWithOctave=df[bass][i]),\n",
    "                                   noteEnd=m21.note.Note(nameWithOctave=df[bass][i+1]))\n",
    "        horizontal_interval_soprano = m21.interval.Interval(noteStart=m21.note.Note(nameWithOctave=df[soprano][i]),\n",
    "                                   noteEnd=m21.note.Note(nameWithOctave=df[soprano][i+1]))\n",
    "        # do two voices go same direction?\n",
    "        if horizontal_interval_bass.direction.name!=horizontal_interval_soprano.direction.name:\n",
    "            continue\n",
    "        # are they consecutive intervals?\n",
    "        if vertical_interval_1.directedName==vertical_interval_2.directedName:\n",
    "            continue\n",
    "        # does soprano go stepwise?\n",
    "        if horizontal_interval_soprano.isStep:\n",
    "            continue\n",
    "        # do the voices go into a interval should avoid?\n",
    "        if vertical_interval_2.simpleName in interval_should_avoid:\n",
    "            hidden_detector.append(pd.Series({\n",
    "            'Voice 1': soprano,\n",
    "            'Voice 2': bass,\n",
    "            'Place type': 'Horizontal',\n",
    "            'Place': (i,i+1),\n",
    "            'Wrong type': 'Hidden',\n",
    "            'Remark': f\"Interval {vertical_interval_2.niceName}\",\n",
    "            'Remark 2': f\"Interval (in simpleName) {simple_interval(vertical_interval_2)}\"\n",
    "        }))\n",
    "    if hidden_detector:\n",
    "        return pd.concat(hidden_detector, axis=1).T\n"
   ]
  },
  {
   "cell_type": "code",
   "execution_count": 32,
   "metadata": {},
   "outputs": [],
   "source": [
    "VOICES = ['S', 'A', 'T', 'B']\n",
    "\n",
    "parallel_and_hidden = []\n",
    "\n",
    "# parallel intervals detection\n",
    "for voice_1, voice_2 in list(combinations(VOICES, 2)):\n",
    "    parallel_and_hidden.append(parallel_detection(df_score, voice_1, voice_2))\n",
    "\n",
    "# hidden intervals detection: we only concern hidden intervals between soprano and bass\n",
    "parallel_and_hidden.append(hidden_detection(df_score, 'S', 'B'))\n",
    "\n",
    "if parallel_and_hidden:\n",
    "    parallel_and_hidden = pd.concat(parallel_and_hidden).reset_index(drop=True)"
   ]
  },
  {
   "cell_type": "code",
   "execution_count": 33,
   "metadata": {},
   "outputs": [
    {
     "data": {
      "text/html": [
       "<div>\n",
       "<style scoped>\n",
       "    .dataframe tbody tr th:only-of-type {\n",
       "        vertical-align: middle;\n",
       "    }\n",
       "\n",
       "    .dataframe tbody tr th {\n",
       "        vertical-align: top;\n",
       "    }\n",
       "\n",
       "    .dataframe thead th {\n",
       "        text-align: right;\n",
       "    }\n",
       "</style>\n",
       "<table border=\"1\" class=\"dataframe\">\n",
       "  <thead>\n",
       "    <tr style=\"text-align: right;\">\n",
       "      <th></th>\n",
       "      <th>Voice 1</th>\n",
       "      <th>Voice 2</th>\n",
       "      <th>Place type</th>\n",
       "      <th>Place</th>\n",
       "      <th>Wrong type</th>\n",
       "      <th>Remark</th>\n",
       "      <th>Remark 2</th>\n",
       "    </tr>\n",
       "  </thead>\n",
       "  <tbody>\n",
       "    <tr>\n",
       "      <th>0</th>\n",
       "      <td>S</td>\n",
       "      <td>B</td>\n",
       "      <td>Horizontal</td>\n",
       "      <td>(0, 1)</td>\n",
       "      <td>Parallel</td>\n",
       "      <td>Interval Perfect Octave</td>\n",
       "      <td>Interval (in simpleName) P8</td>\n",
       "    </tr>\n",
       "    <tr>\n",
       "      <th>1</th>\n",
       "      <td>S</td>\n",
       "      <td>B</td>\n",
       "      <td>Horizontal</td>\n",
       "      <td>(2, 3)</td>\n",
       "      <td>Parallel</td>\n",
       "      <td>Interval Perfect Twelfth</td>\n",
       "      <td>Interval (in simpleName) P5</td>\n",
       "    </tr>\n",
       "    <tr>\n",
       "      <th>2</th>\n",
       "      <td>S</td>\n",
       "      <td>B</td>\n",
       "      <td>Horizontal</td>\n",
       "      <td>(9, 10)</td>\n",
       "      <td>Parallel</td>\n",
       "      <td>Interval Perfect Double-octave</td>\n",
       "      <td>Interval (in simpleName) P8</td>\n",
       "    </tr>\n",
       "    <tr>\n",
       "      <th>3</th>\n",
       "      <td>A</td>\n",
       "      <td>T</td>\n",
       "      <td>Horizontal</td>\n",
       "      <td>(4, 5)</td>\n",
       "      <td>Parallel</td>\n",
       "      <td>Interval Perfect Unison</td>\n",
       "      <td>Interval (in simpleName) P1</td>\n",
       "    </tr>\n",
       "    <tr>\n",
       "      <th>4</th>\n",
       "      <td>A</td>\n",
       "      <td>T</td>\n",
       "      <td>Horizontal</td>\n",
       "      <td>(8, 9)</td>\n",
       "      <td>Parallel</td>\n",
       "      <td>Interval Perfect Fifth</td>\n",
       "      <td>Interval (in simpleName) P5</td>\n",
       "    </tr>\n",
       "    <tr>\n",
       "      <th>5</th>\n",
       "      <td>A</td>\n",
       "      <td>B</td>\n",
       "      <td>Horizontal</td>\n",
       "      <td>(6, 7)</td>\n",
       "      <td>Parallel</td>\n",
       "      <td>Interval Perfect Twelfth</td>\n",
       "      <td>Interval (in simpleName) P5</td>\n",
       "    </tr>\n",
       "    <tr>\n",
       "      <th>6</th>\n",
       "      <td>A</td>\n",
       "      <td>B</td>\n",
       "      <td>Horizontal</td>\n",
       "      <td>(7, 8)</td>\n",
       "      <td>Parallel</td>\n",
       "      <td>Interval Perfect Twelfth</td>\n",
       "      <td>Interval (in simpleName) P5</td>\n",
       "    </tr>\n",
       "    <tr>\n",
       "      <th>7</th>\n",
       "      <td>A</td>\n",
       "      <td>B</td>\n",
       "      <td>Horizontal</td>\n",
       "      <td>(13, 14)</td>\n",
       "      <td>Parallel</td>\n",
       "      <td>Interval Perfect Octave</td>\n",
       "      <td>Interval (in simpleName) P8</td>\n",
       "    </tr>\n",
       "    <tr>\n",
       "      <th>8</th>\n",
       "      <td>T</td>\n",
       "      <td>B</td>\n",
       "      <td>Horizontal</td>\n",
       "      <td>(11, 12)</td>\n",
       "      <td>Parallel</td>\n",
       "      <td>Interval Perfect Twelfth</td>\n",
       "      <td>Interval (in simpleName) P5</td>\n",
       "    </tr>\n",
       "    <tr>\n",
       "      <th>9</th>\n",
       "      <td>S</td>\n",
       "      <td>B</td>\n",
       "      <td>Horizontal</td>\n",
       "      <td>(3, 4)</td>\n",
       "      <td>Hidden</td>\n",
       "      <td>Interval Perfect Double-octave</td>\n",
       "      <td>Interval (in simpleName) P8</td>\n",
       "    </tr>\n",
       "    <tr>\n",
       "      <th>10</th>\n",
       "      <td>S</td>\n",
       "      <td>B</td>\n",
       "      <td>Horizontal</td>\n",
       "      <td>(5, 6)</td>\n",
       "      <td>Hidden</td>\n",
       "      <td>Interval Perfect Double-octave</td>\n",
       "      <td>Interval (in simpleName) P8</td>\n",
       "    </tr>\n",
       "  </tbody>\n",
       "</table>\n",
       "</div>"
      ],
      "text/plain": [
       "   Voice 1 Voice 2  Place type     Place Wrong type  \\\n",
       "0        S       B  Horizontal    (0, 1)   Parallel   \n",
       "1        S       B  Horizontal    (2, 3)   Parallel   \n",
       "2        S       B  Horizontal   (9, 10)   Parallel   \n",
       "3        A       T  Horizontal    (4, 5)   Parallel   \n",
       "4        A       T  Horizontal    (8, 9)   Parallel   \n",
       "5        A       B  Horizontal    (6, 7)   Parallel   \n",
       "6        A       B  Horizontal    (7, 8)   Parallel   \n",
       "7        A       B  Horizontal  (13, 14)   Parallel   \n",
       "8        T       B  Horizontal  (11, 12)   Parallel   \n",
       "9        S       B  Horizontal    (3, 4)     Hidden   \n",
       "10       S       B  Horizontal    (5, 6)     Hidden   \n",
       "\n",
       "                            Remark                     Remark 2  \n",
       "0          Interval Perfect Octave  Interval (in simpleName) P8  \n",
       "1         Interval Perfect Twelfth  Interval (in simpleName) P5  \n",
       "2   Interval Perfect Double-octave  Interval (in simpleName) P8  \n",
       "3          Interval Perfect Unison  Interval (in simpleName) P1  \n",
       "4           Interval Perfect Fifth  Interval (in simpleName) P5  \n",
       "5         Interval Perfect Twelfth  Interval (in simpleName) P5  \n",
       "6         Interval Perfect Twelfth  Interval (in simpleName) P5  \n",
       "7          Interval Perfect Octave  Interval (in simpleName) P8  \n",
       "8         Interval Perfect Twelfth  Interval (in simpleName) P5  \n",
       "9   Interval Perfect Double-octave  Interval (in simpleName) P8  \n",
       "10  Interval Perfect Double-octave  Interval (in simpleName) P8  "
      ]
     },
     "execution_count": 33,
     "metadata": {},
     "output_type": "execute_result"
    }
   ],
   "source": [
    "# 檢查結果\n",
    "parallel_and_hidden"
   ]
  },
  {
   "cell_type": "markdown",
   "metadata": {},
   "source": [
    "# Backup"
   ]
  },
  {
   "cell_type": "markdown",
   "metadata": {},
   "source": [
    "### 4. 平行與隱伏\n",
    "* 隱伏的檢查改成通用形式\n",
    "* 當四部和聲時, 再加入 \"僅需檢查 S,B 且 S 級進時允許隱伏\""
   ]
  },
  {
   "cell_type": "markdown",
   "metadata": {},
   "source": [
    "# pseudo code"
   ]
  },
  {
   "cell_type": "raw",
   "metadata": {},
   "source": [
    "# pseudo code\n",
    "已知 調號\n",
    "if 題目有提供大調 or 小調:\n",
    "    try:\n",
    "        讀取調性\n",
    "    if error:\n",
    "        表示 question_mode 變數有問題\n",
    "        從調號和內容推測\n",
    "        \n",
    "else: (如果題目沒有講明是大調還是小調)\n",
    "    從調號推測 (只有兩種可能)\n",
    "    get possible_key_major\n",
    "    get possible_key_minor\n",
    "    get minor_leading_tone\n",
    "    \n",
    "    if 題目有提供高音題 or 低音題:\n",
    "        if 低音題:\n",
    "            因為必結束在一級原位, 直接看最後一個音(ending_note)即可\n",
    "            if ending_note 是大調音級1: \n",
    "                是大調\n",
    "            elif ending_note 是小調音級1: \n",
    "                是小調\n",
    "            else: \n",
    "                從寫作內容判斷調性(看最後一個和弦)\n",
    "                    \n",
    "        elif 高音題:\n",
    "            雖然結束在一級原位, 但 soprano不一定停在音級1\n",
    "            if ending_note 是大調音級5: \n",
    "                是大調\n",
    "            elif ending_note 是小調音級1:\n",
    "                是小調\n",
    "            else:\n",
    "                可能是 大調音級1,3 或小調音級 3,5\n",
    "                if soprano旋律中出現小調導音(升高):\n",
    "                    是小調\n",
    "                else:\n",
    "                    從寫作內容判斷調性: 看最後一個和弦\n",
    "\n",
    "        else: \n",
    "            表示 question_type 讀取異常 (只允許 np.nan, 'S', 'B')\n",
    "            從寫作內容判斷調性(看最後一個和弦)\n",
    "    else:\n",
    "        從寫作內容判斷調性(看最後一個和弦)"
   ]
  },
  {
   "cell_type": "markdown",
   "metadata": {},
   "source": [
    "# draft"
   ]
  },
  {
   "cell_type": "code",
   "execution_count": 83,
   "metadata": {},
   "outputs": [],
   "source": [
    "# draft\n",
    "\n",
    "if pd.notna(question_mode):  # 題目有提供大調或小調\n",
    "    try:\n",
    "        key = key_sign.asKey(mode=question_mode)\n",
    "    except Error as err:\n",
    "        sys.stderr.write(f\"something wrong with question_mode {question_mode}: {err}\")\n",
    "        # 需要從調號推測\n",
    "else:\n",
    "    # 從調號推測\n",
    "    possible_key_major = key_sign.asKey()\n",
    "    #major_leading_tone = possible_key_major.pitchFromDegree(7).name\n",
    "    possible_key_minor = key_sign.asKey(mode='minor')  # natural form\n",
    "    possible_key_minor.abstract = m21.scale.AbstractHarmonicMinorScale()  # turn to harmonic scale\n",
    "    minor_leading_tone = possible_key_minor.pitchesFromScaleDegrees([7])[0].name  # 導音\n",
    "    print(f\"possible_key_major: {possible_key_major}, major_leading_tone: {major_leading_tone}\")  \n",
    "    print(f\"possible_key_minor: {possible_key_minor}, minor_leading_tone: {minor_leading_tone}\")\n",
    "    \n",
    "    if pd.notna(question_type):  # 題目有提供高音題 or 低音題\n",
    "        if question_type=='B':   # 低音題: 因為必結束在一級原位, 直接看最後一個音即可\n",
    "            ending_note = m21.note.Note(df_score.iloc[-1,:][question_type]).name\n",
    "            if ending_note==possible_key_major.tonic:\n",
    "                key = possible_key_major\n",
    "            elif ending_note==possible_key_minor.tonic:\n",
    "                key = possible_key_minor\n",
    "            else:\n",
    "                sys.stderr.write(f\"something wrong with question_type {question_type} and the ending note {ending_note}\")\n",
    "        \n",
    "        elif question_type=='S': # 高音題: 不一定在音級1\n",
    "            ending_note = m21.note.Note(df_score.iloc[-1,:][question_type]).name\n",
    "            if ending_note==possible_key_major.pitchFromDegree(5).name:  # 大調 音級5\n",
    "                key = possible_key_major\n",
    "            elif ending_note==possible_key_minor.tonic:                  # 小調 音級1\n",
    "                key = possible_key_minor\n",
    "            else:                                                         # 大調 音級 1,3 == 小調音級 3,5\n",
    "                # 看 S 旋律中有沒有導音升高 -> 有: 小調, 沒有: 大調. 預設未知\n",
    "                key_detected = detect_key_by_melody(None, df_score, VOICES, minor_leading_tone, possible_key_minor)\n",
    "                # 看 最後一個和弦\n",
    "                if not key_detected:\n",
    "                    pass\n",
    "                pass\n",
    "        \n",
    "        else:  # question_type 讀取異常 (只允許 np.nan, 'S', 'B')\n",
    "            sys.stderr.write(f\"something wrong with question_type {question_type}\")\n",
    "            # 從寫作內容判斷調性\n",
    "        pass\n",
    "    \n",
    "    else:  # 從寫作內容判斷調性: 看最後一個和弦\n",
    "        ending_chord = m21.chord.Chord(df_score[VOICES].iloc[-1,:].values)  # end on tonic\n",
    "        possible_scale_degree_major = m21.roman.romanNumeralFromChord(ending_chord, possible_key_major).scaleDegree\n",
    "        possible_scale_degree_minor = m21.roman.romanNumeralFromChord(ending_chord, possible_key_minor).scaleDegree\n",
    "        if possible_scale_degree_major == 1:\n",
    "            key_detected = possible_key_major\n",
    "        elif possible_scale_degree_minor == 1:\n",
    "            key_detected = possible_key_minor\n",
    "        else:\n",
    "            sys.stderr.write(f\"something wrong with detecting key by matching key signature {key_sign} and the ending chord {ending_chord}\")\n",
    "            # e.g. C大調 4聲部都停在音級3\n",
    "            # 看旋律中有沒有導音升高 -> 有: 小調, 沒有: 大調. 預設大調\n",
    "            key_detected = detect_key_by_melody(possible_key_major, df_score, VOICES, minor_leading_tone, possible_key_minor)\n",
    "                \n",
    "        print(\"The key should be\", key_detected)\n",
    "        \n",
    "        if key_student==key_detected:\n",
    "            print('The student answers a correct key:', key_student)\n",
    "            key = key_student\n",
    "        else:\n",
    "            print(f'The student answers {key_student}, while key detected should be {key_detected}')\n",
    "            key = key_detected\n",
    "        pass"
   ]
  }
 ],
 "metadata": {
  "kernelspec": {
   "display_name": "Python 3",
   "language": "python",
   "name": "python3"
  },
  "language_info": {
   "codemirror_mode": {
    "name": "ipython",
    "version": 3
   },
   "file_extension": ".py",
   "mimetype": "text/x-python",
   "name": "python",
   "nbconvert_exporter": "python",
   "pygments_lexer": "ipython3",
   "version": "3.8.5"
  }
 },
 "nbformat": 4,
 "nbformat_minor": 4
}
