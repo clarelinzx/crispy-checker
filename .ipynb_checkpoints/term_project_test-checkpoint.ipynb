{
 "cells": [
  {
   "cell_type": "markdown",
   "metadata": {},
   "source": [
    "# import package"
   ]
  },
  {
   "cell_type": "code",
   "execution_count": 1,
   "metadata": {},
   "outputs": [],
   "source": [
    "import os\n",
    "import numpy as np\n",
    "import matplotlib.pyplot as plt\n",
    "import pandas as pd\n",
    "import librosa\n",
    "import librosa.display\n",
    "import pretty_midi\n",
    "import mir_eval"
   ]
  },
  {
   "cell_type": "code",
   "execution_count": 29,
   "metadata": {},
   "outputs": [
    {
     "name": "stderr",
     "output_type": "stream",
     "text": [
      "C:\\Users\\DALab\\anaconda3\\lib\\site-packages\\pretty_midi\\pretty_midi.py:97: RuntimeWarning: Tempo, Key or Time signature change events found on non-zero tracks.  This is not a valid type 0 or type 1 MIDI file.  Tempo, Key or Time Signature may be wrong.\n",
      "  warnings.warn(\n"
     ]
    }
   ],
   "source": [
    "path = './harmony_sample_midi/harmony_sample_1.mid'\n",
    "y = pretty_midi.PrettyMIDI(path)"
   ]
  },
  {
   "cell_type": "code",
   "execution_count": 30,
   "metadata": {},
   "outputs": [
    {
     "data": {
      "text/plain": [
       "(array([0.]), array([120.]))"
      ]
     },
     "execution_count": 30,
     "metadata": {},
     "output_type": "execute_result"
    }
   ],
   "source": [
    "y.get_tempo_changes()"
   ]
  },
  {
   "cell_type": "code",
   "execution_count": 31,
   "metadata": {},
   "outputs": [
    {
     "data": {
      "text/plain": [
       "[Instrument(program=52, is_drum=False, name=\"Soprano\u0000\"),\n",
       " Instrument(program=52, is_drum=False, name=\"Alto\u0000\"),\n",
       " Instrument(program=52, is_drum=False, name=\"Tenor\u0000\"),\n",
       " Instrument(program=52, is_drum=False, name=\"Bass\u0000\")]"
      ]
     },
     "execution_count": 31,
     "metadata": {},
     "output_type": "execute_result"
    }
   ],
   "source": [
    "y.instruments"
   ]
  },
  {
   "cell_type": "code",
   "execution_count": 32,
   "metadata": {},
   "outputs": [
    {
     "data": {
      "text/plain": [
       "<matplotlib.colorbar.Colorbar at 0x1fcadeb83a0>"
      ]
     },
     "execution_count": 32,
     "metadata": {},
     "output_type": "execute_result"
    },
    {
     "data": {
      "image/png": "[encoded data removed]",
      "text/plain": [
       "<Figure size 1080x360 with 2 Axes>"
      ]
     },
     "metadata": {
      "needs_background": "light"
     },
     "output_type": "display_data"
    }
   ],
   "source": [
    "chromagram = y.get_chroma()\n",
    "# chromagram\n",
    "fig = plt.figure(figsize=(15,5))\n",
    "img = librosa.display.specshow(chromagram, y_axis='chroma', x_axis='time')\n",
    "plt.title(\"Chromagram\")\n",
    "fig.colorbar(img)"
   ]
  },
  {
   "cell_type": "code",
   "execution_count": 27,
   "metadata": {},
   "outputs": [
    {
     "name": "stdout",
     "output_type": "stream",
     "text": [
      "MidiFile(type=1, ticks_per_beat=480, tracks=[\n",
      "  MidiTrack([\n",
      "    MetaMessage('track_name', name='Soprano\\x00', time=0),\n",
      "    MetaMessage('time_signature', numerator=3, denominator=4, clocks_per_click=24, notated_32nd_notes_per_beat=8, time=0),\n",
      "    MetaMessage('key_signature', key='A', time=0),\n",
      "    MetaMessage('set_tempo', tempo=500000, time=0),\n",
      "    Message('control_change', channel=0, control=121, value=0, time=0),\n",
      "    Message('program_change', channel=0, program=52, time=0),\n",
      "    Message('control_change', channel=0, control=7, value=100, time=0),\n",
      "    Message('control_change', channel=0, control=10, value=64, time=0),\n",
      "    Message('control_change', channel=0, control=91, value=0, time=0),\n",
      "    Message('control_change', channel=0, control=93, value=0, time=0),\n",
      "    MetaMessage('midi_port', port=0, time=0),\n",
      "    Message('note_on', channel=0, note=73, velocity=80, time=0),\n",
      "    Message('control_change', channel=0, control=2, value=80, time=0),\n",
      "    Message('note_on', channel=0, note=73, velocity=0, time=959),\n",
      "    Message('note_on', channel=0, note=69, velocity=80, time=1),\n",
      "    Message('control_change', channel=0, control=2, value=80, time=0),\n",
      "    Message('note_on', channel=0, note=69, velocity=0, time=479),\n",
      "    Message('note_on', channel=0, note=71, velocity=80, time=1),\n",
      "    Message('control_change', channel=0, control=2, value=80, time=0),\n",
      "    Message('note_on', channel=0, note=71, velocity=0, time=959),\n",
      "    Message('note_on', channel=0, note=71, velocity=80, time=1),\n",
      "    Message('control_change', channel=0, control=2, value=80, time=0),\n",
      "    Message('note_on', channel=0, note=71, velocity=0, time=479),\n",
      "    Message('note_on', channel=0, note=73, velocity=80, time=1),\n",
      "    Message('control_change', channel=0, control=2, value=80, time=0),\n",
      "    Message('note_on', channel=0, note=73, velocity=0, time=479),\n",
      "    Message('note_on', channel=0, note=69, velocity=80, time=1),\n",
      "    Message('control_change', channel=0, control=2, value=80, time=0),\n",
      "    Message('note_on', channel=0, note=69, velocity=0, time=479),\n",
      "    Message('note_on', channel=0, note=73, velocity=80, time=1),\n",
      "    Message('control_change', channel=0, control=2, value=80, time=0),\n",
      "    Message('note_on', channel=0, note=73, velocity=0, time=479),\n",
      "    Message('note_on', channel=0, note=71, velocity=80, time=1),\n",
      "    Message('control_change', channel=0, control=2, value=80, time=0),\n",
      "    Message('note_on', channel=0, note=71, velocity=0, time=1439),\n",
      "    Message('note_on', channel=0, note=73, velocity=80, time=1),\n",
      "    Message('control_change', channel=0, control=2, value=80, time=0),\n",
      "    Message('note_on', channel=0, note=73, velocity=0, time=959),\n",
      "    Message('note_on', channel=0, note=69, velocity=80, time=1),\n",
      "    Message('control_change', channel=0, control=2, value=80, time=0),\n",
      "    Message('note_on', channel=0, note=69, velocity=0, time=479),\n",
      "    Message('note_on', channel=0, note=71, velocity=80, time=1),\n",
      "    Message('control_change', channel=0, control=2, value=80, time=0),\n",
      "    Message('note_on', channel=0, note=71, velocity=0, time=959),\n",
      "    Message('note_on', channel=0, note=73, velocity=80, time=1),\n",
      "    Message('control_change', channel=0, control=2, value=80, time=0),\n",
      "    Message('note_on', channel=0, note=73, velocity=0, time=479),\n",
      "    Message('note_on', channel=0, note=76, velocity=80, time=1),\n",
      "    Message('control_change', channel=0, control=2, value=80, time=0),\n",
      "    Message('note_on', channel=0, note=76, velocity=0, time=479),\n",
      "    Message('note_on', channel=0, note=74, velocity=80, time=1),\n",
      "    Message('control_change', channel=0, control=2, value=80, time=0),\n",
      "    Message('note_on', channel=0, note=74, velocity=0, time=479),\n",
      "    Message('note_on', channel=0, note=74, velocity=80, time=1),\n",
      "    Message('control_change', channel=0, control=2, value=80, time=0),\n",
      "    Message('note_on', channel=0, note=74, velocity=0, time=479),\n",
      "    Message('note_on', channel=0, note=73, velocity=80, time=1),\n",
      "    Message('control_change', channel=0, control=2, value=80, time=0),\n",
      "    Message('note_on', channel=0, note=73, velocity=0, time=1439),\n",
      "    MetaMessage('end_of_track', time=1)]),\n",
      "  MidiTrack([\n",
      "    MetaMessage('track_name', name='Alto\\x00', time=0),\n",
      "    MetaMessage('key_signature', key='A', time=0),\n",
      "    Message('control_change', channel=1, control=121, value=0, time=0),\n",
      "    Message('program_change', channel=1, program=52, time=0),\n",
      "    Message('control_change', channel=1, control=7, value=100, time=0),\n",
      "    Message('control_change', channel=1, control=10, value=64, time=0),\n",
      "    Message('control_change', channel=1, control=91, value=0, time=0),\n",
      "    Message('control_change', channel=1, control=93, value=0, time=0),\n",
      "    MetaMessage('midi_port', port=0, time=0),\n",
      "    Message('note_on', channel=1, note=64, velocity=80, time=0),\n",
      "    Message('control_change', channel=1, control=2, value=80, time=0),\n",
      "    Message('note_on', channel=1, note=64, velocity=0, time=959),\n",
      "    Message('note_on', channel=1, note=64, velocity=80, time=1),\n",
      "    Message('control_change', channel=1, control=2, value=80, time=0),\n",
      "    Message('note_on', channel=1, note=64, velocity=0, time=479),\n",
      "    Message('note_on', channel=1, note=64, velocity=80, time=1),\n",
      "    Message('control_change', channel=1, control=2, value=80, time=0),\n",
      "    Message('note_on', channel=1, note=64, velocity=0, time=959),\n",
      "    Message('note_on', channel=1, note=64, velocity=80, time=1),\n",
      "    Message('control_change', channel=1, control=2, value=80, time=0),\n",
      "    Message('note_on', channel=1, note=64, velocity=0, time=479),\n",
      "    Message('note_on', channel=1, note=64, velocity=80, time=1),\n",
      "    Message('control_change', channel=1, control=2, value=80, time=0),\n",
      "    Message('note_on', channel=1, note=64, velocity=0, time=479),\n",
      "    Message('note_on', channel=1, note=64, velocity=80, time=1),\n",
      "    Message('control_change', channel=1, control=2, value=80, time=0),\n",
      "    Message('note_on', channel=1, note=64, velocity=0, time=479),\n",
      "    Message('note_on', channel=1, note=64, velocity=80, time=1),\n",
      "    Message('control_change', channel=1, control=2, value=80, time=0),\n",
      "    Message('note_on', channel=1, note=64, velocity=0, time=479),\n",
      "    Message('note_on', channel=1, note=64, velocity=80, time=1),\n",
      "    Message('control_change', channel=1, control=2, value=80, time=0),\n",
      "    Message('note_on', channel=1, note=64, velocity=0, time=1439),\n",
      "    Message('note_on', channel=1, note=64, velocity=80, time=1),\n",
      "    Message('control_change', channel=1, control=2, value=80, time=0),\n",
      "    Message('note_on', channel=1, note=64, velocity=0, time=959),\n",
      "    Message('note_on', channel=1, note=64, velocity=80, time=1),\n",
      "    Message('control_change', channel=1, control=2, value=80, time=0),\n",
      "    Message('note_on', channel=1, note=64, velocity=0, time=479),\n",
      "    Message('note_on', channel=1, note=64, velocity=80, time=1),\n",
      "    Message('control_change', channel=1, control=2, value=80, time=0),\n",
      "    Message('note_on', channel=1, note=64, velocity=0, time=959),\n",
      "    Message('note_on', channel=1, note=64, velocity=80, time=1),\n",
      "    Message('control_change', channel=1, control=2, value=80, time=0),\n",
      "    Message('note_on', channel=1, note=64, velocity=0, time=479),\n",
      "    Message('note_on', channel=1, note=68, velocity=80, time=1),\n",
      "    Message('control_change', channel=1, control=2, value=80, time=0),\n",
      "    Message('note_on', channel=1, note=68, velocity=0, time=479),\n",
      "    Message('note_on', channel=1, note=68, velocity=80, time=1),\n",
      "    Message('control_change', channel=1, control=2, value=80, time=0),\n",
      "    Message('note_on', channel=1, note=68, velocity=0, time=479),\n",
      "    Message('note_on', channel=1, note=68, velocity=80, time=1),\n",
      "    Message('control_change', channel=1, control=2, value=80, time=0),\n",
      "    Message('note_on', channel=1, note=68, velocity=0, time=479),\n",
      "    Message('note_on', channel=1, note=64, velocity=80, time=1),\n",
      "    Message('control_change', channel=1, control=2, value=80, time=0),\n",
      "    Message('note_on', channel=1, note=64, velocity=0, time=1439),\n",
      "    MetaMessage('end_of_track', time=1)]),\n",
      "  MidiTrack([\n",
      "    MetaMessage('track_name', name='Tenor\\x00', time=0),\n",
      "    MetaMessage('key_signature', key='A', time=0),\n",
      "    Message('control_change', channel=2, control=121, value=0, time=0),\n",
      "    Message('program_change', channel=2, program=52, time=0),\n",
      "    Message('control_change', channel=2, control=7, value=100, time=0),\n",
      "    Message('control_change', channel=2, control=10, value=64, time=0),\n",
      "    Message('control_change', channel=2, control=91, value=0, time=0),\n",
      "    Message('control_change', channel=2, control=93, value=0, time=0),\n",
      "    MetaMessage('midi_port', port=0, time=0),\n",
      "    Message('note_on', channel=2, note=57, velocity=80, time=0),\n",
      "    Message('control_change', channel=2, control=2, value=80, time=0),\n",
      "    Message('note_on', channel=2, note=57, velocity=0, time=959),\n",
      "    Message('note_on', channel=2, note=57, velocity=80, time=1),\n",
      "    Message('control_change', channel=2, control=2, value=80, time=0),\n",
      "    Message('note_on', channel=2, note=57, velocity=0, time=479),\n",
      "    Message('note_on', channel=2, note=56, velocity=80, time=1),\n",
      "    Message('control_change', channel=2, control=2, value=80, time=0),\n",
      "    Message('note_on', channel=2, note=56, velocity=0, time=959),\n",
      "    Message('note_on', channel=2, note=59, velocity=80, time=1),\n",
      "    Message('control_change', channel=2, control=2, value=80, time=0),\n",
      "    Message('note_on', channel=2, note=59, velocity=0, time=479),\n",
      "    Message('note_on', channel=2, note=57, velocity=80, time=1),\n",
      "    Message('control_change', channel=2, control=2, value=80, time=0),\n",
      "    Message('note_on', channel=2, note=57, velocity=0, time=479),\n",
      "    Message('note_on', channel=2, note=57, velocity=80, time=1),\n",
      "    Message('control_change', channel=2, control=2, value=80, time=0),\n",
      "    Message('note_on', channel=2, note=57, velocity=0, time=479),\n",
      "    Message('note_on', channel=2, note=57, velocity=80, time=1),\n",
      "    Message('control_change', channel=2, control=2, value=80, time=0),\n",
      "    Message('note_on', channel=2, note=57, velocity=0, time=479),\n",
      "    Message('note_on', channel=2, note=56, velocity=80, time=1),\n",
      "    Message('control_change', channel=2, control=2, value=80, time=0),\n",
      "    Message('note_on', channel=2, note=56, velocity=0, time=1439),\n",
      "    Message('note_on', channel=2, note=57, velocity=80, time=1),\n",
      "    Message('control_change', channel=2, control=2, value=80, time=0),\n",
      "    Message('note_on', channel=2, note=57, velocity=0, time=959),\n",
      "    Message('note_on', channel=2, note=57, velocity=80, time=1),\n",
      "    Message('control_change', channel=2, control=2, value=80, time=0),\n",
      "    Message('note_on', channel=2, note=57, velocity=0, time=479),\n",
      "    Message('note_on', channel=2, note=57, velocity=80, time=1),\n",
      "    Message('control_change', channel=2, control=2, value=80, time=0),\n",
      "    Message('note_on', channel=2, note=57, velocity=0, time=959),\n",
      "    Message('note_on', channel=2, note=57, velocity=80, time=1),\n",
      "    Message('control_change', channel=2, control=2, value=80, time=0),\n",
      "    Message('note_on', channel=2, note=57, velocity=0, time=479),\n",
      "    Message('note_on', channel=2, note=59, velocity=80, time=1),\n",
      "    Message('control_change', channel=2, control=2, value=80, time=0),\n",
      "    Message('note_on', channel=2, note=59, velocity=0, time=479),\n",
      "    Message('note_on', channel=2, note=59, velocity=80, time=1),\n",
      "    Message('control_change', channel=2, control=2, value=80, time=0),\n",
      "    Message('note_on', channel=2, note=59, velocity=0, time=479),\n",
      "    Message('note_on', channel=2, note=59, velocity=80, time=1),\n",
      "    Message('control_change', channel=2, control=2, value=80, time=0),\n",
      "    Message('note_on', channel=2, note=59, velocity=0, time=479),\n",
      "    Message('note_on', channel=2, note=57, velocity=80, time=1),\n",
      "    Message('control_change', channel=2, control=2, value=80, time=0),\n",
      "    Message('note_on', channel=2, note=57, velocity=0, time=1439),\n",
      "    MetaMessage('end_of_track', time=1)]),\n",
      "  MidiTrack([\n",
      "    MetaMessage('track_name', name='Bass\\x00', time=0),\n",
      "    MetaMessage('key_signature', key='A', time=0),\n",
      "    Message('control_change', channel=3, control=121, value=0, time=0),\n",
      "    Message('program_change', channel=3, program=52, time=0),\n",
      "    Message('control_change', channel=3, control=7, value=100, time=0),\n",
      "    Message('control_change', channel=3, control=10, value=64, time=0),\n",
      "    Message('control_change', channel=3, control=91, value=0, time=0),\n",
      "    Message('control_change', channel=3, control=93, value=0, time=0),\n",
      "    MetaMessage('midi_port', port=0, time=0),\n",
      "    Message('note_on', channel=3, note=45, velocity=80, time=0),\n",
      "    Message('control_change', channel=3, control=2, value=80, time=0),\n",
      "    Message('note_on', channel=3, note=45, velocity=0, time=959),\n",
      "    Message('note_on', channel=3, note=49, velocity=80, time=1),\n",
      "    Message('control_change', channel=3, control=2, value=80, time=0),\n",
      "    Message('note_on', channel=3, note=49, velocity=0, time=479),\n",
      "    Message('note_on', channel=3, note=52, velocity=80, time=1),\n",
      "    Message('control_change', channel=3, control=2, value=80, time=0),\n",
      "    Message('note_on', channel=3, note=52, velocity=0, time=959),\n",
      "    Message('note_on', channel=3, note=44, velocity=80, time=1),\n",
      "    Message('control_change', channel=3, control=2, value=80, time=0),\n",
      "    Message('note_on', channel=3, note=44, velocity=0, time=479),\n",
      "    Message('note_on', channel=3, note=45, velocity=80, time=1),\n",
      "    Message('control_change', channel=3, control=2, value=80, time=0),\n",
      "    Message('note_on', channel=3, note=45, velocity=0, time=479),\n",
      "    Message('note_on', channel=3, note=49, velocity=80, time=1),\n",
      "    Message('control_change', channel=3, control=2, value=80, time=0),\n",
      "    Message('note_on', channel=3, note=49, velocity=0, time=479),\n",
      "    Message('note_on', channel=3, note=45, velocity=80, time=1),\n",
      "    Message('control_change', channel=3, control=2, value=80, time=0),\n",
      "    Message('note_on', channel=3, note=45, velocity=0, time=479),\n",
      "    Message('note_on', channel=3, note=52, velocity=80, time=1),\n",
      "    Message('control_change', channel=3, control=2, value=80, time=0),\n",
      "    Message('note_on', channel=3, note=52, velocity=0, time=1439),\n",
      "    Message('note_on', channel=3, note=45, velocity=80, time=1),\n",
      "    Message('control_change', channel=3, control=2, value=80, time=0),\n",
      "    Message('note_on', channel=3, note=45, velocity=0, time=959),\n",
      "    Message('note_on', channel=3, note=49, velocity=80, time=1),\n",
      "    Message('control_change', channel=3, control=2, value=80, time=0),\n",
      "    Message('note_on', channel=3, note=49, velocity=0, time=479),\n",
      "    Message('note_on', channel=3, note=52, velocity=80, time=1),\n",
      "    Message('control_change', channel=3, control=2, value=80, time=0),\n",
      "    Message('note_on', channel=3, note=52, velocity=0, time=959),\n",
      "    Message('note_on', channel=3, note=45, velocity=80, time=1),\n",
      "    Message('control_change', channel=3, control=2, value=80, time=0),\n",
      "    Message('note_on', channel=3, note=45, velocity=0, time=479),\n",
      "    Message('note_on', channel=3, note=40, velocity=80, time=1),\n",
      "    Message('control_change', channel=3, control=2, value=80, time=0),\n",
      "    Message('note_on', channel=3, note=40, velocity=0, time=479),\n",
      "    Message('note_on', channel=3, note=40, velocity=80, time=1),\n",
      "    Message('control_change', channel=3, control=2, value=80, time=0),\n",
      "    Message('note_on', channel=3, note=40, velocity=0, time=479),\n",
      "    Message('note_on', channel=3, note=40, velocity=80, time=1),\n",
      "    Message('control_change', channel=3, control=2, value=80, time=0),\n",
      "    Message('note_on', channel=3, note=40, velocity=0, time=479),\n",
      "    Message('note_on', channel=3, note=45, velocity=80, time=1),\n",
      "    Message('control_change', channel=3, control=2, value=80, time=0),\n",
      "    Message('note_on', channel=3, note=45, velocity=0, time=1439),\n",
      "    MetaMessage('end_of_track', time=1)])\n",
      "])\n"
     ]
    }
   ],
   "source": [
    "from mido import MidiFile\n",
    "\n",
    "mid = MidiFile(path, clip=True)\n",
    "print(mid)"
   ]
  },
  {
   "cell_type": "code",
   "execution_count": 28,
   "metadata": {},
   "outputs": [
    {
     "data": {
      "text/plain": [
       "4"
      ]
     },
     "execution_count": 28,
     "metadata": {},
     "output_type": "execute_result"
    }
   ],
   "source": [
    "len(mid.tracks)"
   ]
  },
  {
   "cell_type": "markdown",
   "metadata": {},
   "source": [
    "### musicmxl"
   ]
  },
  {
   "cell_type": "code",
   "execution_count": 8,
   "metadata": {},
   "outputs": [],
   "source": [
    "import music21 as m21\n",
    "import IPython.display as ipd\n"
   ]
  },
  {
   "cell_type": "code",
   "execution_count": 2,
   "metadata": {},
   "outputs": [],
   "source": [
    "path = './harmony_sample_mxl/harmony_sample_0.mxl'"
   ]
  },
  {
   "cell_type": "code",
   "execution_count": 17,
   "metadata": {},
   "outputs": [
    {
     "data": {
      "text/html": [
       "<table border=\"1\" class=\"dataframe\">\n",
       "  <thead>\n",
       "    <tr style=\"text-align: right;\">\n",
       "      <th>Start</th>\n",
       "      <th>End</th>\n",
       "      <th>Pitch</th>\n",
       "      <th>Note</th>\n",
       "      <th>Velocity</th>\n",
       "      <th>Instrument</th>\n",
       "    </tr>\n",
       "  </thead>\n",
       "  <tbody>\n",
       "    <tr>\n",
       "      <td>0.00</td>\n",
       "      <td>2.00</td>\n",
       "      <td>57.00</td>\n",
       "      <td>&lt;music21.note.Note A&gt;</td>\n",
       "      <td>0.71</td>\n",
       "      <td>鋼琴</td>\n",
       "    </tr>\n",
       "    <tr>\n",
       "      <td>0.00</td>\n",
       "      <td>2.00</td>\n",
       "      <td>61.00</td>\n",
       "      <td>&lt;music21.note.Note C#&gt;</td>\n",
       "      <td>0.71</td>\n",
       "      <td>鋼琴</td>\n",
       "    </tr>\n",
       "    <tr>\n",
       "      <td>0.00</td>\n",
       "      <td>2.00</td>\n",
       "      <td>64.00</td>\n",
       "      <td>&lt;music21.note.Note E&gt;</td>\n",
       "      <td>0.71</td>\n",
       "      <td>鋼琴</td>\n",
       "    </tr>\n",
       "    <tr>\n",
       "      <td>0.00</td>\n",
       "      <td>2.00</td>\n",
       "      <td>69.00</td>\n",
       "      <td>&lt;music21.note.Note A&gt;</td>\n",
       "      <td>0.71</td>\n",
       "      <td>鋼琴</td>\n",
       "    </tr>\n",
       "    <tr>\n",
       "      <td>...</td>\n",
       "      <td>...</td>\n",
       "      <td>...</td>\n",
       "      <td>...</td>\n",
       "      <td>...</td>\n",
       "      <td>...</td>\n",
       "    </tr>\n",
       "    <tr>\n",
       "      <td>2.00</td>\n",
       "      <td>2.00</td>\n",
       "      <td>59.00</td>\n",
       "      <td>&lt;music21.note.Note B&gt;</td>\n",
       "      <td>0.71</td>\n",
       "      <td>鋼琴</td>\n",
       "    </tr>\n",
       "    <tr>\n",
       "      <td>2.00</td>\n",
       "      <td>2.00</td>\n",
       "      <td>64.00</td>\n",
       "      <td>&lt;music21.note.Note E&gt;</td>\n",
       "      <td>0.71</td>\n",
       "      <td>鋼琴</td>\n",
       "    </tr>\n",
       "    <tr>\n",
       "      <td>2.00</td>\n",
       "      <td>2.00</td>\n",
       "      <td>68.00</td>\n",
       "      <td>&lt;music21.note.Note G#&gt;</td>\n",
       "      <td>0.71</td>\n",
       "      <td>鋼琴</td>\n",
       "    </tr>\n",
       "    <tr>\n",
       "      <td>4.00</td>\n",
       "      <td>2.00</td>\n",
       "      <td>52.00</td>\n",
       "      <td>&lt;music21.note.Note E&gt;</td>\n",
       "      <td>0.71</td>\n",
       "      <td>鋼琴</td>\n",
       "    </tr>\n",
       "  </tbody>\n",
       "</table>"
      ],
      "text/plain": [
       "<IPython.core.display.HTML object>"
      ]
     },
     "execution_count": 17,
     "metadata": {},
     "output_type": "execute_result"
    }
   ],
   "source": [
    "def xml_to_list(xml):\n",
    "    \"\"\"Convert a music xml file to a list of note events\n",
    "\n",
    "    Notebook: C1/C1S2_MusicXML.ipynb\n",
    "\n",
    "    Args:\n",
    "        xml (str or music21.stream.Score): Either a path to a music xml file or a music21.stream.Score\n",
    "\n",
    "    Returns:\n",
    "        score (list): A list of note events where each note is specified as\n",
    "            ``[start, duration, pitch, velocity, label]``\n",
    "    \"\"\"\n",
    "\n",
    "    if isinstance(xml, str):\n",
    "        xml_data = m21.converter.parse(xml)\n",
    "    elif isinstance(xml, m21.stream.Score):\n",
    "        xml_data = xml\n",
    "    else:\n",
    "        raise RuntimeError('midi must be a path to a midi file or music21.stream.Score')\n",
    "\n",
    "    score = []\n",
    "\n",
    "    for part in xml_data.parts:\n",
    "        instrument = part.getInstrument().instrumentName\n",
    "\n",
    "        for note in part.flat.notes:\n",
    "\n",
    "            if note.isChord:\n",
    "                start = note.offset\n",
    "                duration = note.quarterLength\n",
    "\n",
    "                for chord_note in note.pitches:\n",
    "                    pitch = chord_note.ps\n",
    "                    volume = note.volume.realized\n",
    "                    score.append([start, duration, pitch, chord_note, volume, instrument])\n",
    "\n",
    "            else:\n",
    "                start = note.offset\n",
    "                duration = note.quarterLength\n",
    "                pitch = note.pitch.ps\n",
    "                volume = note.volume.realized\n",
    "                score.append([start, duration, pitch, note, volume, instrument])\n",
    "\n",
    "    score = sorted(score, key=lambda x: (x[0], x[2]))\n",
    "    return score\n",
    "\n",
    "xml_data = m21.converter.parse(path)\n",
    "xml_list = xml_to_list(xml_data)\n",
    "\n",
    "df = pd.DataFrame(xml_list[:9], columns=['Start', 'End', 'Pitch','Note', 'Velocity', 'Instrument'])\n",
    "html = df.to_html(index=False, float_format='%.2f', max_rows=8)\n",
    "ipd.HTML(html)"
   ]
  },
  {
   "cell_type": "code",
   "execution_count": 12,
   "metadata": {},
   "outputs": [
    {
     "data": {
      "text/html": [
       "<div>\n",
       "<style scoped>\n",
       "    .dataframe tbody tr th:only-of-type {\n",
       "        vertical-align: middle;\n",
       "    }\n",
       "\n",
       "    .dataframe tbody tr th {\n",
       "        vertical-align: top;\n",
       "    }\n",
       "\n",
       "    .dataframe thead th {\n",
       "        text-align: right;\n",
       "    }\n",
       "</style>\n",
       "<table border=\"1\" class=\"dataframe\">\n",
       "  <thead>\n",
       "    <tr style=\"text-align: right;\">\n",
       "      <th></th>\n",
       "      <th>Start</th>\n",
       "      <th>End</th>\n",
       "      <th>Pitch</th>\n",
       "      <th>Velocity</th>\n",
       "      <th>Instrument</th>\n",
       "    </tr>\n",
       "  </thead>\n",
       "  <tbody>\n",
       "    <tr>\n",
       "      <th>0</th>\n",
       "      <td>0.0</td>\n",
       "      <td>2.0</td>\n",
       "      <td>57.0</td>\n",
       "      <td>0.70866</td>\n",
       "      <td>鋼琴</td>\n",
       "    </tr>\n",
       "    <tr>\n",
       "      <th>1</th>\n",
       "      <td>0.0</td>\n",
       "      <td>2.0</td>\n",
       "      <td>61.0</td>\n",
       "      <td>0.70866</td>\n",
       "      <td>鋼琴</td>\n",
       "    </tr>\n",
       "    <tr>\n",
       "      <th>2</th>\n",
       "      <td>0.0</td>\n",
       "      <td>2.0</td>\n",
       "      <td>64.0</td>\n",
       "      <td>0.70866</td>\n",
       "      <td>鋼琴</td>\n",
       "    </tr>\n",
       "    <tr>\n",
       "      <th>3</th>\n",
       "      <td>0.0</td>\n",
       "      <td>2.0</td>\n",
       "      <td>69.0</td>\n",
       "      <td>0.70866</td>\n",
       "      <td>鋼琴</td>\n",
       "    </tr>\n",
       "    <tr>\n",
       "      <th>4</th>\n",
       "      <td>2.0</td>\n",
       "      <td>2.0</td>\n",
       "      <td>56.0</td>\n",
       "      <td>0.70866</td>\n",
       "      <td>鋼琴</td>\n",
       "    </tr>\n",
       "    <tr>\n",
       "      <th>5</th>\n",
       "      <td>2.0</td>\n",
       "      <td>2.0</td>\n",
       "      <td>59.0</td>\n",
       "      <td>0.70866</td>\n",
       "      <td>鋼琴</td>\n",
       "    </tr>\n",
       "    <tr>\n",
       "      <th>6</th>\n",
       "      <td>2.0</td>\n",
       "      <td>2.0</td>\n",
       "      <td>64.0</td>\n",
       "      <td>0.70866</td>\n",
       "      <td>鋼琴</td>\n",
       "    </tr>\n",
       "    <tr>\n",
       "      <th>7</th>\n",
       "      <td>2.0</td>\n",
       "      <td>2.0</td>\n",
       "      <td>68.0</td>\n",
       "      <td>0.70866</td>\n",
       "      <td>鋼琴</td>\n",
       "    </tr>\n",
       "    <tr>\n",
       "      <th>8</th>\n",
       "      <td>4.0</td>\n",
       "      <td>2.0</td>\n",
       "      <td>52.0</td>\n",
       "      <td>0.70866</td>\n",
       "      <td>鋼琴</td>\n",
       "    </tr>\n",
       "  </tbody>\n",
       "</table>\n",
       "</div>"
      ],
      "text/plain": [
       "   Start  End  Pitch  Velocity Instrument\n",
       "0    0.0  2.0   57.0   0.70866         鋼琴\n",
       "1    0.0  2.0   61.0   0.70866         鋼琴\n",
       "2    0.0  2.0   64.0   0.70866         鋼琴\n",
       "3    0.0  2.0   69.0   0.70866         鋼琴\n",
       "4    2.0  2.0   56.0   0.70866         鋼琴\n",
       "5    2.0  2.0   59.0   0.70866         鋼琴\n",
       "6    2.0  2.0   64.0   0.70866         鋼琴\n",
       "7    2.0  2.0   68.0   0.70866         鋼琴\n",
       "8    4.0  2.0   52.0   0.70866         鋼琴"
      ]
     },
     "execution_count": 12,
     "metadata": {},
     "output_type": "execute_result"
    }
   ],
   "source": [
    "pd.set_option(\"display.max_rows\", None, \"display.max_columns\", None)\n",
    "df"
   ]
  },
  {
   "cell_type": "code",
   "execution_count": 33,
   "metadata": {},
   "outputs": [],
   "source": [
    "path = './harmony_sample_xml/harmony_sample_0.xml'\n",
    "with open(path, 'r', encoding='utf-8') as stream:\n",
    "    xml_str = stream.read()"
   ]
  },
  {
   "cell_type": "code",
   "execution_count": 34,
   "metadata": {},
   "outputs": [
    {
     "name": "stdout",
     "output_type": "stream",
     "text": [
      "<note default-x=\"124.64\" default-y=\"-25.00\">\n",
      "        <pitch>\n",
      "          <step>A</step>\n",
      "          <octave>4</octave>\n",
      "          </pitch>\n",
      "        <duration>2</duration>\n",
      "        <voice>1</voice>\n",
      "        <type>half</type>\n",
      "        <stem>up</stem>\n",
      "        <staff>1</staff>\n",
      "        </note>\n"
     ]
    }
   ],
   "source": [
    "start = xml_str.find('<note')\n",
    "end = xml_str[start:].find('</note>') + start + len('</note>')\n",
    "print(xml_str[start:end])"
   ]
  },
  {
   "cell_type": "code",
   "execution_count": 35,
   "metadata": {
    "scrolled": false
   },
   "outputs": [
    {
     "data": {
      "text/plain": [
       "'<?xml version=\"1.0\" encoding=\"UTF-8\"?>\\n<!DOCTYPE score-partwise PUBLIC \"-//Recordare//DTD MusicXML 3.1 Partwise//EN\" \"http://www.musicxml.org/dtds/partwise.dtd\">\\n<score-partwise version=\"3.1\">\\n  <work>\\n    <work-title>harmony_sample_0</work-title>\\n    </work>\\n  <identification>\\n    <encoding>\\n      <software>MuseScore 3.6.2</software>\\n      <encoding-date>2022-05-12</encoding-date>\\n      <supports element=\"accidental\" type=\"yes\"/>\\n      <supports element=\"beam\" type=\"yes\"/>\\n      <supports element=\"print\" attribute=\"new-page\" type=\"yes\" value=\"yes\"/>\\n      <supports element=\"print\" attribute=\"new-system\" type=\"yes\" value=\"yes\"/>\\n      <supports element=\"stem\" type=\"yes\"/>\\n      </encoding>\\n    </identification>\\n  <defaults>\\n    <scaling>\\n      <millimeters>6.99912</millimeters>\\n      <tenths>40</tenths>\\n      </scaling>\\n    <page-layout>\\n      <page-height>1696.93</page-height>\\n      <page-width>1200.48</page-width>\\n      <page-margins type=\"even\">\\n        <left-margin>85.7251</left-margin>\\n        <right-margin>85.7251</right-margin>\\n        <top-margin>85.7251</top-margin>\\n        <bottom-margin>85.7251</bottom-margin>\\n        </page-margins>\\n      <page-margins type=\"odd\">\\n        <left-margin>85.7251</left-margin>\\n        <right-margin>85.7251</right-margin>\\n        <top-margin>85.7251</top-margin>\\n        <bottom-margin>85.7251</bottom-margin>\\n        </page-margins>\\n      </page-layout>\\n    <word-font font-family=\"Edwin\" font-size=\"10\"/>\\n    <lyric-font font-family=\"Edwin\" font-size=\"10\"/>\\n    </defaults>\\n  <credit page=\"1\">\\n    <credit-type>title</credit-type>\\n    <credit-words default-x=\"600.241\" default-y=\"1611.21\" justify=\"center\" valign=\"top\" font-size=\"22\">harmony_sample_0</credit-words>\\n    </credit>\\n  <part-list>\\n    <score-part id=\"P1\">\\n      <part-name>鋼琴</part-name>\\n      <part-abbreviation>Pno.</part-abbreviation>\\n      <score-instrument id=\"P1-I1\">\\n        <instrument-name>鋼琴</instrument-name>\\n        </score-instrument>\\n      <midi-device id=\"P1-I1\" port=\"1\"></midi-device>\\n      <midi-instrument id=\"P1-I1\">\\n        <midi-channel>1</midi-channel>\\n        <midi-program>1</midi-program>\\n        <volume>78.7402</volume>\\n        <pan>0</pan>\\n        </midi-instrument>\\n      </score-part>\\n    </part-list>\\n  <part id=\"P1\">\\n    <measure number=\"1\" width=\"218.92\">\\n      <print>\\n        <system-layout>\\n          <system-margins>\\n            <left-margin>65.90</left-margin>\\n            <right-margin>0.00</right-margin>\\n            </system-margins>\\n          <top-system-distance>170.00</top-system-distance>\\n          </system-layout>\\n        <staff-layout number=\"2\">\\n          <staff-distance>67.09</staff-distance>\\n          </staff-layout>\\n        </print>\\n      <attributes>\\n        <divisions>1</divisions>\\n        <key>\\n          <fifths>3</fifths>\\n          </key>\\n        <time symbol=\"cut\">\\n          <beats>2</beats>\\n          <beat-type>2</beat-type>\\n          </time>\\n        <staves>2</staves>\\n        <clef number=\"1\">\\n          <sign>G</sign>\\n          <line>2</line>\\n          </clef>\\n        <clef number=\"2\">\\n          <sign>F</sign>\\n          <line>4</line>\\n          </clef>\\n        </attributes>\\n      <note default-x=\"124.64\" default-y=\"-25.00\">\\n        <pitch>\\n          <step>A</step>\\n          <octave>4</octave>\\n          </pitch>\\n        <duration>2</duration>\\n        <voice>1</voice>\\n        <type>half</type>\\n        <stem>up</stem>\\n        <staff>1</staff>\\n        </note>\\n      <note default-x=\"170.88\" default-y=\"-30.00\">\\n        <pitch>\\n          <step>G</step>\\n          <alter>1</alter>\\n          <octave>4</octave>\\n          </pitch>\\n        <duration>2</duration>\\n        <voice>1</voice>\\n        <type>half</type>\\n        <stem>up</stem>\\n        <staff>1</staff>\\n        </note>\\n      <backup>\\n        <duration>4</duration>\\n        </backup>\\n      <note default-x=\"124.64\" default-y=\"-40.00\">\\n        <pitch>\\n          <step>E</step>\\n          <octave>4</octave>\\n          </pitch>\\n        <duration>2</duration>\\n        <voice>2</voice>\\n        <type>half</type>\\n        <stem>down</stem>\\n        <staff>1</staff>\\n        </note>\\n      <note default-x=\"170.88\" default-y=\"-40.00\">\\n        <pitch>\\n          <step>E</step>\\n          <octave>4</octave>\\n          </pitch>\\n        <duration>2</duration>\\n        <voice>2</voice>\\n        <type>half</type>\\n        <stem>down</stem>\\n        <staff>1</staff>\\n        </note>\\n      <backup>\\n        <duration>4</duration>\\n        </backup>\\n      <note default-x=\"124.64\" default-y=\"-97.09\">\\n        <pitch>\\n          <step>C</step>\\n          <alter>1</alter>\\n          <octave>4</octave>\\n          </pitch>\\n        <duration>2</duration>\\n        <voice>5</voice>\\n        <type>half</type>\\n        <stem>up</stem>\\n        <staff>2</staff>\\n        </note>\\n      <note default-x=\"170.88\" default-y=\"-102.09\">\\n        <pitch>\\n          <step>B</step>\\n          <octave>3</octave>\\n          </pitch>\\n        <duration>2</duration>\\n        <voice>5</voice>\\n        <type>half</type>\\n        <stem>up</stem>\\n        <staff>2</staff>\\n        </note>\\n      <backup>\\n        <duration>4</duration>\\n        </backup>\\n      <note default-x=\"124.64\" default-y=\"-107.09\">\\n        <pitch>\\n          <step>A</step>\\n          <octave>3</octave>\\n          </pitch>\\n        <duration>2</duration>\\n        <voice>6</voice>\\n        <type>half</type>\\n        <stem>down</stem>\\n        <staff>2</staff>\\n        </note>\\n      <note default-x=\"170.88\" default-y=\"-112.09\">\\n        <pitch>\\n          <step>G</step>\\n          <alter>1</alter>\\n          <octave>3</octave>\\n          </pitch>\\n        <duration>2</duration>\\n        <voice>6</voice>\\n        <type>half</type>\\n        <stem>down</stem>\\n        <staff>2</staff>\\n        </note>\\n      </measure>\\n    <measure number=\"2\" width=\"103.09\">\\n      <note default-x=\"13.00\" default-y=\"-20.00\">\\n        <pitch>\\n          <step>B</step>\\n          <octave>4</octave>\\n          </pitch>\\n        <duration>2</duration>\\n        <voice>1</voice>\\n        <type>half</type>\\n        <stem>up</stem>\\n        <staff>1</staff>\\n        </note>\\n      <note default-x=\"57.14\" default-y=\"-15.00\">\\n        <pitch>\\n          <step>C</step>\\n          <alter>1</alter>\\n          <octave>5</octave>\\n          </pitch>\\n        <duration>2</duration>\\n        <voice>1</voice>\\n        <type>half</type>\\n        <stem>up</stem>\\n        <staff>1</staff>\\n        </note>\\n      <backup>\\n        <duration>4</duration>\\n        </backup>\\n      <note default-x=\"13.00\" default-y=\"-40.00\">\\n        <pitch>\\n          <step>E</step>\\n          <octave>4</octave>\\n          </pitch>\\n        <duration>2</duration>\\n        <voice>2</voice>\\n        <type>half</type>\\n        <stem>down</stem>\\n        <staff>1</staff>\\n        </note>\\n      <note default-x=\"57.14\" default-y=\"-50.00\">\\n        <pitch>\\n          <step>C</step>\\n          <alter>1</alter>\\n          <octave>4</octave>\\n          </pitch>\\n        <duration>2</duration>\\n        <voice>2</voice>\\n        <type>half</type>\\n        <stem>down</stem>\\n        <staff>1</staff>\\n        </note>\\n      <backup>\\n        <duration>4</duration>\\n        </backup>\\n      <note default-x=\"13.00\" default-y=\"-102.09\">\\n        <pitch>\\n          <step>B</step>\\n          <octave>3</octave>\\n          </pitch>\\n        <duration>2</duration>\\n        <voice>5</voice>\\n        <type>half</type>\\n        <stem>up</stem>\\n        <staff>2</staff>\\n        </note>\\n      <note default-x=\"57.14\" default-y=\"-107.09\">\\n        <pitch>\\n          <step>A</step>\\n          <octave>3</octave>\\n          </pitch>\\n        <duration>2</duration>\\n        <voice>5</voice>\\n        <type>half</type>\\n        <stem>up</stem>\\n        <staff>2</staff>\\n        </note>\\n      <backup>\\n        <duration>4</duration>\\n        </backup>\\n      <note default-x=\"13.00\" default-y=\"-122.09\">\\n        <pitch>\\n          <step>E</step>\\n          <octave>3</octave>\\n          </pitch>\\n        <duration>2</duration>\\n        <voice>6</voice>\\n        <type>half</type>\\n        <stem>down</stem>\\n        <staff>2</staff>\\n        </note>\\n      <note default-x=\"57.14\" default-y=\"-117.09\">\\n        <pitch>\\n          <step>F</step>\\n          <alter>1</alter>\\n          <octave>3</octave>\\n          </pitch>\\n        <duration>2</duration>\\n        <voice>6</voice>\\n        <type>half</type>\\n        <stem>down</stem>\\n        <staff>2</staff>\\n        </note>\\n      </measure>\\n    <measure number=\"3\" width=\"114.99\">\\n      <note default-x=\"16.50\" default-y=\"-25.00\">\\n        <pitch>\\n          <step>A</step>\\n          <octave>4</octave>\\n          </pitch>\\n        <duration>2</duration>\\n        <voice>1</voice>\\n        <type>half</type>\\n        <stem>up</stem>\\n        <staff>1</staff>\\n        </note>\\n      <note default-x=\"64.84\" default-y=\"-30.00\">\\n        <pitch>\\n          <step>G</step>\\n          <alter>1</alter>\\n          <octave>4</octave>\\n          </pitch>\\n        <duration>2</duration>\\n        <voice>1</voice>\\n        <type>half</type>\\n        <stem>up</stem>\\n        <staff>1</staff>\\n        </note>\\n      <backup>\\n        <duration>4</duration>\\n        </backup>\\n      <note default-x=\"16.50\" default-y=\"-50.00\">\\n        <pitch>\\n          <step>C</step>\\n          <alter>1</alter>\\n          <octave>4</octave>\\n          </pitch>\\n        <duration>2</duration>\\n        <voice>2</voice>\\n        <type>half</type>\\n        <stem>down</stem>\\n        <staff>1</staff>\\n        </note>\\n      <note default-x=\"64.84\" default-y=\"-45.00\">\\n        <pitch>\\n          <step>D</step>\\n          <octave>4</octave>\\n          </pitch>\\n        <duration>2</duration>\\n        <voice>2</voice>\\n        <type>half</type>\\n        <stem>down</stem>\\n        <staff>1</staff>\\n        </note>\\n      <backup>\\n        <duration>4</duration>\\n        </backup>\\n      <note default-x=\"16.50\" default-y=\"-97.09\">\\n        <pitch>\\n          <step>C</step>\\n          <alter>1</alter>\\n          <octave>4</octave>\\n          </pitch>\\n        <duration>2</duration>\\n        <voice>5</voice>\\n        <type>half</type>\\n        <stem>up</stem>\\n        <staff>2</staff>\\n        </note>\\n      <note default-x=\"64.84\" default-y=\"-92.09\">\\n        <pitch>\\n          <step>D</step>\\n          <octave>4</octave>\\n          </pitch>\\n        <duration>2</duration>\\n        <voice>5</voice>\\n        <type>half</type>\\n        <stem>up</stem>\\n        <staff>2</staff>\\n        </note>\\n      <backup>\\n        <duration>4</duration>\\n        </backup>\\n      <note default-x=\"16.50\" default-y=\"-142.09\">\\n        <pitch>\\n          <step>A</step>\\n          <octave>2</octave>\\n          </pitch>\\n        <duration>2</duration>\\n        <voice>6</voice>\\n        <type>half</type>\\n        <stem>down</stem>\\n        <staff>2</staff>\\n        </note>\\n      <note default-x=\"64.84\" default-y=\"-137.09\">\\n        <pitch>\\n          <step>B</step>\\n          <octave>2</octave>\\n          </pitch>\\n        <duration>2</duration>\\n        <voice>6</voice>\\n        <type>half</type>\\n        <stem>down</stem>\\n        <staff>2</staff>\\n        </note>\\n      </measure>\\n    <measure number=\"4\" width=\"103.09\">\\n      <note default-x=\"13.00\" default-y=\"-5.00\">\\n        <pitch>\\n          <step>E</step>\\n          <octave>5</octave>\\n          </pitch>\\n        <duration>2</duration>\\n        <voice>1</voice>\\n        <type>half</type>\\n        <stem>up</stem>\\n        <staff>1</staff>\\n        </note>\\n      <note default-x=\"57.14\" default-y=\"-5.00\">\\n        <pitch>\\n          <step>E</step>\\n          <octave>5</octave>\\n          </pitch>\\n        <duration>2</duration>\\n        <voice>1</voice>\\n        <type>half</type>\\n        <stem>up</stem>\\n        <staff>1</staff>\\n        </note>\\n      <backup>\\n        <duration>4</duration>\\n        </backup>\\n      <note default-x=\"13.00\" default-y=\"-20.00\">\\n        <pitch>\\n          <step>B</step>\\n          <octave>4</octave>\\n          </pitch>\\n        <duration>2</duration>\\n        <voice>2</voice>\\n        <type>half</type>\\n        <stem>down</stem>\\n        <staff>1</staff>\\n        </note>\\n      <note default-x=\"57.14\" default-y=\"-30.00\">\\n        <pitch>\\n          <step>G</step>\\n          <alter>1</alter>\\n          <octave>4</octave>\\n          </pitch>\\n        <duration>2</duration>\\n        <voice>2</voice>\\n        <type>half</type>\\n        <stem>down</stem>\\n        <staff>1</staff>\\n        </note>\\n      <backup>\\n        <duration>4</duration>\\n        </backup>\\n      <note default-x=\"13.00\" default-y=\"-112.09\">\\n        <pitch>\\n          <step>G</step>\\n          <alter>1</alter>\\n          <octave>3</octave>\\n          </pitch>\\n        <duration>2</duration>\\n        <voice>5</voice>\\n        <type>half</type>\\n        <stem>up</stem>\\n        <staff>2</staff>\\n        </note>\\n      <note default-x=\"57.14\" default-y=\"-112.09\">\\n        <pitch>\\n          <step>G</step>\\n          <alter>1</alter>\\n          <octave>3</octave>\\n          </pitch>\\n        <duration>2</duration>\\n        <voice>5</voice>\\n        <type>half</type>\\n        <stem>up</stem>\\n        <staff>2</staff>\\n        </note>\\n      <backup>\\n        <duration>4</duration>\\n        </backup>\\n      <note default-x=\"13.00\" default-y=\"-122.09\">\\n        <pitch>\\n          <step>E</step>\\n          <octave>3</octave>\\n          </pitch>\\n        <duration>2</duration>\\n        <voice>6</voice>\\n        <type>half</type>\\n        <stem>down</stem>\\n        <staff>2</staff>\\n        </note>\\n      <note default-x=\"57.14\" default-y=\"-132.09\">\\n        <pitch>\\n          <step>C</step>\\n          <alter>1</alter>\\n          <octave>3</octave>\\n          </pitch>\\n        <duration>2</duration>\\n        <voice>6</voice>\\n        <type>half</type>\\n        <stem>down</stem>\\n        <staff>2</staff>\\n        </note>\\n      </measure>\\n    <measure number=\"5\" width=\"103.09\">\\n      <note default-x=\"13.00\" default-y=\"-5.00\">\\n        <pitch>\\n          <step>E</step>\\n          <octave>5</octave>\\n          </pitch>\\n        <duration>2</duration>\\n        <voice>1</voice>\\n        <type>half</type>\\n        <stem>up</stem>\\n        <staff>1</staff>\\n        </note>\\n      <note default-x=\"57.14\" default-y=\"-10.00\">\\n        <pitch>\\n          <step>D</step>\\n          <octave>5</octave>\\n          </pitch>\\n        <duration>2</duration>\\n        <voice>1</voice>\\n        <type>half</type>\\n        <stem>up</stem>\\n        <staff>1</staff>\\n        </note>\\n      <backup>\\n        <duration>4</duration>\\n        </backup>\\n      <note default-x=\"13.00\" default-y=\"-40.00\">\\n        <pitch>\\n          <step>E</step>\\n          <octave>4</octave>\\n          </pitch>\\n        <duration>2</duration>\\n        <voice>2</voice>\\n        <type>half</type>\\n        <stem>down</stem>\\n        <staff>1</staff>\\n        </note>\\n      <note default-x=\"57.14\" default-y=\"-35.00\">\\n        <pitch>\\n          <step>F</step>\\n          <alter>1</alter>\\n          <octave>4</octave>\\n          </pitch>\\n        <duration>2</duration>\\n        <voice>2</voice>\\n        <type>half</type>\\n        <stem>down</stem>\\n        <staff>1</staff>\\n        </note>\\n      <backup>\\n        <duration>4</duration>\\n        </backup>\\n      <note default-x=\"13.00\" default-y=\"-107.09\">\\n        <pitch>\\n          <step>A</step>\\n          <octave>3</octave>\\n          </pitch>\\n        <duration>2</duration>\\n        <voice>5</voice>\\n        <type>half</type>\\n        <stem>up</stem>\\n        <staff>2</staff>\\n        </note>\\n      <note default-x=\"57.14\" default-y=\"-102.09\">\\n        <pitch>\\n          <step>B</step>\\n          <octave>3</octave>\\n          </pitch>\\n        <duration>2</duration>\\n        <voice>5</voice>\\n        <type>half</type>\\n        <stem>up</stem>\\n        <staff>2</staff>\\n        </note>\\n      <backup>\\n        <duration>4</duration>\\n        </backup>\\n      <note default-x=\"13.00\" default-y=\"-142.09\">\\n        <pitch>\\n          <step>A</step>\\n          <octave>2</octave>\\n          </pitch>\\n        <duration>2</duration>\\n        <voice>6</voice>\\n        <type>half</type>\\n        <stem>down</stem>\\n        <staff>2</staff>\\n        </note>\\n      <note default-x=\"57.14\" default-y=\"-127.09\">\\n        <pitch>\\n          <step>D</step>\\n          <octave>3</octave>\\n          </pitch>\\n        <duration>2</duration>\\n        <voice>6</voice>\\n        <type>half</type>\\n        <stem>down</stem>\\n        <staff>2</staff>\\n        </note>\\n      </measure>\\n    <measure number=\"6\" width=\"107.29\">\\n      <note default-x=\"13.00\" default-y=\"-15.00\">\\n        <pitch>\\n          <step>C</step>\\n          <alter>1</alter>\\n          <octave>5</octave>\\n          </pitch>\\n        <duration>2</duration>\\n        <voice>1</voice>\\n        <type>half</type>\\n        <stem>up</stem>\\n        <staff>1</staff>\\n        </note>\\n      <note default-x=\"59.24\" default-y=\"-15.00\">\\n        <pitch>\\n          <step>C</step>\\n          <alter>1</alter>\\n          <octave>5</octave>\\n          </pitch>\\n        <duration>2</duration>\\n        <voice>1</voice>\\n        <type>half</type>\\n        <stem>up</stem>\\n        <staff>1</staff>\\n        </note>\\n      <backup>\\n        <duration>4</duration>\\n        </backup>\\n      <note default-x=\"13.00\" default-y=\"-40.00\">\\n        <pitch>\\n          <step>E</step>\\n          <octave>4</octave>\\n          </pitch>\\n        <duration>2</duration>\\n        <voice>2</voice>\\n        <type>half</type>\\n        <stem>down</stem>\\n        <staff>1</staff>\\n        </note>\\n      <note default-x=\"59.24\" default-y=\"-50.00\">\\n        <pitch>\\n          <step>C</step>\\n          <alter>1</alter>\\n          <octave>4</octave>\\n          </pitch>\\n        <duration>2</duration>\\n        <voice>2</voice>\\n        <type>half</type>\\n        <stem>down</stem>\\n        <staff>1</staff>\\n        </note>\\n      <backup>\\n        <duration>4</duration>\\n        </backup>\\n      <note default-x=\"13.00\" default-y=\"-112.09\">\\n        <pitch>\\n          <step>G</step>\\n          <alter>1</alter>\\n          <octave>3</octave>\\n          </pitch>\\n        <duration>2</duration>\\n        <voice>5</voice>\\n        <type>half</type>\\n        <stem>up</stem>\\n        <staff>2</staff>\\n        </note>\\n      <note default-x=\"59.24\" default-y=\"-87.09\">\\n        <pitch>\\n          <step>E</step>\\n          <octave>4</octave>\\n          </pitch>\\n        <duration>2</duration>\\n        <voice>5</voice>\\n        <type>half</type>\\n        <stem>up</stem>\\n        <staff>2</staff>\\n        </note>\\n      <backup>\\n        <duration>4</duration>\\n        </backup>\\n      <note default-x=\"13.00\" default-y=\"-132.09\">\\n        <pitch>\\n          <step>C</step>\\n          <alter>1</alter>\\n          <octave>3</octave>\\n          </pitch>\\n        <duration>2</duration>\\n        <voice>6</voice>\\n        <type>half</type>\\n        <stem>down</stem>\\n        <staff>2</staff>\\n        </note>\\n      <note default-x=\"59.24\" default-y=\"-142.09\">\\n        <pitch>\\n          <step>A</step>\\n          <octave>2</octave>\\n          </pitch>\\n        <duration>2</duration>\\n        <voice>6</voice>\\n        <type>half</type>\\n        <stem>down</stem>\\n        <staff>2</staff>\\n        </note>\\n      </measure>\\n    <measure number=\"7\" width=\"114.99\">\\n      <note default-x=\"16.50\" default-y=\"-20.00\">\\n        <pitch>\\n          <step>B</step>\\n          <octave>4</octave>\\n          </pitch>\\n        <duration>2</duration>\\n        <voice>1</voice>\\n        <type>half</type>\\n        <stem>up</stem>\\n        <staff>1</staff>\\n        </note>\\n      <note default-x=\"64.84\" default-y=\"-30.00\">\\n        <pitch>\\n          <step>G</step>\\n          <alter>1</alter>\\n          <octave>4</octave>\\n          </pitch>\\n        <duration>2</duration>\\n        <voice>1</voice>\\n        <type>half</type>\\n        <stem>up</stem>\\n        <staff>1</staff>\\n        </note>\\n      <backup>\\n        <duration>4</duration>\\n        </backup>\\n      <note default-x=\"16.50\" default-y=\"-45.00\">\\n        <pitch>\\n          <step>D</step>\\n          <octave>4</octave>\\n          </pitch>\\n        <duration>2</duration>\\n        <voice>2</voice>\\n        <type>half</type>\\n        <stem>down</stem>\\n        <staff>1</staff>\\n        </note>\\n      <note default-x=\"64.84\" default-y=\"-40.00\">\\n        <pitch>\\n          <step>E</step>\\n          <octave>4</octave>\\n          </pitch>\\n        <duration>2</duration>\\n        <voice>2</voice>\\n        <type>half</type>\\n        <stem>down</stem>\\n        <staff>1</staff>\\n        </note>\\n      <backup>\\n        <duration>4</duration>\\n        </backup>\\n      <note default-x=\"16.50\" default-y=\"-82.09\">\\n        <pitch>\\n          <step>F</step>\\n          <alter>1</alter>\\n          <octave>4</octave>\\n          </pitch>\\n        <duration>2</duration>\\n        <voice>5</voice>\\n        <type>half</type>\\n        <stem>up</stem>\\n        <staff>2</staff>\\n        </note>\\n      <note default-x=\"64.84\" default-y=\"-77.09\">\\n        <pitch>\\n          <step>G</step>\\n          <alter>1</alter>\\n          <octave>4</octave>\\n          </pitch>\\n        <duration>2</duration>\\n        <voice>5</voice>\\n        <type>half</type>\\n        <stem>up</stem>\\n        <staff>2</staff>\\n        </note>\\n      <backup>\\n        <duration>4</duration>\\n        </backup>\\n      <note default-x=\"16.50\" default-y=\"-137.09\">\\n        <pitch>\\n          <step>B</step>\\n          <octave>2</octave>\\n          </pitch>\\n        <duration>2</duration>\\n        <voice>6</voice>\\n        <type>half</type>\\n        <stem>down</stem>\\n        <staff>2</staff>\\n        </note>\\n      <note default-x=\"64.84\" default-y=\"-122.09\">\\n        <pitch>\\n          <step>E</step>\\n          <octave>3</octave>\\n          </pitch>\\n        <duration>2</duration>\\n        <voice>6</voice>\\n        <type>half</type>\\n        <stem>down</stem>\\n        <staff>2</staff>\\n        </note>\\n      </measure>\\n    <measure number=\"8\" width=\"97.36\">\\n      <note default-x=\"16.50\" default-y=\"-25.00\">\\n        <pitch>\\n          <step>A</step>\\n          <octave>4</octave>\\n          </pitch>\\n        <duration>4</duration>\\n        <voice>1</voice>\\n        <type>whole</type>\\n        <staff>1</staff>\\n        </note>\\n      <backup>\\n        <duration>4</duration>\\n        </backup>\\n      <note default-x=\"16.50\" default-y=\"-60.00\">\\n        <pitch>\\n          <step>A</step>\\n          <octave>3</octave>\\n          </pitch>\\n        <duration>4</duration>\\n        <voice>2</voice>\\n        <type>whole</type>\\n        <staff>1</staff>\\n        </note>\\n      <backup>\\n        <duration>4</duration>\\n        </backup>\\n      <note default-x=\"16.50\" default-y=\"-87.09\">\\n        <pitch>\\n          <step>E</step>\\n          <octave>4</octave>\\n          </pitch>\\n        <duration>4</duration>\\n        <voice>5</voice>\\n        <type>whole</type>\\n        <staff>2</staff>\\n        </note>\\n      <backup>\\n        <duration>4</duration>\\n        </backup>\\n      <note default-x=\"16.50\" default-y=\"-142.09\">\\n        <pitch>\\n          <step>A</step>\\n          <octave>2</octave>\\n          </pitch>\\n        <duration>4</duration>\\n        <voice>6</voice>\\n        <type>whole</type>\\n        <staff>2</staff>\\n        </note>\\n      <barline location=\"right\">\\n        <bar-style>light-light</bar-style>\\n        </barline>\\n      </measure>\\n    </part>\\n  </score-partwise>\\n'"
      ]
     },
     "execution_count": 35,
     "metadata": {},
     "output_type": "execute_result"
    }
   ],
   "source": [
    "xml_str"
   ]
  },
  {
   "cell_type": "code",
   "execution_count": null,
   "metadata": {},
   "outputs": [],
   "source": []
  }
 ],
 "metadata": {
  "kernelspec": {
   "display_name": "Python 3",
   "language": "python",
   "name": "python3"
  },
  "language_info": {
   "codemirror_mode": {
    "name": "ipython",
    "version": 3
   },
   "file_extension": ".py",
   "mimetype": "text/x-python",
   "name": "python",
   "nbconvert_exporter": "python",
   "pygments_lexer": "ipython3",
   "version": "3.8.5"
  }
 },
 "nbformat": 4,
 "nbformat_minor": 4
}
